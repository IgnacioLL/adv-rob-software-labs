{
 "cells": [
  {
   "cell_type": "markdown",
   "id": "9a53db75",
   "metadata": {},
   "source": [
    "# Table Of Content:\n",
    "* Preliminaries\n",
    "    * [Before starting the lab !](#lab0)\n",
    "    * [Structure of the lab](#structure)\n",
    "    * [Objective of the lab](#objective)\n",
    "    * [How to work for the lab?](#howto)\n",
    "    * [Setting up the scene](#scene)\n",
    "* [Part 1: Geometry](#part1)\n",
    "    * [I. Computing the target configurations (Inverse Geometry)](#IG)\n",
    "    * [II. Motion planning](#motion_planning)\n",
    "* [Part 2: Dynamics](#part2)\n",
    "    * [I. From a path to a trajectory](#TO)\n",
    "    * [II. Implementing a control law](#control)\n",
    "\n",
    "\n"
   ]
  },
  {
   "cell_type": "markdown",
   "id": "696f2138",
   "metadata": {},
   "source": [
    "# Before starting the lab ! <a class=\"anchor\" id=\"lab0\"></a>\n",
    "Before getting into the lab, it is recommended to follow the notebook [lab_0_geometry_with_pinocchio.ipynb](./lab_0_geometry_with_pinocchio.ipynb) to get familiar with the pinocchio API.\n",
    "\n",
    "\n",
    "# Structure of the lab:  <a class=\"anchor\" id=\"structure\"></a>\n",
    "The lab is divided into separate python files, each designed for you to address a sub-problem atomically. These instructions will indicate where you should implement each task. At the end of each file, in the 'main' \n",
    "section you can locally test your functions. It is important that you **do not modify the names and signatures** of the methods provided: When marking the lab, I will in first instance run code that will use these functions to evaluate quantitatively the methods you proposed. "
   ]
  },
  {
   "cell_type": "markdown",
   "id": "c5b8ae95",
   "metadata": {},
   "source": [
    "# Objective of the lab <a class=\"anchor\" id=\"objective\"></a>\n",
    "Use both effectors of the nextage robot to grab a box and bring it to a target location.\n",
    "You will first plan a valid motion that brings the robot to a grasping configuration, then moves the box to \n",
    "a desired location while avoiding collisions. For this you will use a combination of motion planning and numerical optimisation.\n",
    "\n",
    "Once this motion plan will be computed, you will test it in a dynamics simulator using a control method of your choice.\n",
    "This will be the objective of part 2 of the lab.\n",
    "\n",
    "In the optional part 3 of the lab (for exceptional marks), you will be asked to self-propose a more complex task to achieve, which will require you to implement additional features to your framework. "
   ]
  },
  {
   "cell_type": "markdown",
   "id": "261fc342",
   "metadata": {},
   "source": [
    "# How to work for the lab? <a class=\"anchor\" id=\"howto\"></a>\n",
    "You have been used to notebooks for the tutorials, and these instructions also take the form of a notebook. To implement this lab I personally chose to work directly with a python IDE and I recommend to do the same. I worked with spyder but any python IDE might work as well. You can decide to work using notebooks if you prefer, this is not a problem, as long as your final deliverables meet the requirement specification.\n",
    "\n",
    "**In any case, keep your code in a versioning system**. You are free to use github gitlab or whatever service you are more comfortable working with. The easiest way to work is to \"fork\" the lab repository from github into your own account and adding this new repository as a remote server.\n",
    "\n",
    "\n",
    "\n",
    "## Code production\n",
    "You are free to reuse code from the tutorials or any other source as long as you explicitely **cite its origin both in the code and in your report**. You are free to use any method from the pinocchio API and to create as many methods as you would like. **If you want to use non-native python libraries**, we must discuss this. Remember that I will have to run your code to assess your lab!\n",
    "\n",
    "\n",
    "## I don't like the approach you have proposed to solve the problem. Can I do my own thing?\n",
    "Yes... and no. First of all, I would suggest that you discuss this with the TAs / myself before going for it. Secondly, you will see in the submission requirements that I only need some methods to be implemented for me to assess quantitatively your work. I consider that if all of these methods are implemented you followed the instructions. The report will then give you a chance to justify your approach. This should give you a lot of freedom. In particular at step 2 I propose to use motion planning to compute a reference path for the robot. If you choose a different approach it does not matter to me as long as we discussed it before and that it is not hard-coded somehow. "
   ]
  },
  {
   "cell_type": "markdown",
   "id": "d1287f04",
   "metadata": {},
   "source": [
    "# Setting up the scene <a class=\"anchor\" id=\"scene\"></a>\n",
    "\n",
    "To ensure efficient use of resources and to prevent the unintentional creation of multiple Meshcat server instances, I recommend initializing the server through the command line. Here's how you can do it:\n",
    "\n",
    "- Open a terminal. If you're on Ubuntu, you can quickly do this by pressing `ctrl + alt + t`.\n",
    "- Enter the following command and press `Enter`:\n",
    "   ```\n",
    "   meshcat-server \n",
    "   ```\n",
    "- Upon running the command, you'll receive an output that includes the \"zmq_url\". This is the address to which you will connect.\n",
    "\n",
    "**Tip**: You can run terminal commands directly from the Jupyter Notebook by prefixing them with `!`. However, for the purpose of this lab, I recommend initializing the Meshcat server directly from the terminal.\n"
   ]
  },
  {
   "cell_type": "raw",
   "id": "e3ff722c",
   "metadata": {},
   "source": [
    "!meshcat-server"
   ]
  },
  {
   "cell_type": "markdown",
   "id": "f37e77a0",
   "metadata": {},
   "source": [
    "A helper function has been implemented to automatically connect to meshcat server, load the scene and the robot, and setup the collision handler in pinocchio for you."
   ]
  },
  {
   "cell_type": "code",
   "execution_count": 4,
   "id": "2aec70f0",
   "metadata": {},
   "outputs": [
    {
     "name": "stdout",
     "output_type": "stream",
     "text": [
      "Wrapper tries to connect to server <tcp://127.0.0.1:6000>\n",
      "You can open the visualizer by visiting the following URL:\n",
      "http://127.0.0.1:7000/static/\n"
     ]
    }
   ],
   "source": [
    "from tools import setupwithmeshcat\n",
    "robot, cube, viz = setupwithmeshcat(url=\"tcp://127.0.0.1:6000\")"
   ]
  },
  {
   "cell_type": "markdown",
   "id": "3d508444",
   "metadata": {},
   "source": [
    "```setupwithmeshcat``` takes an optional parameter corresponding to the url (zmq_url) of the meshcat server (given as a string). If no url is provided, it uses the variable ```MESHCAT_URL``` defined in config.py . If for some reason the default url does not match the one you are using, you can either provide this url to ```setupwithmeshcat``` or simply replace the value of ```MESHCAT_URL```"
   ]
  },
  {
   "cell_type": "code",
   "execution_count": 5,
   "id": "396d5aa6",
   "metadata": {},
   "outputs": [
    {
     "name": "stdout",
     "output_type": "stream",
     "text": [
      "tcp://127.0.0.1:6000\n"
     ]
    }
   ],
   "source": [
    "from config import MESHCAT_URL\n",
    "print(MESHCAT_URL)"
   ]
  },
  {
   "cell_type": "code",
   "execution_count": 6,
   "id": "75df2ea5",
   "metadata": {},
   "outputs": [
    {
     "data": {
      "text/html": [
       "\n",
       "            <div style=\"height: 400px; width: 100%; overflow-x: auto; overflow-y: hidden; resize: both\">\n",
       "            <iframe src=\"http://127.0.0.1:7000/static/\" style=\"width: 100%; height: 100%; border: none\"></iframe>\n",
       "            </div>\n",
       "            "
      ],
      "text/plain": [
       "<IPython.core.display.HTML object>"
      ]
     },
     "execution_count": 6,
     "metadata": {},
     "output_type": "execute_result"
    }
   ],
   "source": [
    "hasattr(viz.viewer, 'jupyter_cell') and viz.viewer.jupyter_cell()"
   ]
  },
  {
   "cell_type": "markdown",
   "id": "695fe4dd",
   "metadata": {},
   "source": [
    "## Description of the environment.\n",
    "The environment is composed of a fixed table and an obstacle, as well as a cube, which you are supposed to bring \n",
    "to the green target. If you run ```inverse_geometry.py``` you should automatically load the environment and the robot.\n",
    "\n",
    "## Description of the robot. \n",
    "The robot you will use for the lab is the Nextage robot from Kawada industries.\n",
    "You can use both pinocchio and the [URDF files](https://github.com/ediadvancedrobotics/lab/blob/1d00a1c79acbcb7248df1b17cf3aaac7f8c39a8b/models/nextagea_description/urdf/NextageaOpen.urdf) to check the dimension of the robot configuration space.\n",
    "The configuration velocity space has the same dimension as Nextage is only composed of revolute joints."
   ]
  },
  {
   "cell_type": "code",
   "execution_count": 7,
   "id": "7459ba16",
   "metadata": {},
   "outputs": [
    {
     "name": "stdout",
     "output_type": "stream",
     "text": [
      "Nb joints = 16 (nq=15,nv=15)\n",
      "  Joint 0 universe: parent=0\n",
      "  Joint 1 CHEST_JOINT0: parent=0\n",
      "  Joint 2 HEAD_JOINT0: parent=1\n",
      "  Joint 3 HEAD_JOINT1: parent=2\n",
      "  Joint 4 LARM_JOINT0: parent=1\n",
      "  Joint 5 LARM_JOINT1: parent=4\n",
      "  Joint 6 LARM_JOINT2: parent=5\n",
      "  Joint 7 LARM_JOINT3: parent=6\n",
      "  Joint 8 LARM_JOINT4: parent=7\n",
      "  Joint 9 LARM_JOINT5: parent=8\n",
      "  Joint 10 RARM_JOINT0: parent=1\n",
      "  Joint 11 RARM_JOINT1: parent=10\n",
      "  Joint 12 RARM_JOINT2: parent=11\n",
      "  Joint 13 RARM_JOINT3: parent=12\n",
      "  Joint 14 RARM_JOINT4: parent=13\n",
      "  Joint 15 RARM_JOINT5: parent=14\n",
      "\n"
     ]
    }
   ],
   "source": [
    "print(robot.model)"
   ]
  },
  {
   "cell_type": "markdown",
   "id": "2fec79af",
   "metadata": {},
   "source": [
    "You can also verify that in its default configuration the robot is in collision (with the table)"
   ]
  },
  {
   "cell_type": "code",
   "execution_count": 8,
   "id": "23ef98c7",
   "metadata": {},
   "outputs": [
    {
     "data": {
      "text/plain": [
       "True"
      ]
     },
     "execution_count": 8,
     "metadata": {},
     "output_type": "execute_result"
    }
   ],
   "source": [
    "from tools import collision\n",
    "import numpy as np\n",
    "collision(robot, robot.q0)"
   ]
  },
  {
   "cell_type": "markdown",
   "id": "1c1ccc2c",
   "metadata": {},
   "source": [
    "# Configuration and helper functions  <a class=\"anchor\" id=\"config\"></a>\n",
    "\n",
    "I have modified the URDF files to add frames that are relevant for the tasks you need to accomplish.\n",
    "On the robot, I have created fixed joints attached to the tip of each effectors, called ```LARM_EFF``` and ```RARM_EFF```. Note that because they are fixed joints, they do not appear in the robot model and do not change the dimension of the configuration space. These names are defined for you in the config.py file as well. "
   ]
  },
  {
   "cell_type": "code",
   "execution_count": 9,
   "id": "28fac3a4",
   "metadata": {},
   "outputs": [
    {
     "name": "stdout",
     "output_type": "stream",
     "text": [
      "Left hand joint name:  LARM_EFF\n",
      "Left hand joint placement: \n",
      "  R =\n",
      "-3.67321e-06           -1            0\n",
      "           1 -3.67321e-06            0\n",
      "           0            0            1\n",
      "  p = 0.452  0.28 0.851\n",
      "\n"
     ]
    }
   ],
   "source": [
    "from config import LEFT_HAND, RIGHT_HAND\n",
    "\n",
    "print (\"Left hand joint name: \", LEFT_HAND)\n",
    "\n",
    "\n",
    "import pinocchio as pin\n",
    "q = robot.q0.copy()\n",
    "\n",
    "#update the frame positions in robot.data given q\n",
    "pin.framesForwardKinematics(robot.model,robot.data,q)\n",
    "\n",
    "#now let's print the placement attached to the right hand\n",
    "print (\"Left hand joint placement: \")\n",
    "pin.computeJointJacobians(robot.model,robot.data,q)\n",
    "frameid = robot.model.getFrameId(LEFT_HAND)\n",
    "oMframe = robot.data.oMf[frameid] \n",
    "print(oMframe)\n",
    "\n"
   ]
  },
  {
   "cell_type": "markdown",
   "id": "2721e57f",
   "metadata": {},
   "source": [
    "Likewise the cube urdf (models/cubes/cube_small.urdf) also contains helpers joint that set a target location for the effectors. They are called ```LEFT_HOOK``` and ```RIGHT_HOOK``` in config.py.\n",
    "\n",
    "I added meshcat helper functions that will allow you to display the associated frames if you wish."
   ]
  },
  {
   "cell_type": "code",
   "execution_count": 10,
   "id": "e5ab0c80",
   "metadata": {},
   "outputs": [],
   "source": [
    "from config import LEFT_HOOK, RIGHT_HOOK, CUBE_PLACEMENT, CUBE_PLACEMENT_TARGET\n",
    "\n",
    "from tools import getcubeplacement, setcubeplacement\n",
    "from setup_meshcat import updatevisuals\n",
    "\n",
    "#We can access the current cube position using\n",
    "oMcube  = getcubeplacement(cube) #origin of the cube\n",
    "oMcubeL = getcubeplacement(cube, LEFT_HOOK) #placement of the left hand hook\n",
    "oMcubeR = getcubeplacement(cube, RIGHT_HOOK) #placement of the right hand hook\n",
    "\n",
    "\n",
    "#the cube position is updated using the following function:\n",
    "setcubeplacement(robot, cube, CUBE_PLACEMENT)\n",
    "#to update the frames for both the robot and the cube you can call\n",
    "updatevisuals(viz, robot, cube, q)\n"
   ]
  },
  {
   "cell_type": "code",
   "execution_count": 11,
   "id": "5af35545",
   "metadata": {},
   "outputs": [
    {
     "data": {
      "text/plain": [
       "  R =\n",
       "-3.67321e-06           -1            0\n",
       "           1 -3.67321e-06            0\n",
       "           0            0            1\n",
       "  p = 0.452  0.28 0.851"
      ]
     },
     "execution_count": 11,
     "metadata": {},
     "output_type": "execute_result"
    }
   ],
   "source": [
    "frameid = robot.model.getFrameId('LARM_EFF')\n",
    "oMframe = robot.data.oMf[frameid]\n",
    "oMframe"
   ]
  },
  {
   "cell_type": "code",
   "execution_count": 12,
   "id": "d65d908f",
   "metadata": {},
   "outputs": [
    {
     "data": {
      "text/plain": [
       "  R =\n",
       "-3.67321e-06           -1            0\n",
       "           1 -3.67321e-06            0\n",
       "           0            0            1\n",
       "  p = 0.452 -0.28 0.851"
      ]
     },
     "execution_count": 12,
     "metadata": {},
     "output_type": "execute_result"
    }
   ],
   "source": [
    "frameid = robot.model.getFrameId('RARM_EFF')\n",
    "oMframe = robot.data.oMf[frameid]\n",
    "oMframe"
   ]
  },
  {
   "cell_type": "markdown",
   "id": "2c5dc01c",
   "metadata": {},
   "source": [
    "# Part 1: Geometry <a class=\"anchor\" id=\"part1\"></a>\n",
    "In this first part of the lab, we are concerned with the geometry of the robot and motion planning in general.\n",
    "We are going to compute a geometric path that will serve as a guide for the dynamic part. Concretely, your objective is to compute a collision free path for the robot such that it \"grasps\" the cube and carries it over to its target position. Again, no dynamic computations are required in this phase, we are only interested in configurations that should be collision free, respect joint limits and geometrically consistent in terms of placement; there is already some work to be done here!\n",
    "\n",
    "## I. Computing the target configurations (Inverse Geometry) <a class=\"anchor\" id=\"IG\"></a>\n",
    "\n",
    "Your first task is the following: write the functions that generate an initial and a goal configuration for the nextage robot, such that the ```LEFT_HAND``` and ```RIGHT_HAND```are aligned respectively with the ```LEFT_HOOK``` and ```RIGHT_HOOK``` frames when the cube is located at its starting position  (```CUBE_PLACEMENT```) and at its goal position (```CUBE_PLACEMENT_TARGET```)\n",
    "\n",
    "For this implement the method ```computeqgrasppose``` in inverse_geometry.py \n",
    "\n",
    "The main method indicates how the method is going to be called to obtain the q0 and qe configurations:\n",
    "```\n",
    "q0 = computeqgrasppose(robot, q, cube, CUBE_PLACEMENT, viz)\n",
    "qe = computeqgrasppose(robot, q, cube, CUBE_PLACEMENT_TARGET,  viz)\n",
    "```\n",
    "\n",
    "Of course, q0 and qe should be collision-free and respect the joint limits of the robot. Do not hard-code anything here. In my tests I will use different targets to test the generality of ```computeqgrasppose```.\n",
    "\n",
    "q0 should look somehow like this:\n",
    "<img src=\"./images/q0.png\" alt=\"drawing\" width=\"200\"/>\n",
    "\n",
    "\n",
    "\n",
    "**hints:** \n",
    "* If your configurations look unnatural, you probably want to somehow introduce a \"postural bias\" in whatever method you are using \n",
    "* From the obtained configurations, you can easily obtain the relative placement between both hands expressed in a specific frame. This might prove relevant later in the lab so you may want to store it somewhere (maybe in solution.py)\n"
   ]
  },
  {
   "cell_type": "code",
   "execution_count": 13,
   "id": "baeb1520",
   "metadata": {},
   "outputs": [],
   "source": [
    "from inverse_geometry import computeqgrasppose"
   ]
  },
  {
   "cell_type": "code",
   "execution_count": 14,
   "id": "7e9524c3",
   "metadata": {},
   "outputs": [],
   "source": [
    "q0, success = computeqgrasppose(robot, q, cube, CUBE_PLACEMENT, viz)\n",
    "if success:\n",
    "    updatevisuals(viz, robot, cube, q=q0)"
   ]
  },
  {
   "cell_type": "code",
   "execution_count": 15,
   "id": "8bf26bf6",
   "metadata": {},
   "outputs": [],
   "source": [
    "qe, success = computeqgrasppose(robot, q, cube, CUBE_PLACEMENT_TARGET,  viz)\n",
    "if success:\n",
    "    updatevisuals(viz, robot, cube, q=qe)"
   ]
  },
  {
   "cell_type": "markdown",
   "id": "47b8d882",
   "metadata": {},
   "source": [
    "## II. Motion planning <a class=\"anchor\" id=\"motion_planning\"></a>\n",
    "\n",
    "For section II, I am proposing one course of action to successfully achieve the planning of a motion such that the robot carries the cube from its initial configuration to the end configuration. You are free to choose another course of action, but I do not advise it unless you really know what you are doing. In any case talk to the TAs or myself before making that decision. No matter what approach you choose, the method ```computepath``` from path.py must be implemented as specified for you to get the points.\n",
    "\n",
    "To compute a geometric path that represents a collision-free motion of our robot carrying the cube from q0 to qe, I suggest to use a sampling based motion planner. \n",
    "\n",
    "We will use the path.py file to write the motion planning algorithm\n",
    "\n",
    "### II.a Sampling configurations\n",
    "To generate configurations for the planner, I suggest a 2 step process: randomly sample configurations for the cube, then solve an inverse geometry problem to generate a valid pose on that location. Of course, check that the joint limits are respected and the configuration is collision-free before returning it.\n",
    "\n",
    "**hint:** you are free to bound your problem by ensuring that the cube placements that you generate only occur at positions / orientations that you think are interesting.\n",
    "\n",
    "### II.b Path projection\n",
    "However to do this we need to enforce the constraint that every sampled configuration is such that the effectors are holding the cube.\n",
    "\n",
    "Furthermore, the grasping constraint will apply to the complete path: a standard linear interpolation between two grasping configurations is not enough to guarantee that every interpolated configuration is such that the cube is grasped.\n",
    "Write a function that, given two configurations q0 and q1 and a discretisation step, returns an interpolated path between q0 and q1 such that every configuration in the path corresponds to a grasping pose. If it is not possible to generate such path, it will return a flag indicating so and, depending on your own decision, either return the part of the path that is valid, or nothing\n",
    "\n",
    "### II.c Solution path generation\n",
    "With the methods produced in II.1 and II.2, you should now be able to implement a motion planner that generates a geometrically valid path between q0 and qe. You can probably reuse code from the motion planning tutorial here, or implement you own. \n",
    "\n",
    "**requirement:** For me to assess this part you are required to implement the method ```computepath``` according to its documentation"
   ]
  },
  {
   "cell_type": "code",
   "execution_count": 16,
   "id": "01b09201",
   "metadata": {},
   "outputs": [],
   "source": [
    "from path import *"
   ]
  },
  {
   "cell_type": "code",
   "execution_count": 17,
   "id": "fdb84697",
   "metadata": {
    "scrolled": true
   },
   "outputs": [
    {
     "name": "stderr",
     "output_type": "stream",
     "text": [
      " 35%|###################################                                                                 | 35/100 [00:02<00:05, 11.96samples/s]\n"
     ]
    },
    {
     "ename": "KeyboardInterrupt",
     "evalue": "",
     "output_type": "error",
     "traceback": [
      "\u001b[0;31m---------------------------------------------------------------------------\u001b[0m",
      "\u001b[0;31mKeyboardInterrupt\u001b[0m                         Traceback (most recent call last)",
      "Cell \u001b[0;32mIn[17], line 12\u001b[0m\n\u001b[1;32m     10\u001b[0m \u001b[38;5;28;01mfor\u001b[39;00m sample \u001b[38;5;129;01min\u001b[39;00m [\u001b[38;5;241m100\u001b[39m, \u001b[38;5;241m250\u001b[39m, \u001b[38;5;241m500\u001b[39m]:\n\u001b[1;32m     11\u001b[0m     \u001b[38;5;28;01mfor\u001b[39;00m _ \u001b[38;5;129;01min\u001b[39;00m \u001b[38;5;28mrange\u001b[39m(\u001b[38;5;241m20\u001b[39m):\n\u001b[0;32m---> 12\u001b[0m         graph, results \u001b[38;5;241m=\u001b[39m \u001b[43mcreate_path\u001b[49m\u001b[43m(\u001b[49m\n\u001b[1;32m     13\u001b[0m \u001b[43m            \u001b[49m\u001b[43mrobot\u001b[49m\u001b[43m,\u001b[49m\n\u001b[1;32m     14\u001b[0m \u001b[43m            \u001b[49m\u001b[43mcube\u001b[49m\u001b[43m,\u001b[49m\u001b[43m \u001b[49m\n\u001b[1;32m     15\u001b[0m \u001b[43m            \u001b[49m\u001b[43mn_samples\u001b[49m\u001b[38;5;241;43m=\u001b[39;49m\u001b[43msample\u001b[49m\u001b[43m,\u001b[49m\n\u001b[1;32m     16\u001b[0m \u001b[43m            \u001b[49m\u001b[43mq0\u001b[49m\u001b[38;5;241;43m=\u001b[39;49m\u001b[43mq0\u001b[49m\u001b[43m,\u001b[49m\n\u001b[1;32m     17\u001b[0m \u001b[43m            \u001b[49m\u001b[43mc0\u001b[49m\u001b[38;5;241;43m=\u001b[39;49m\u001b[43mCUBE_PLACEMENT\u001b[49m\u001b[43m,\u001b[49m\n\u001b[1;32m     18\u001b[0m \u001b[43m            \u001b[49m\u001b[43mqe\u001b[49m\u001b[38;5;241;43m=\u001b[39;49m\u001b[43mqe\u001b[49m\u001b[43m,\u001b[49m\n\u001b[1;32m     19\u001b[0m \u001b[43m            \u001b[49m\u001b[43mce\u001b[49m\u001b[38;5;241;43m=\u001b[39;49m\u001b[43mCUBE_PLACEMENT_TARGET\u001b[49m\u001b[43m,\u001b[49m\n\u001b[1;32m     20\u001b[0m \u001b[43m            \u001b[49m\u001b[43mcontrol\u001b[49m\u001b[38;5;241;43m=\u001b[39;49m\u001b[38;5;28;43;01mFalse\u001b[39;49;00m\u001b[43m,\u001b[49m\n\u001b[1;32m     21\u001b[0m \u001b[43m            \u001b[49m\u001b[43mn_steps_interpol\u001b[49m\u001b[38;5;241;43m=\u001b[39;49m\u001b[38;5;241;43m20\u001b[39;49m\n\u001b[1;32m     22\u001b[0m \u001b[43m        \u001b[49m\u001b[43m)\u001b[49m\n\u001b[1;32m     23\u001b[0m         \u001b[38;5;28;01mif\u001b[39;00m results:\n\u001b[1;32m     24\u001b[0m             sp, d \u001b[38;5;241m=\u001b[39m shortest_path(graph)\n",
      "File \u001b[0;32m/mnt/c/MDS/Q3/advanced_robotics/software_labs/adv-rob-software-labs/path.py:219\u001b[0m, in \u001b[0;36mcreate_path\u001b[0;34m(robot, cube, q0, c0, qe, ce, n_samples, n_steps_interpol, control)\u001b[0m\n\u001b[1;32m    210\u001b[0m last_node_id \u001b[38;5;241m=\u001b[39m add_interpolations(\n\u001b[1;32m    211\u001b[0m     g, \n\u001b[1;32m    212\u001b[0m     q_cube_interpolated, \n\u001b[0;32m   (...)\u001b[0m\n\u001b[1;32m    215\u001b[0m     n_nodes_to_add\n\u001b[1;32m    216\u001b[0m )\n\u001b[1;32m    218\u001b[0m \u001b[38;5;66;03m# Try to reach end position from the last new node added\u001b[39;00m\n\u001b[0;32m--> 219\u001b[0m qs_interpolated_end, success_end \u001b[38;5;241m=\u001b[39m \u001b[43mcompute_interpolation\u001b[49m\u001b[43m(\u001b[49m\n\u001b[1;32m    220\u001b[0m \u001b[43m    \u001b[49m\u001b[43mrobot\u001b[49m\u001b[43m,\u001b[49m\u001b[43m \u001b[49m\n\u001b[1;32m    221\u001b[0m \u001b[43m    \u001b[49m\u001b[43mcube\u001b[49m\u001b[43m,\u001b[49m\u001b[43m \u001b[49m\n\u001b[1;32m    222\u001b[0m \u001b[43m    \u001b[49m\u001b[43mq_start\u001b[49m\u001b[38;5;241;43m=\u001b[39;49m\u001b[43mq_cube_interpolated\u001b[49m\u001b[43m[\u001b[49m\u001b[38;5;241;43m-\u001b[39;49m\u001b[38;5;241;43m1\u001b[39;49m\u001b[43m]\u001b[49m\u001b[43m[\u001b[49m\u001b[38;5;241;43m1\u001b[39;49m\u001b[43m]\u001b[49m\u001b[43m,\u001b[49m\n\u001b[1;32m    223\u001b[0m \u001b[43m    \u001b[49m\u001b[43mcube_start_pose\u001b[49m\u001b[38;5;241;43m=\u001b[39;49m\u001b[43mq_cube_interpolated\u001b[49m\u001b[43m[\u001b[49m\u001b[38;5;241;43m-\u001b[39;49m\u001b[38;5;241;43m1\u001b[39;49m\u001b[43m]\u001b[49m\u001b[43m[\u001b[49m\u001b[38;5;241;43m0\u001b[39;49m\u001b[43m]\u001b[49m\u001b[43m,\u001b[49m\u001b[43m \u001b[49m\n\u001b[1;32m    224\u001b[0m \u001b[43m    \u001b[49m\u001b[43mcube_end_pose\u001b[49m\u001b[38;5;241;43m=\u001b[39;49m\u001b[43mce\u001b[49m\u001b[43m,\u001b[49m\u001b[43m \u001b[49m\n\u001b[1;32m    225\u001b[0m \u001b[43m    \u001b[49m\u001b[43mn_steps\u001b[49m\u001b[38;5;241;43m=\u001b[39;49m\u001b[43mn_steps_interpol\u001b[49m\u001b[43m,\u001b[49m\u001b[43m \u001b[49m\n\u001b[1;32m    226\u001b[0m \u001b[43m    \u001b[49m\u001b[43mcontrol\u001b[49m\u001b[38;5;241;43m=\u001b[39;49m\u001b[43mcontrol\u001b[49m\n\u001b[1;32m    227\u001b[0m \u001b[43m\u001b[49m\u001b[43m)\u001b[49m\n\u001b[1;32m    229\u001b[0m \u001b[38;5;28;01mif\u001b[39;00m success_end:\n\u001b[1;32m    230\u001b[0m     n_nodes_to_add \u001b[38;5;241m=\u001b[39m get_n_nodes_to_add(\u001b[38;5;28mlen\u001b[39m(qs_interpolated_end)\u001b[38;5;241m-\u001b[39m\u001b[38;5;241m1\u001b[39m, sampled_cube_pose, ce)\n",
      "File \u001b[0;32m/mnt/c/MDS/Q3/advanced_robotics/software_labs/adv-rob-software-labs/path.py:135\u001b[0m, in \u001b[0;36mcompute_interpolation\u001b[0;34m(robot, cube, q_start, cube_start_pose, cube_end_pose, n_steps, control)\u001b[0m\n\u001b[1;32m    132\u001b[0m cube_inter_pose\u001b[38;5;241m.\u001b[39mrotation \u001b[38;5;241m=\u001b[39m quat_delta\u001b[38;5;241m.\u001b[39mmatrix()\n\u001b[1;32m    133\u001b[0m cube_inter_pose\u001b[38;5;241m.\u001b[39mtranslation \u001b[38;5;241m+\u001b[39m\u001b[38;5;241m=\u001b[39m delta_translation\n\u001b[0;32m--> 135\u001b[0m qt, success \u001b[38;5;241m=\u001b[39m \u001b[43mcomputeqgrasppose\u001b[49m\u001b[43m(\u001b[49m\u001b[43mrobot\u001b[49m\u001b[43m,\u001b[49m\u001b[43m \u001b[49m\u001b[43mq_cube_interpolated\u001b[49m\u001b[43m[\u001b[49m\u001b[38;5;241;43m-\u001b[39;49m\u001b[38;5;241;43m1\u001b[39;49m\u001b[43m]\u001b[49m\u001b[43m[\u001b[49m\u001b[38;5;241;43m1\u001b[39;49m\u001b[43m]\u001b[49m\u001b[43m,\u001b[49m\u001b[43m \u001b[49m\u001b[43mcube\u001b[49m\u001b[43m,\u001b[49m\u001b[43m \u001b[49m\u001b[43mcube_inter_pose\u001b[49m\u001b[43m,\u001b[49m\u001b[43m \u001b[49m\u001b[43mviz\u001b[49m\u001b[38;5;241;43m=\u001b[39;49m\u001b[38;5;28;43;01mNone\u001b[39;49;00m\u001b[43m,\u001b[49m\u001b[43m \u001b[49m\u001b[43mcontrol\u001b[49m\u001b[38;5;241;43m=\u001b[39;49m\u001b[43mcontrol\u001b[49m\u001b[43m)\u001b[49m\n\u001b[1;32m    136\u001b[0m \u001b[38;5;28;01mif\u001b[39;00m success:\n\u001b[1;32m    137\u001b[0m     q_cube_interpolated\u001b[38;5;241m.\u001b[39mappend((cube_inter_pose\u001b[38;5;241m.\u001b[39mcopy(), qt\u001b[38;5;241m.\u001b[39mcopy()))\n",
      "File \u001b[0;32m/mnt/c/MDS/Q3/advanced_robotics/software_labs/adv-rob-software-labs/inverse_geometry.py:54\u001b[0m, in \u001b[0;36mcomputeqgrasppose\u001b[0;34m(robot, qcurrent, cube, cubetarget, viz, tol, control)\u001b[0m\n\u001b[1;32m     50\u001b[0m lh_frameid \u001b[38;5;241m=\u001b[39m robot\u001b[38;5;241m.\u001b[39mmodel\u001b[38;5;241m.\u001b[39mgetFrameId(\u001b[38;5;124m'\u001b[39m\u001b[38;5;124mLARM_EFF\u001b[39m\u001b[38;5;124m'\u001b[39m)\n\u001b[1;32m     51\u001b[0m rh_frameid \u001b[38;5;241m=\u001b[39m robot\u001b[38;5;241m.\u001b[39mmodel\u001b[38;5;241m.\u001b[39mgetFrameId(\u001b[38;5;124m'\u001b[39m\u001b[38;5;124mRARM_EFF\u001b[39m\u001b[38;5;124m'\u001b[39m)\n\u001b[0;32m---> 54\u001b[0m qopt_bfgs \u001b[38;5;241m=\u001b[39m \u001b[43mfmin_bfgs\u001b[49m\u001b[43m(\u001b[49m\n\u001b[1;32m     55\u001b[0m \u001b[43m    \u001b[49m\u001b[43mcost_v1\u001b[49m\u001b[43m,\u001b[49m\u001b[43m \u001b[49m\n\u001b[1;32m     56\u001b[0m \u001b[43m    \u001b[49m\u001b[43mqcurrent\u001b[49m\u001b[43m,\u001b[49m\u001b[43m \u001b[49m\n\u001b[1;32m     57\u001b[0m \u001b[43m    \u001b[49m\u001b[43mcallback\u001b[49m\u001b[38;5;241;43m=\u001b[39;49m\u001b[43mcallback\u001b[49m\u001b[43m,\u001b[49m\u001b[43m \u001b[49m\n\u001b[1;32m     58\u001b[0m \u001b[43m    \u001b[49m\u001b[43margs\u001b[49m\u001b[38;5;241;43m=\u001b[39;49m\u001b[43m(\u001b[49m\u001b[43mrobot\u001b[49m\u001b[43m,\u001b[49m\u001b[43m \u001b[49m\u001b[43mtarget_left\u001b[49m\u001b[43m,\u001b[49m\u001b[43m \u001b[49m\u001b[43mtarget_right\u001b[49m\u001b[43m,\u001b[49m\u001b[43m \u001b[49m\u001b[43mlh_frameid\u001b[49m\u001b[43m,\u001b[49m\u001b[43mrh_frameid\u001b[49m\u001b[43m)\u001b[49m\u001b[43m,\u001b[49m\n\u001b[1;32m     59\u001b[0m \u001b[43m    \u001b[49m\u001b[43mfull_output\u001b[49m\u001b[38;5;241;43m=\u001b[39;49m\u001b[38;5;28;43;01mTrue\u001b[39;49;00m\u001b[43m,\u001b[49m\n\u001b[1;32m     60\u001b[0m \u001b[43m    \u001b[49m\u001b[43mdisp\u001b[49m\u001b[38;5;241;43m=\u001b[39;49m\u001b[38;5;28;43;01mFalse\u001b[39;49;00m\n\u001b[1;32m     61\u001b[0m \u001b[43m\u001b[49m\u001b[43m)\u001b[49m\n\u001b[1;32m     63\u001b[0m tolerable_error \u001b[38;5;241m=\u001b[39m \u001b[38;5;28;01mFalse\u001b[39;00m\n\u001b[1;32m     64\u001b[0m \u001b[38;5;28;01mif\u001b[39;00m qopt_bfgs[\u001b[38;5;241m1\u001b[39m] \u001b[38;5;241m<\u001b[39m tol \u001b[38;5;129;01mand\u001b[39;00m \u001b[38;5;129;01mnot\u001b[39;00m collision(robot, qopt_bfgs[\u001b[38;5;241m0\u001b[39m]) \u001b[38;5;129;01mand\u001b[39;00m \u001b[38;5;129;01mnot\u001b[39;00m jointlimitsviolated(robot, qopt_bfgs[\u001b[38;5;241m0\u001b[39m]):\n",
      "File \u001b[0;32m~/.local/lib/python3.12/site-packages/scipy/optimize/_optimize.py:1397\u001b[0m, in \u001b[0;36mfmin_bfgs\u001b[0;34m(f, x0, fprime, args, gtol, norm, epsilon, maxiter, full_output, disp, retall, callback, xrtol, c1, c2, hess_inv0)\u001b[0m\n\u001b[1;32m   1385\u001b[0m opts \u001b[38;5;241m=\u001b[39m {\u001b[38;5;124m'\u001b[39m\u001b[38;5;124mgtol\u001b[39m\u001b[38;5;124m'\u001b[39m: gtol,\n\u001b[1;32m   1386\u001b[0m         \u001b[38;5;124m'\u001b[39m\u001b[38;5;124mnorm\u001b[39m\u001b[38;5;124m'\u001b[39m: norm,\n\u001b[1;32m   1387\u001b[0m         \u001b[38;5;124m'\u001b[39m\u001b[38;5;124meps\u001b[39m\u001b[38;5;124m'\u001b[39m: epsilon,\n\u001b[0;32m   (...)\u001b[0m\n\u001b[1;32m   1393\u001b[0m         \u001b[38;5;124m'\u001b[39m\u001b[38;5;124mc2\u001b[39m\u001b[38;5;124m'\u001b[39m: c2,\n\u001b[1;32m   1394\u001b[0m         \u001b[38;5;124m'\u001b[39m\u001b[38;5;124mhess_inv0\u001b[39m\u001b[38;5;124m'\u001b[39m: hess_inv0}\n\u001b[1;32m   1396\u001b[0m callback \u001b[38;5;241m=\u001b[39m _wrap_callback(callback)\n\u001b[0;32m-> 1397\u001b[0m res \u001b[38;5;241m=\u001b[39m \u001b[43m_minimize_bfgs\u001b[49m\u001b[43m(\u001b[49m\u001b[43mf\u001b[49m\u001b[43m,\u001b[49m\u001b[43m \u001b[49m\u001b[43mx0\u001b[49m\u001b[43m,\u001b[49m\u001b[43m \u001b[49m\u001b[43margs\u001b[49m\u001b[43m,\u001b[49m\u001b[43m \u001b[49m\u001b[43mfprime\u001b[49m\u001b[43m,\u001b[49m\u001b[43m \u001b[49m\u001b[43mcallback\u001b[49m\u001b[38;5;241;43m=\u001b[39;49m\u001b[43mcallback\u001b[49m\u001b[43m,\u001b[49m\u001b[43m \u001b[49m\u001b[38;5;241;43m*\u001b[39;49m\u001b[38;5;241;43m*\u001b[39;49m\u001b[43mopts\u001b[49m\u001b[43m)\u001b[49m\n\u001b[1;32m   1399\u001b[0m \u001b[38;5;28;01mif\u001b[39;00m full_output:\n\u001b[1;32m   1400\u001b[0m     retlist \u001b[38;5;241m=\u001b[39m (res[\u001b[38;5;124m'\u001b[39m\u001b[38;5;124mx\u001b[39m\u001b[38;5;124m'\u001b[39m], res[\u001b[38;5;124m'\u001b[39m\u001b[38;5;124mfun\u001b[39m\u001b[38;5;124m'\u001b[39m], res[\u001b[38;5;124m'\u001b[39m\u001b[38;5;124mjac\u001b[39m\u001b[38;5;124m'\u001b[39m], res[\u001b[38;5;124m'\u001b[39m\u001b[38;5;124mhess_inv\u001b[39m\u001b[38;5;124m'\u001b[39m],\n\u001b[1;32m   1401\u001b[0m                res[\u001b[38;5;124m'\u001b[39m\u001b[38;5;124mnfev\u001b[39m\u001b[38;5;124m'\u001b[39m], res[\u001b[38;5;124m'\u001b[39m\u001b[38;5;124mnjev\u001b[39m\u001b[38;5;124m'\u001b[39m], res[\u001b[38;5;124m'\u001b[39m\u001b[38;5;124mstatus\u001b[39m\u001b[38;5;124m'\u001b[39m])\n",
      "File \u001b[0;32m~/.local/lib/python3.12/site-packages/scipy/optimize/_optimize.py:1503\u001b[0m, in \u001b[0;36m_minimize_bfgs\u001b[0;34m(fun, x0, args, jac, callback, gtol, norm, eps, maxiter, disp, return_all, finite_diff_rel_step, xrtol, c1, c2, hess_inv0, **unknown_options)\u001b[0m\n\u001b[1;32m   1500\u001b[0m pk \u001b[38;5;241m=\u001b[39m \u001b[38;5;241m-\u001b[39mnp\u001b[38;5;241m.\u001b[39mdot(Hk, gfk)\n\u001b[1;32m   1501\u001b[0m \u001b[38;5;28;01mtry\u001b[39;00m:\n\u001b[1;32m   1502\u001b[0m     alpha_k, fc, gc, old_fval, old_old_fval, gfkp1 \u001b[38;5;241m=\u001b[39m \\\n\u001b[0;32m-> 1503\u001b[0m              \u001b[43m_line_search_wolfe12\u001b[49m\u001b[43m(\u001b[49m\u001b[43mf\u001b[49m\u001b[43m,\u001b[49m\u001b[43m \u001b[49m\u001b[43mmyfprime\u001b[49m\u001b[43m,\u001b[49m\u001b[43m \u001b[49m\u001b[43mxk\u001b[49m\u001b[43m,\u001b[49m\u001b[43m \u001b[49m\u001b[43mpk\u001b[49m\u001b[43m,\u001b[49m\u001b[43m \u001b[49m\u001b[43mgfk\u001b[49m\u001b[43m,\u001b[49m\n\u001b[1;32m   1504\u001b[0m \u001b[43m                                  \u001b[49m\u001b[43mold_fval\u001b[49m\u001b[43m,\u001b[49m\u001b[43m \u001b[49m\u001b[43mold_old_fval\u001b[49m\u001b[43m,\u001b[49m\u001b[43m \u001b[49m\u001b[43mamin\u001b[49m\u001b[38;5;241;43m=\u001b[39;49m\u001b[38;5;241;43m1e-100\u001b[39;49m\u001b[43m,\u001b[49m\n\u001b[1;32m   1505\u001b[0m \u001b[43m                                  \u001b[49m\u001b[43mamax\u001b[49m\u001b[38;5;241;43m=\u001b[39;49m\u001b[38;5;241;43m1e100\u001b[39;49m\u001b[43m,\u001b[49m\u001b[43m \u001b[49m\u001b[43mc1\u001b[49m\u001b[38;5;241;43m=\u001b[39;49m\u001b[43mc1\u001b[49m\u001b[43m,\u001b[49m\u001b[43m \u001b[49m\u001b[43mc2\u001b[49m\u001b[38;5;241;43m=\u001b[39;49m\u001b[43mc2\u001b[49m\u001b[43m)\u001b[49m\n\u001b[1;32m   1506\u001b[0m \u001b[38;5;28;01mexcept\u001b[39;00m _LineSearchError:\n\u001b[1;32m   1507\u001b[0m     \u001b[38;5;66;03m# Line search failed to find a better solution.\u001b[39;00m\n\u001b[1;32m   1508\u001b[0m     warnflag \u001b[38;5;241m=\u001b[39m \u001b[38;5;241m2\u001b[39m\n",
      "File \u001b[0;32m~/.local/lib/python3.12/site-packages/scipy/optimize/_optimize.py:1239\u001b[0m, in \u001b[0;36m_line_search_wolfe12\u001b[0;34m(f, fprime, xk, pk, gfk, old_fval, old_old_fval, **kwargs)\u001b[0m\n\u001b[1;32m   1225\u001b[0m \u001b[38;5;250m\u001b[39m\u001b[38;5;124;03m\"\"\"\u001b[39;00m\n\u001b[1;32m   1226\u001b[0m \u001b[38;5;124;03mSame as line_search_wolfe1, but fall back to line_search_wolfe2 if\u001b[39;00m\n\u001b[1;32m   1227\u001b[0m \u001b[38;5;124;03msuitable step length is not found, and raise an exception if a\u001b[39;00m\n\u001b[0;32m   (...)\u001b[0m\n\u001b[1;32m   1234\u001b[0m \n\u001b[1;32m   1235\u001b[0m \u001b[38;5;124;03m\"\"\"\u001b[39;00m\n\u001b[1;32m   1237\u001b[0m extra_condition \u001b[38;5;241m=\u001b[39m kwargs\u001b[38;5;241m.\u001b[39mpop(\u001b[38;5;124m'\u001b[39m\u001b[38;5;124mextra_condition\u001b[39m\u001b[38;5;124m'\u001b[39m, \u001b[38;5;28;01mNone\u001b[39;00m)\n\u001b[0;32m-> 1239\u001b[0m ret \u001b[38;5;241m=\u001b[39m \u001b[43mline_search_wolfe1\u001b[49m\u001b[43m(\u001b[49m\u001b[43mf\u001b[49m\u001b[43m,\u001b[49m\u001b[43m \u001b[49m\u001b[43mfprime\u001b[49m\u001b[43m,\u001b[49m\u001b[43m \u001b[49m\u001b[43mxk\u001b[49m\u001b[43m,\u001b[49m\u001b[43m \u001b[49m\u001b[43mpk\u001b[49m\u001b[43m,\u001b[49m\u001b[43m \u001b[49m\u001b[43mgfk\u001b[49m\u001b[43m,\u001b[49m\n\u001b[1;32m   1240\u001b[0m \u001b[43m                         \u001b[49m\u001b[43mold_fval\u001b[49m\u001b[43m,\u001b[49m\u001b[43m \u001b[49m\u001b[43mold_old_fval\u001b[49m\u001b[43m,\u001b[49m\n\u001b[1;32m   1241\u001b[0m \u001b[43m                         \u001b[49m\u001b[38;5;241;43m*\u001b[39;49m\u001b[38;5;241;43m*\u001b[39;49m\u001b[43mkwargs\u001b[49m\u001b[43m)\u001b[49m\n\u001b[1;32m   1243\u001b[0m \u001b[38;5;28;01mif\u001b[39;00m ret[\u001b[38;5;241m0\u001b[39m] \u001b[38;5;129;01mis\u001b[39;00m \u001b[38;5;129;01mnot\u001b[39;00m \u001b[38;5;28;01mNone\u001b[39;00m \u001b[38;5;129;01mand\u001b[39;00m extra_condition \u001b[38;5;129;01mis\u001b[39;00m \u001b[38;5;129;01mnot\u001b[39;00m \u001b[38;5;28;01mNone\u001b[39;00m:\n\u001b[1;32m   1244\u001b[0m     xp1 \u001b[38;5;241m=\u001b[39m xk \u001b[38;5;241m+\u001b[39m ret[\u001b[38;5;241m0\u001b[39m] \u001b[38;5;241m*\u001b[39m pk\n",
      "File \u001b[0;32m~/.local/lib/python3.12/site-packages/scipy/optimize/_linesearch.py:94\u001b[0m, in \u001b[0;36mline_search_wolfe1\u001b[0;34m(f, fprime, xk, pk, gfk, old_fval, old_old_fval, args, c1, c2, amax, amin, xtol)\u001b[0m\n\u001b[1;32m     90\u001b[0m     \u001b[38;5;28;01mreturn\u001b[39;00m np\u001b[38;5;241m.\u001b[39mdot(gval[\u001b[38;5;241m0\u001b[39m], pk)\n\u001b[1;32m     92\u001b[0m derphi0 \u001b[38;5;241m=\u001b[39m np\u001b[38;5;241m.\u001b[39mdot(gfk, pk)\n\u001b[0;32m---> 94\u001b[0m stp, fval, old_fval \u001b[38;5;241m=\u001b[39m \u001b[43mscalar_search_wolfe1\u001b[49m\u001b[43m(\u001b[49m\n\u001b[1;32m     95\u001b[0m \u001b[43m        \u001b[49m\u001b[43mphi\u001b[49m\u001b[43m,\u001b[49m\u001b[43m \u001b[49m\u001b[43mderphi\u001b[49m\u001b[43m,\u001b[49m\u001b[43m \u001b[49m\u001b[43mold_fval\u001b[49m\u001b[43m,\u001b[49m\u001b[43m \u001b[49m\u001b[43mold_old_fval\u001b[49m\u001b[43m,\u001b[49m\u001b[43m \u001b[49m\u001b[43mderphi0\u001b[49m\u001b[43m,\u001b[49m\n\u001b[1;32m     96\u001b[0m \u001b[43m        \u001b[49m\u001b[43mc1\u001b[49m\u001b[38;5;241;43m=\u001b[39;49m\u001b[43mc1\u001b[49m\u001b[43m,\u001b[49m\u001b[43m \u001b[49m\u001b[43mc2\u001b[49m\u001b[38;5;241;43m=\u001b[39;49m\u001b[43mc2\u001b[49m\u001b[43m,\u001b[49m\u001b[43m \u001b[49m\u001b[43mamax\u001b[49m\u001b[38;5;241;43m=\u001b[39;49m\u001b[43mamax\u001b[49m\u001b[43m,\u001b[49m\u001b[43m \u001b[49m\u001b[43mamin\u001b[49m\u001b[38;5;241;43m=\u001b[39;49m\u001b[43mamin\u001b[49m\u001b[43m,\u001b[49m\u001b[43m \u001b[49m\u001b[43mxtol\u001b[49m\u001b[38;5;241;43m=\u001b[39;49m\u001b[43mxtol\u001b[49m\u001b[43m)\u001b[49m\n\u001b[1;32m     98\u001b[0m \u001b[38;5;28;01mreturn\u001b[39;00m stp, fc[\u001b[38;5;241m0\u001b[39m], gc[\u001b[38;5;241m0\u001b[39m], fval, old_fval, gval[\u001b[38;5;241m0\u001b[39m]\n",
      "File \u001b[0;32m~/.local/lib/python3.12/site-packages/scipy/optimize/_linesearch.py:171\u001b[0m, in \u001b[0;36mscalar_search_wolfe1\u001b[0;34m(phi, derphi, phi0, old_phi0, derphi0, c1, c2, amax, amin, xtol)\u001b[0m\n\u001b[1;32m    168\u001b[0m maxiter \u001b[38;5;241m=\u001b[39m \u001b[38;5;241m100\u001b[39m\n\u001b[1;32m    170\u001b[0m dcsrch \u001b[38;5;241m=\u001b[39m DCSRCH(phi, derphi, c1, c2, xtol, amin, amax)\n\u001b[0;32m--> 171\u001b[0m stp, phi1, phi0, task \u001b[38;5;241m=\u001b[39m \u001b[43mdcsrch\u001b[49m\u001b[43m(\u001b[49m\n\u001b[1;32m    172\u001b[0m \u001b[43m    \u001b[49m\u001b[43malpha1\u001b[49m\u001b[43m,\u001b[49m\u001b[43m \u001b[49m\u001b[43mphi0\u001b[49m\u001b[38;5;241;43m=\u001b[39;49m\u001b[43mphi0\u001b[49m\u001b[43m,\u001b[49m\u001b[43m \u001b[49m\u001b[43mderphi0\u001b[49m\u001b[38;5;241;43m=\u001b[39;49m\u001b[43mderphi0\u001b[49m\u001b[43m,\u001b[49m\u001b[43m \u001b[49m\u001b[43mmaxiter\u001b[49m\u001b[38;5;241;43m=\u001b[39;49m\u001b[43mmaxiter\u001b[49m\n\u001b[1;32m    173\u001b[0m \u001b[43m\u001b[49m\u001b[43m)\u001b[49m\n\u001b[1;32m    175\u001b[0m \u001b[38;5;28;01mreturn\u001b[39;00m stp, phi1, phi0\n",
      "File \u001b[0;32m~/.local/lib/python3.12/site-packages/scipy/optimize/_dcsrch.py:256\u001b[0m, in \u001b[0;36mDCSRCH.__call__\u001b[0;34m(self, alpha1, phi0, derphi0, maxiter)\u001b[0m\n\u001b[1;32m    254\u001b[0m     alpha1 \u001b[38;5;241m=\u001b[39m stp\n\u001b[1;32m    255\u001b[0m     phi1 \u001b[38;5;241m=\u001b[39m \u001b[38;5;28mself\u001b[39m\u001b[38;5;241m.\u001b[39mphi(stp)\n\u001b[0;32m--> 256\u001b[0m     derphi1 \u001b[38;5;241m=\u001b[39m \u001b[38;5;28;43mself\u001b[39;49m\u001b[38;5;241;43m.\u001b[39;49m\u001b[43mderphi\u001b[49m\u001b[43m(\u001b[49m\u001b[43mstp\u001b[49m\u001b[43m)\u001b[49m\n\u001b[1;32m    257\u001b[0m \u001b[38;5;28;01melse\u001b[39;00m:\n\u001b[1;32m    258\u001b[0m     \u001b[38;5;28;01mbreak\u001b[39;00m\n",
      "File \u001b[0;32m~/.local/lib/python3.12/site-packages/scipy/optimize/_linesearch.py:88\u001b[0m, in \u001b[0;36mline_search_wolfe1.<locals>.derphi\u001b[0;34m(s)\u001b[0m\n\u001b[1;32m     87\u001b[0m \u001b[38;5;28;01mdef\u001b[39;00m \u001b[38;5;21mderphi\u001b[39m(s):\n\u001b[0;32m---> 88\u001b[0m     gval[\u001b[38;5;241m0\u001b[39m] \u001b[38;5;241m=\u001b[39m \u001b[43mfprime\u001b[49m\u001b[43m(\u001b[49m\u001b[43mxk\u001b[49m\u001b[43m \u001b[49m\u001b[38;5;241;43m+\u001b[39;49m\u001b[43m \u001b[49m\u001b[43ms\u001b[49m\u001b[38;5;241;43m*\u001b[39;49m\u001b[43mpk\u001b[49m\u001b[43m,\u001b[49m\u001b[43m \u001b[49m\u001b[38;5;241;43m*\u001b[39;49m\u001b[43margs\u001b[49m\u001b[43m)\u001b[49m\n\u001b[1;32m     89\u001b[0m     gc[\u001b[38;5;241m0\u001b[39m] \u001b[38;5;241m+\u001b[39m\u001b[38;5;241m=\u001b[39m \u001b[38;5;241m1\u001b[39m\n\u001b[1;32m     90\u001b[0m     \u001b[38;5;28;01mreturn\u001b[39;00m np\u001b[38;5;241m.\u001b[39mdot(gval[\u001b[38;5;241m0\u001b[39m], pk)\n",
      "File \u001b[0;32m~/.local/lib/python3.12/site-packages/scipy/optimize/_differentiable_functions.py:284\u001b[0m, in \u001b[0;36mScalarFunction.grad\u001b[0;34m(self, x)\u001b[0m\n\u001b[1;32m    282\u001b[0m \u001b[38;5;28;01mif\u001b[39;00m \u001b[38;5;129;01mnot\u001b[39;00m np\u001b[38;5;241m.\u001b[39marray_equal(x, \u001b[38;5;28mself\u001b[39m\u001b[38;5;241m.\u001b[39mx):\n\u001b[1;32m    283\u001b[0m     \u001b[38;5;28mself\u001b[39m\u001b[38;5;241m.\u001b[39m_update_x_impl(x)\n\u001b[0;32m--> 284\u001b[0m \u001b[38;5;28;43mself\u001b[39;49m\u001b[38;5;241;43m.\u001b[39;49m\u001b[43m_update_grad\u001b[49m\u001b[43m(\u001b[49m\u001b[43m)\u001b[49m\n\u001b[1;32m    285\u001b[0m \u001b[38;5;28;01mreturn\u001b[39;00m \u001b[38;5;28mself\u001b[39m\u001b[38;5;241m.\u001b[39mg\n",
      "File \u001b[0;32m~/.local/lib/python3.12/site-packages/scipy/optimize/_differentiable_functions.py:267\u001b[0m, in \u001b[0;36mScalarFunction._update_grad\u001b[0;34m(self)\u001b[0m\n\u001b[1;32m    265\u001b[0m \u001b[38;5;28;01mdef\u001b[39;00m \u001b[38;5;21m_update_grad\u001b[39m(\u001b[38;5;28mself\u001b[39m):\n\u001b[1;32m    266\u001b[0m     \u001b[38;5;28;01mif\u001b[39;00m \u001b[38;5;129;01mnot\u001b[39;00m \u001b[38;5;28mself\u001b[39m\u001b[38;5;241m.\u001b[39mg_updated:\n\u001b[0;32m--> 267\u001b[0m         \u001b[38;5;28;43mself\u001b[39;49m\u001b[38;5;241;43m.\u001b[39;49m\u001b[43m_update_grad_impl\u001b[49m\u001b[43m(\u001b[49m\u001b[43m)\u001b[49m\n\u001b[1;32m    268\u001b[0m         \u001b[38;5;28mself\u001b[39m\u001b[38;5;241m.\u001b[39mg_updated \u001b[38;5;241m=\u001b[39m \u001b[38;5;28;01mTrue\u001b[39;00m\n",
      "File \u001b[0;32m~/.local/lib/python3.12/site-packages/scipy/optimize/_differentiable_functions.py:181\u001b[0m, in \u001b[0;36mScalarFunction.__init__.<locals>.update_grad\u001b[0;34m()\u001b[0m\n\u001b[1;32m    179\u001b[0m \u001b[38;5;28mself\u001b[39m\u001b[38;5;241m.\u001b[39m_update_fun()\n\u001b[1;32m    180\u001b[0m \u001b[38;5;28mself\u001b[39m\u001b[38;5;241m.\u001b[39mngev \u001b[38;5;241m+\u001b[39m\u001b[38;5;241m=\u001b[39m \u001b[38;5;241m1\u001b[39m\n\u001b[0;32m--> 181\u001b[0m \u001b[38;5;28mself\u001b[39m\u001b[38;5;241m.\u001b[39mg \u001b[38;5;241m=\u001b[39m \u001b[43mapprox_derivative\u001b[49m\u001b[43m(\u001b[49m\u001b[43mfun_wrapped\u001b[49m\u001b[43m,\u001b[49m\u001b[43m \u001b[49m\u001b[38;5;28;43mself\u001b[39;49m\u001b[38;5;241;43m.\u001b[39;49m\u001b[43mx\u001b[49m\u001b[43m,\u001b[49m\u001b[43m \u001b[49m\u001b[43mf0\u001b[49m\u001b[38;5;241;43m=\u001b[39;49m\u001b[38;5;28;43mself\u001b[39;49m\u001b[38;5;241;43m.\u001b[39;49m\u001b[43mf\u001b[49m\u001b[43m,\u001b[49m\n\u001b[1;32m    182\u001b[0m \u001b[43m                           \u001b[49m\u001b[38;5;241;43m*\u001b[39;49m\u001b[38;5;241;43m*\u001b[39;49m\u001b[43mfinite_diff_options\u001b[49m\u001b[43m)\u001b[49m\n",
      "File \u001b[0;32m~/.local/lib/python3.12/site-packages/scipy/optimize/_numdiff.py:519\u001b[0m, in \u001b[0;36mapprox_derivative\u001b[0;34m(fun, x0, method, rel_step, abs_step, f0, bounds, sparsity, as_linear_operator, args, kwargs)\u001b[0m\n\u001b[1;32m    516\u001b[0m     use_one_sided \u001b[38;5;241m=\u001b[39m \u001b[38;5;28;01mFalse\u001b[39;00m\n\u001b[1;32m    518\u001b[0m \u001b[38;5;28;01mif\u001b[39;00m sparsity \u001b[38;5;129;01mis\u001b[39;00m \u001b[38;5;28;01mNone\u001b[39;00m:\n\u001b[0;32m--> 519\u001b[0m     \u001b[38;5;28;01mreturn\u001b[39;00m \u001b[43m_dense_difference\u001b[49m\u001b[43m(\u001b[49m\u001b[43mfun_wrapped\u001b[49m\u001b[43m,\u001b[49m\u001b[43m \u001b[49m\u001b[43mx0\u001b[49m\u001b[43m,\u001b[49m\u001b[43m \u001b[49m\u001b[43mf0\u001b[49m\u001b[43m,\u001b[49m\u001b[43m \u001b[49m\u001b[43mh\u001b[49m\u001b[43m,\u001b[49m\n\u001b[1;32m    520\u001b[0m \u001b[43m                             \u001b[49m\u001b[43muse_one_sided\u001b[49m\u001b[43m,\u001b[49m\u001b[43m \u001b[49m\u001b[43mmethod\u001b[49m\u001b[43m)\u001b[49m\n\u001b[1;32m    521\u001b[0m \u001b[38;5;28;01melse\u001b[39;00m:\n\u001b[1;32m    522\u001b[0m     \u001b[38;5;28;01mif\u001b[39;00m \u001b[38;5;129;01mnot\u001b[39;00m issparse(sparsity) \u001b[38;5;129;01mand\u001b[39;00m \u001b[38;5;28mlen\u001b[39m(sparsity) \u001b[38;5;241m==\u001b[39m \u001b[38;5;241m2\u001b[39m:\n",
      "File \u001b[0;32m~/.local/lib/python3.12/site-packages/scipy/optimize/_numdiff.py:590\u001b[0m, in \u001b[0;36m_dense_difference\u001b[0;34m(fun, x0, f0, h, use_one_sided, method)\u001b[0m\n\u001b[1;32m    588\u001b[0m     x \u001b[38;5;241m=\u001b[39m x0 \u001b[38;5;241m+\u001b[39m h_vecs[i]\n\u001b[1;32m    589\u001b[0m     dx \u001b[38;5;241m=\u001b[39m x[i] \u001b[38;5;241m-\u001b[39m x0[i]  \u001b[38;5;66;03m# Recompute dx as exactly representable number.\u001b[39;00m\n\u001b[0;32m--> 590\u001b[0m     df \u001b[38;5;241m=\u001b[39m \u001b[43mfun\u001b[49m\u001b[43m(\u001b[49m\u001b[43mx\u001b[49m\u001b[43m)\u001b[49m \u001b[38;5;241m-\u001b[39m f0\n\u001b[1;32m    591\u001b[0m \u001b[38;5;28;01melif\u001b[39;00m method \u001b[38;5;241m==\u001b[39m \u001b[38;5;124m'\u001b[39m\u001b[38;5;124m3-point\u001b[39m\u001b[38;5;124m'\u001b[39m \u001b[38;5;129;01mand\u001b[39;00m use_one_sided[i]:\n\u001b[1;32m    592\u001b[0m     x1 \u001b[38;5;241m=\u001b[39m x0 \u001b[38;5;241m+\u001b[39m h_vecs[i]\n",
      "File \u001b[0;32m~/.local/lib/python3.12/site-packages/scipy/optimize/_numdiff.py:470\u001b[0m, in \u001b[0;36mapprox_derivative.<locals>.fun_wrapped\u001b[0;34m(x)\u001b[0m\n\u001b[1;32m    467\u001b[0m \u001b[38;5;28;01mif\u001b[39;00m xp\u001b[38;5;241m.\u001b[39misdtype(x\u001b[38;5;241m.\u001b[39mdtype, \u001b[38;5;124m\"\u001b[39m\u001b[38;5;124mreal floating\u001b[39m\u001b[38;5;124m\"\u001b[39m):\n\u001b[1;32m    468\u001b[0m     x \u001b[38;5;241m=\u001b[39m xp\u001b[38;5;241m.\u001b[39mastype(x, x0\u001b[38;5;241m.\u001b[39mdtype)\n\u001b[0;32m--> 470\u001b[0m f \u001b[38;5;241m=\u001b[39m np\u001b[38;5;241m.\u001b[39matleast_1d(\u001b[43mfun\u001b[49m\u001b[43m(\u001b[49m\u001b[43mx\u001b[49m\u001b[43m,\u001b[49m\u001b[43m \u001b[49m\u001b[38;5;241;43m*\u001b[39;49m\u001b[43margs\u001b[49m\u001b[43m,\u001b[49m\u001b[43m \u001b[49m\u001b[38;5;241;43m*\u001b[39;49m\u001b[38;5;241;43m*\u001b[39;49m\u001b[43mkwargs\u001b[49m\u001b[43m)\u001b[49m)\n\u001b[1;32m    471\u001b[0m \u001b[38;5;28;01mif\u001b[39;00m f\u001b[38;5;241m.\u001b[39mndim \u001b[38;5;241m>\u001b[39m \u001b[38;5;241m1\u001b[39m:\n\u001b[1;32m    472\u001b[0m     \u001b[38;5;28;01mraise\u001b[39;00m \u001b[38;5;167;01mRuntimeError\u001b[39;00m(\u001b[38;5;124m\"\u001b[39m\u001b[38;5;124m`fun` return value has \u001b[39m\u001b[38;5;124m\"\u001b[39m\n\u001b[1;32m    473\u001b[0m                        \u001b[38;5;124m\"\u001b[39m\u001b[38;5;124mmore than 1 dimension.\u001b[39m\u001b[38;5;124m\"\u001b[39m)\n",
      "File \u001b[0;32m~/.local/lib/python3.12/site-packages/scipy/optimize/_differentiable_functions.py:145\u001b[0m, in \u001b[0;36mScalarFunction.__init__.<locals>.fun_wrapped\u001b[0;34m(x)\u001b[0m\n\u001b[1;32m    141\u001b[0m \u001b[38;5;28mself\u001b[39m\u001b[38;5;241m.\u001b[39mnfev \u001b[38;5;241m+\u001b[39m\u001b[38;5;241m=\u001b[39m \u001b[38;5;241m1\u001b[39m\n\u001b[1;32m    142\u001b[0m \u001b[38;5;66;03m# Send a copy because the user may overwrite it.\u001b[39;00m\n\u001b[1;32m    143\u001b[0m \u001b[38;5;66;03m# Overwriting results in undefined behaviour because\u001b[39;00m\n\u001b[1;32m    144\u001b[0m \u001b[38;5;66;03m# fun(self.x) will change self.x, with the two no longer linked.\u001b[39;00m\n\u001b[0;32m--> 145\u001b[0m fx \u001b[38;5;241m=\u001b[39m \u001b[43mfun\u001b[49m\u001b[43m(\u001b[49m\u001b[43mnp\u001b[49m\u001b[38;5;241;43m.\u001b[39;49m\u001b[43mcopy\u001b[49m\u001b[43m(\u001b[49m\u001b[43mx\u001b[49m\u001b[43m)\u001b[49m\u001b[43m,\u001b[49m\u001b[43m \u001b[49m\u001b[38;5;241;43m*\u001b[39;49m\u001b[43margs\u001b[49m\u001b[43m)\u001b[49m\n\u001b[1;32m    146\u001b[0m \u001b[38;5;66;03m# Make sure the function returns a true scalar\u001b[39;00m\n\u001b[1;32m    147\u001b[0m \u001b[38;5;28;01mif\u001b[39;00m \u001b[38;5;129;01mnot\u001b[39;00m np\u001b[38;5;241m.\u001b[39misscalar(fx):\n",
      "File \u001b[0;32m/mnt/c/MDS/Q3/advanced_robotics/software_labs/adv-rob-software-labs/inverse_geometry.py:34\u001b[0m, in \u001b[0;36mcost_v1\u001b[0;34m(q, robot, target_left, target_right, lh_frameid, rh_frameid)\u001b[0m\n\u001b[1;32m     31\u001b[0m cost_d \u001b[38;5;241m=\u001b[39m cost_lh \u001b[38;5;241m+\u001b[39m cost_rh\n\u001b[1;32m     33\u001b[0m q_epsilon \u001b[38;5;241m=\u001b[39m (robot\u001b[38;5;241m.\u001b[39mmodel\u001b[38;5;241m.\u001b[39mupperPositionLimit \u001b[38;5;241m-\u001b[39m robot\u001b[38;5;241m.\u001b[39mmodel\u001b[38;5;241m.\u001b[39mlowerPositionLimit) \u001b[38;5;241m/\u001b[39m \u001b[38;5;241m100\u001b[39m\n\u001b[0;32m---> 34\u001b[0m cost_joint_limits \u001b[38;5;241m=\u001b[39m \u001b[43mjointlimitscost\u001b[49m\u001b[43m(\u001b[49m\u001b[43mrobot\u001b[49m\u001b[43m,\u001b[49m\u001b[43m \u001b[49m\u001b[43mq\u001b[49m\u001b[43m \u001b[49m\u001b[38;5;241;43m-\u001b[39;49m\u001b[43m \u001b[49m\u001b[43mq_epsilon\u001b[49m\u001b[43m)\u001b[49m \u001b[38;5;241m+\u001b[39m jointlimitscost(robot, q \u001b[38;5;241m+\u001b[39m q_epsilon)\n\u001b[1;32m     36\u001b[0m \u001b[38;5;28;01mreturn\u001b[39;00m cost_d \u001b[38;5;241m+\u001b[39m cost_joint_limits\n",
      "File \u001b[0;32m/mnt/c/MDS/Q3/advanced_robotics/software_labs/adv-rob-software-labs/tools.py:13\u001b[0m, in \u001b[0;36mjointlimitscost\u001b[0;34m(robot, q)\u001b[0m\n\u001b[1;32m     12\u001b[0m \u001b[38;5;28;01mdef\u001b[39;00m \u001b[38;5;21mjointlimitscost\u001b[39m(robot,q):\n\u001b[0;32m---> 13\u001b[0m     up \u001b[38;5;241m=\u001b[39m \u001b[38;5;28;43mmax\u001b[39;49m\u001b[43m(\u001b[49m\u001b[43mq\u001b[49m\u001b[43m \u001b[49m\u001b[38;5;241;43m-\u001b[39;49m\u001b[43m \u001b[49m\u001b[43mrobot\u001b[49m\u001b[38;5;241;43m.\u001b[39;49m\u001b[43mmodel\u001b[49m\u001b[38;5;241;43m.\u001b[39;49m\u001b[43mupperPositionLimit\u001b[49m\u001b[43m)\u001b[49m\n\u001b[1;32m     14\u001b[0m     down \u001b[38;5;241m=\u001b[39m \u001b[38;5;28mmax\u001b[39m(robot\u001b[38;5;241m.\u001b[39mmodel\u001b[38;5;241m.\u001b[39mlowerPositionLimit \u001b[38;5;241m-\u001b[39m q)\n\u001b[1;32m     15\u001b[0m     \u001b[38;5;28;01mreturn\u001b[39;00m \u001b[38;5;28mmax\u001b[39m(\u001b[38;5;241m0\u001b[39m,\u001b[38;5;28mmax\u001b[39m(up,down))\n",
      "\u001b[0;31mKeyboardInterrupt\u001b[0m: "
     ]
    }
   ],
   "source": [
    "import time\n",
    "\n",
    "start = time.time()\n",
    "\n",
    "path_lengths = []\n",
    "distances = []\n",
    "execution_time = []\n",
    "samples = []\n",
    "\n",
    "for sample in [100, 250, 500]:\n",
    "    for _ in range(20):\n",
    "        graph, results = create_path(\n",
    "            robot,\n",
    "            cube, \n",
    "            n_samples=sample,\n",
    "            q0=q0,\n",
    "            c0=CUBE_PLACEMENT,\n",
    "            qe=qe,\n",
    "            ce=CUBE_PLACEMENT_TARGET,\n",
    "            control=False,\n",
    "            n_steps_interpol=20\n",
    "        )\n",
    "        if results:\n",
    "            sp, d = shortest_path(graph)\n",
    "\n",
    "            path_lengths.append(len(sp))\n",
    "            distances.append(d)\n",
    "            execution_time.append(time.time() - start)\n",
    "            samples.append(sample)\n",
    "\n"
   ]
  },
  {
   "cell_type": "code",
   "execution_count": 18,
   "id": "3fca9def",
   "metadata": {},
   "outputs": [
    {
     "data": {
      "text/plain": [
       "([], [], [], [])"
      ]
     },
     "execution_count": 18,
     "metadata": {},
     "output_type": "execute_result"
    }
   ],
   "source": [
    "path_lengths, distances,execution_time,samples"
   ]
  },
  {
   "cell_type": "code",
   "execution_count": 27,
   "id": "2f526b8a",
   "metadata": {},
   "outputs": [],
   "source": [
    "import pandas as pd\n",
    "(\n",
    "    pd.DataFrame([path_lengths, distances,execution_time,samples], \n",
    "                 index=[\"Path_length\", \"Distance\", \"Time\", \"Samples\"])\n",
    "    .T\n",
    "    .to_csv(\"experiments/adaptative_method.csv\", index=False)\n",
    ")"
   ]
  },
  {
   "cell_type": "code",
   "execution_count": 30,
   "id": "d960ff2f",
   "metadata": {},
   "outputs": [
    {
     "name": "stderr",
     "output_type": "stream",
     "text": [
      "100%|###############################################################################################################| 100/100 [00:20<00:00,  4.94samples/s]\n",
      "  2%|##2                                                                                                              | 2/100 [00:00<00:08, 11.98samples/s]"
     ]
    },
    {
     "name": "stdout",
     "output_type": "stream",
     "text": [
      "[1]\n"
     ]
    },
    {
     "name": "stderr",
     "output_type": "stream",
     "text": [
      "100%|###############################################################################################################| 100/100 [00:20<00:00,  4.88samples/s]\n",
      " 74%|##################################################################################8                             | 74/100 [00:08<00:04,  6.41samples/s]"
     ]
    },
    {
     "name": "stdout",
     "output_type": "stream",
     "text": [
      "[5]\n"
     ]
    },
    {
     "name": "stderr",
     "output_type": "stream",
     "text": [
      "100%|###############################################################################################################| 100/100 [00:14<00:00,  7.02samples/s]\n",
      " 26%|#############################1                                                                                  | 26/100 [00:06<00:18,  4.02samples/s]"
     ]
    },
    {
     "name": "stdout",
     "output_type": "stream",
     "text": [
      "[2]\n"
     ]
    },
    {
     "name": "stderr",
     "output_type": "stream",
     "text": [
      "100%|###############################################################################################################| 100/100 [00:20<00:00,  5.00samples/s]\n",
      "  2%|##2                                                                                                              | 2/100 [00:00<00:14,  7.00samples/s]"
     ]
    },
    {
     "name": "stdout",
     "output_type": "stream",
     "text": [
      "[1]\n"
     ]
    },
    {
     "name": "stderr",
     "output_type": "stream",
     "text": [
      " 50%|########################################################                                                        | 50/100 [00:07<00:04, 12.08samples/s]"
     ]
    },
    {
     "name": "stdout",
     "output_type": "stream",
     "text": [
      "[2]\n"
     ]
    },
    {
     "name": "stderr",
     "output_type": "stream",
     "text": [
      "100%|###############################################################################################################| 100/100 [00:15<00:00,  6.38samples/s]\n",
      "100%|###############################################################################################################| 100/100 [00:15<00:00,  6.27samples/s]\n",
      " 12%|#############4                                                                                                  | 12/100 [00:02<00:16,  5.33samples/s]"
     ]
    },
    {
     "name": "stdout",
     "output_type": "stream",
     "text": [
      "[10]\n"
     ]
    },
    {
     "name": "stderr",
     "output_type": "stream",
     "text": [
      " 32%|###################################8                                                                            | 32/100 [00:03<00:06, 10.69samples/s]"
     ]
    },
    {
     "name": "stdout",
     "output_type": "stream",
     "text": [
      "[1]\n"
     ]
    },
    {
     "name": "stderr",
     "output_type": "stream",
     "text": [
      "100%|###############################################################################################################| 100/100 [00:16<00:00,  6.18samples/s]\n",
      "  6%|######7                                                                                                          | 6/100 [00:01<00:18,  4.95samples/s]"
     ]
    },
    {
     "name": "stdout",
     "output_type": "stream",
     "text": [
      "[8]\n"
     ]
    },
    {
     "name": "stderr",
     "output_type": "stream",
     "text": [
      " 16%|#################9                                                                                              | 16/100 [00:01<00:07, 11.46samples/s]"
     ]
    },
    {
     "name": "stdout",
     "output_type": "stream",
     "text": [
      "[7]\n",
      "[10]\n"
     ]
    },
    {
     "name": "stderr",
     "output_type": "stream",
     "text": [
      "100%|###############################################################################################################| 100/100 [00:20<00:00,  4.77samples/s]\n",
      " 38%|##########################################5                                                                     | 38/100 [00:03<00:08,  7.18samples/s]"
     ]
    },
    {
     "name": "stdout",
     "output_type": "stream",
     "text": [
      "[2]\n"
     ]
    },
    {
     "name": "stderr",
     "output_type": "stream",
     "text": [
      "100%|###############################################################################################################| 100/100 [00:10<00:00,  9.17samples/s]\n",
      "  7%|#######9                                                                                                         | 7/100 [00:01<00:19,  4.85samples/s]"
     ]
    },
    {
     "name": "stdout",
     "output_type": "stream",
     "text": [
      "[4]\n"
     ]
    },
    {
     "name": "stderr",
     "output_type": "stream",
     "text": [
      " 84%|##############################################################################################                  | 84/100 [00:11<00:02,  7.71samples/s]"
     ]
    },
    {
     "name": "stdout",
     "output_type": "stream",
     "text": [
      "[7]\n",
      "[10]\n"
     ]
    },
    {
     "name": "stderr",
     "output_type": "stream",
     "text": [
      "100%|###############################################################################################################| 100/100 [00:15<00:00,  6.26samples/s]\n",
      " 18%|####################1                                                                                           | 18/100 [00:01<00:06, 13.65samples/s]"
     ]
    },
    {
     "name": "stdout",
     "output_type": "stream",
     "text": [
      "[2]\n"
     ]
    },
    {
     "name": "stderr",
     "output_type": "stream",
     "text": [
      " 59%|##################################################################                                              | 59/100 [00:09<00:07,  5.26samples/s]"
     ]
    },
    {
     "name": "stdout",
     "output_type": "stream",
     "text": [
      "[3]\n"
     ]
    },
    {
     "name": "stderr",
     "output_type": "stream",
     "text": [
      " 75%|####################################################################################                            | 75/100 [00:11<00:02,  9.18samples/s]"
     ]
    },
    {
     "name": "stdout",
     "output_type": "stream",
     "text": [
      "[3]\n"
     ]
    },
    {
     "name": "stderr",
     "output_type": "stream",
     "text": [
      " 99%|##############################################################################################################8 | 99/100 [00:16<00:00,  7.01samples/s]"
     ]
    },
    {
     "name": "stdout",
     "output_type": "stream",
     "text": [
      "[2]\n"
     ]
    },
    {
     "name": "stderr",
     "output_type": "stream",
     "text": [
      "100%|###############################################################################################################| 100/100 [00:16<00:00,  6.01samples/s]\n",
      " 52%|##########################################################2                                                     | 52/100 [00:08<00:09,  4.87samples/s]"
     ]
    },
    {
     "name": "stdout",
     "output_type": "stream",
     "text": [
      "[10]\n"
     ]
    },
    {
     "name": "stderr",
     "output_type": "stream",
     "text": [
      " 55%|#############################################################6                                                  | 55/100 [00:09<00:11,  3.93samples/s]"
     ]
    },
    {
     "name": "stdout",
     "output_type": "stream",
     "text": [
      "[10]\n"
     ]
    },
    {
     "name": "stderr",
     "output_type": "stream",
     "text": [
      " 71%|###############################################################################5                                | 71/100 [00:11<00:04,  6.64samples/s]"
     ]
    },
    {
     "name": "stdout",
     "output_type": "stream",
     "text": [
      "[3]\n"
     ]
    },
    {
     "name": "stderr",
     "output_type": "stream",
     "text": [
      "100%|###############################################################################################################| 100/100 [00:17<00:00,  5.83samples/s]\n",
      "  6%|######7                                                                                                          | 6/100 [00:00<00:12,  7.68samples/s]"
     ]
    },
    {
     "name": "stdout",
     "output_type": "stream",
     "text": [
      "[7]\n"
     ]
    },
    {
     "name": "stderr",
     "output_type": "stream",
     "text": [
      " 67%|###########################################################################                                     | 67/100 [00:10<00:04,  8.09samples/s]"
     ]
    },
    {
     "name": "stdout",
     "output_type": "stream",
     "text": [
      "[8]\n"
     ]
    },
    {
     "name": "stderr",
     "output_type": "stream",
     "text": [
      "\r",
      " 69%|#############################################################################2                                  | 69/100 [00:11<00:09,  3.40samples/s]"
     ]
    },
    {
     "name": "stdout",
     "output_type": "stream",
     "text": [
      "[10]\n"
     ]
    },
    {
     "name": "stderr",
     "output_type": "stream",
     "text": [
      " 74%|##################################################################################8                             | 74/100 [00:12<00:04,  5.40samples/s]"
     ]
    },
    {
     "name": "stdout",
     "output_type": "stream",
     "text": [
      "[5]\n"
     ]
    },
    {
     "name": "stderr",
     "output_type": "stream",
     "text": [
      "\r",
      " 76%|#####################################################################################1                          | 76/100 [00:13<00:05,  4.08samples/s]"
     ]
    },
    {
     "name": "stdout",
     "output_type": "stream",
     "text": [
      "[10]\n"
     ]
    },
    {
     "name": "stderr",
     "output_type": "stream",
     "text": [
      "100%|###############################################################################################################| 100/100 [00:18<00:00,  5.28samples/s]\n",
      " 17%|###################                                                                                             | 17/100 [00:01<00:10,  7.97samples/s]"
     ]
    },
    {
     "name": "stdout",
     "output_type": "stream",
     "text": [
      "[2]\n"
     ]
    },
    {
     "name": "stderr",
     "output_type": "stream",
     "text": [
      " 39%|###########################################6                                                                    | 39/100 [00:04<00:07,  8.65samples/s]"
     ]
    },
    {
     "name": "stdout",
     "output_type": "stream",
     "text": [
      "[4]\n"
     ]
    },
    {
     "name": "stderr",
     "output_type": "stream",
     "text": [
      "100%|###############################################################################################################| 100/100 [00:16<00:00,  6.03samples/s]\n",
      " 46%|###################################################5                                                            | 46/100 [00:05<00:08,  6.22samples/s]"
     ]
    },
    {
     "name": "stdout",
     "output_type": "stream",
     "text": [
      "[4]\n"
     ]
    },
    {
     "name": "stderr",
     "output_type": "stream",
     "text": [
      " 61%|####################################################################3                                           | 61/100 [00:07<00:04,  9.30samples/s]"
     ]
    },
    {
     "name": "stdout",
     "output_type": "stream",
     "text": [
      "[7]\n",
      "[10]\n"
     ]
    },
    {
     "name": "stderr",
     "output_type": "stream",
     "text": [
      " 76%|#####################################################################################1                          | 76/100 [00:10<00:02,  8.27samples/s]"
     ]
    },
    {
     "name": "stdout",
     "output_type": "stream",
     "text": [
      "[5]\n"
     ]
    },
    {
     "name": "stderr",
     "output_type": "stream",
     "text": [
      " 79%|########################################################################################4                       | 79/100 [00:10<00:03,  6.05samples/s]"
     ]
    },
    {
     "name": "stdout",
     "output_type": "stream",
     "text": [
      "[10]\n",
      "[5]\n"
     ]
    },
    {
     "name": "stderr",
     "output_type": "stream",
     "text": [
      "\r",
      " 80%|#########################################################################################6                      | 80/100 [00:11<00:05,  3.90samples/s]"
     ]
    },
    {
     "name": "stdout",
     "output_type": "stream",
     "text": [
      "[10]\n"
     ]
    },
    {
     "name": "stderr",
     "output_type": "stream",
     "text": [
      "100%|###############################################################################################################| 100/100 [00:15<00:00,  6.30samples/s]\n",
      "  8%|#########                                                                                                        | 8/100 [00:01<00:23,  3.86samples/s]"
     ]
    },
    {
     "name": "stdout",
     "output_type": "stream",
     "text": [
      "[1]\n"
     ]
    },
    {
     "name": "stderr",
     "output_type": "stream",
     "text": [
      " 24%|##########################8                                                                                     | 24/100 [00:03<00:06, 11.15samples/s]"
     ]
    },
    {
     "name": "stdout",
     "output_type": "stream",
     "text": [
      "[2]\n"
     ]
    },
    {
     "name": "stderr",
     "output_type": "stream",
     "text": [
      " 71%|###############################################################################5                                | 71/100 [00:08<00:03,  9.12samples/s]"
     ]
    },
    {
     "name": "stdout",
     "output_type": "stream",
     "text": [
      "[1]\n"
     ]
    },
    {
     "name": "stderr",
     "output_type": "stream",
     "text": [
      "100%|###############################################################################################################| 100/100 [00:13<00:00,  7.37samples/s]\n",
      "  0%|                                                                                                                         | 0/100 [00:00<?, ?samples/s]"
     ]
    },
    {
     "name": "stdout",
     "output_type": "stream",
     "text": [
      "[2]\n"
     ]
    },
    {
     "name": "stderr",
     "output_type": "stream",
     "text": [
      " 18%|####################1                                                                                           | 18/100 [00:03<00:10,  8.06samples/s]"
     ]
    },
    {
     "name": "stdout",
     "output_type": "stream",
     "text": [
      "[2]\n"
     ]
    },
    {
     "name": "stderr",
     "output_type": "stream",
     "text": [
      " 32%|###################################8                                                                            | 32/100 [00:05<00:12,  5.42samples/s]"
     ]
    },
    {
     "name": "stdout",
     "output_type": "stream",
     "text": [
      "[1]\n"
     ]
    },
    {
     "name": "stderr",
     "output_type": "stream",
     "text": [
      " 36%|########################################3                                                                       | 36/100 [00:06<00:10,  6.32samples/s]"
     ]
    },
    {
     "name": "stdout",
     "output_type": "stream",
     "text": [
      "[10]\n"
     ]
    },
    {
     "name": "stderr",
     "output_type": "stream",
     "text": [
      "100%|###############################################################################################################| 100/100 [00:20<00:00,  4.96samples/s]\n",
      "100%|###############################################################################################################| 100/100 [00:13<00:00,  7.42samples/s]\n",
      " 32%|###################################8                                                                            | 32/100 [00:05<00:09,  7.12samples/s]"
     ]
    },
    {
     "name": "stdout",
     "output_type": "stream",
     "text": [
      "[6]\n"
     ]
    },
    {
     "name": "stderr",
     "output_type": "stream",
     "text": [
      "\r",
      " 35%|#######################################1                                                                        | 35/100 [00:06<00:12,  5.17samples/s]"
     ]
    },
    {
     "name": "stdout",
     "output_type": "stream",
     "text": [
      "[10]\n"
     ]
    },
    {
     "name": "stderr",
     "output_type": "stream",
     "text": [
      "\r",
      " 36%|########################################3                                                                       | 36/100 [00:06<00:13,  4.72samples/s]"
     ]
    },
    {
     "name": "stdout",
     "output_type": "stream",
     "text": [
      "[6]\n"
     ]
    },
    {
     "name": "stderr",
     "output_type": "stream",
     "text": [
      "\r",
      " 38%|##########################################5                                                                     | 38/100 [00:06<00:13,  4.46samples/s]"
     ]
    },
    {
     "name": "stdout",
     "output_type": "stream",
     "text": [
      "[5]\n"
     ]
    },
    {
     "name": "stderr",
     "output_type": "stream",
     "text": [
      " 41%|#############################################9                                                                  | 41/100 [00:07<00:12,  4.61samples/s]"
     ]
    },
    {
     "name": "stdout",
     "output_type": "stream",
     "text": [
      "[10]\n"
     ]
    },
    {
     "name": "stderr",
     "output_type": "stream",
     "text": [
      " 83%|############################################################################################9                   | 83/100 [00:14<00:02,  6.09samples/s]"
     ]
    },
    {
     "name": "stdout",
     "output_type": "stream",
     "text": [
      "[3]\n"
     ]
    },
    {
     "name": "stderr",
     "output_type": "stream",
     "text": [
      " 92%|#######################################################################################################         | 92/100 [00:15<00:00, 11.52samples/s]"
     ]
    },
    {
     "name": "stdout",
     "output_type": "stream",
     "text": [
      "[2]\n"
     ]
    },
    {
     "name": "stderr",
     "output_type": "stream",
     "text": [
      "100%|###############################################################################################################| 100/100 [00:16<00:00,  6.24samples/s]\n",
      " 23%|#########################7                                                                                      | 23/100 [00:02<00:10,  7.14samples/s]"
     ]
    },
    {
     "name": "stdout",
     "output_type": "stream",
     "text": [
      "[7]\n"
     ]
    },
    {
     "name": "stderr",
     "output_type": "stream",
     "text": [
      "\r",
      " 25%|############################                                                                                    | 25/100 [00:03<00:16,  4.55samples/s]"
     ]
    },
    {
     "name": "stdout",
     "output_type": "stream",
     "text": [
      "[10]\n"
     ]
    },
    {
     "name": "stderr",
     "output_type": "stream",
     "text": [
      "100%|###############################################################################################################| 100/100 [00:17<00:00,  5.84samples/s]\n",
      " 33%|####################################9                                                                           | 33/100 [00:04<00:15,  4.22samples/s]"
     ]
    },
    {
     "name": "stdout",
     "output_type": "stream",
     "text": [
      "[3]\n"
     ]
    },
    {
     "name": "stderr",
     "output_type": "stream",
     "text": [
      " 71%|###############################################################################5                                | 71/100 [00:11<00:04,  6.93samples/s]"
     ]
    },
    {
     "name": "stdout",
     "output_type": "stream",
     "text": [
      "[6]\n"
     ]
    },
    {
     "name": "stderr",
     "output_type": "stream",
     "text": [
      "100%|###############################################################################################################| 100/100 [00:16<00:00,  6.14samples/s]\n",
      " 37%|#########################################4                                                                      | 37/100 [00:04<00:05, 11.04samples/s]"
     ]
    },
    {
     "name": "stdout",
     "output_type": "stream",
     "text": [
      "[3]\n"
     ]
    },
    {
     "name": "stderr",
     "output_type": "stream",
     "text": [
      "100%|###############################################################################################################| 100/100 [00:12<00:00,  7.78samples/s]\n",
      " 57%|###############################################################8                                                | 57/100 [00:11<00:04,  9.19samples/s]"
     ]
    },
    {
     "name": "stdout",
     "output_type": "stream",
     "text": [
      "[2]\n"
     ]
    },
    {
     "name": "stderr",
     "output_type": "stream",
     "text": [
      " 62%|#####################################################################4                                          | 62/100 [00:12<00:04,  8.85samples/s]"
     ]
    },
    {
     "name": "stdout",
     "output_type": "stream",
     "text": [
      "[10]\n"
     ]
    },
    {
     "name": "stderr",
     "output_type": "stream",
     "text": [
      " 78%|#######################################################################################3                        | 78/100 [00:14<00:03,  6.86samples/s]"
     ]
    },
    {
     "name": "stdout",
     "output_type": "stream",
     "text": [
      "[2]\n"
     ]
    },
    {
     "name": "stderr",
     "output_type": "stream",
     "text": [
      "\r",
      " 80%|#########################################################################################6                      | 80/100 [00:15<00:04,  4.99samples/s]"
     ]
    },
    {
     "name": "stdout",
     "output_type": "stream",
     "text": [
      "[10]\n"
     ]
    },
    {
     "name": "stderr",
     "output_type": "stream",
     "text": [
      "100%|###############################################################################################################| 100/100 [00:19<00:00,  5.26samples/s]\n",
      " 69%|#############################################################################2                                  | 69/100 [00:14<00:03,  8.52samples/s]"
     ]
    },
    {
     "name": "stdout",
     "output_type": "stream",
     "text": [
      "[1]\n"
     ]
    },
    {
     "name": "stderr",
     "output_type": "stream",
     "text": [
      "100%|###############################################################################################################| 100/100 [00:19<00:00,  5.15samples/s]\n",
      " 15%|################8                                                                                               | 15/100 [00:01<00:07, 11.33samples/s]"
     ]
    },
    {
     "name": "stdout",
     "output_type": "stream",
     "text": [
      "[5]\n",
      "[2]\n"
     ]
    },
    {
     "name": "stderr",
     "output_type": "stream",
     "text": [
      " 94%|#########################################################################################################2      | 94/100 [00:09<00:00,  9.32samples/s]"
     ]
    },
    {
     "name": "stdout",
     "output_type": "stream",
     "text": [
      "[8]\n"
     ]
    },
    {
     "name": "stderr",
     "output_type": "stream",
     "text": [
      "100%|###############################################################################################################| 100/100 [00:10<00:00,  9.50samples/s]\n",
      "  8%|#########                                                                                                        | 8/100 [00:01<00:19,  4.66samples/s]"
     ]
    },
    {
     "name": "stdout",
     "output_type": "stream",
     "text": [
      "[2]\n"
     ]
    },
    {
     "name": "stderr",
     "output_type": "stream",
     "text": [
      " 16%|#################9                                                                                              | 16/100 [00:03<00:09,  8.41samples/s]"
     ]
    },
    {
     "name": "stdout",
     "output_type": "stream",
     "text": [
      "[2]\n"
     ]
    },
    {
     "name": "stderr",
     "output_type": "stream",
     "text": [
      " 51%|#########################################################1                                                      | 51/100 [00:08<00:11,  4.37samples/s]"
     ]
    },
    {
     "name": "stdout",
     "output_type": "stream",
     "text": [
      "[3]\n"
     ]
    },
    {
     "name": "stderr",
     "output_type": "stream",
     "text": [
      "\r",
      " 52%|##########################################################2                                                     | 52/100 [00:09<00:13,  3.53samples/s]"
     ]
    },
    {
     "name": "stdout",
     "output_type": "stream",
     "text": [
      "[10]\n"
     ]
    },
    {
     "name": "stderr",
     "output_type": "stream",
     "text": [
      " 63%|######################################################################5                                         | 63/100 [00:11<00:06,  5.53samples/s]"
     ]
    },
    {
     "name": "stdout",
     "output_type": "stream",
     "text": [
      "[3]\n"
     ]
    },
    {
     "name": "stderr",
     "output_type": "stream",
     "text": [
      "\r",
      " 64%|#######################################################################6                                        | 64/100 [00:12<00:09,  3.99samples/s]"
     ]
    },
    {
     "name": "stdout",
     "output_type": "stream",
     "text": [
      "[10]\n"
     ]
    },
    {
     "name": "stderr",
     "output_type": "stream",
     "text": [
      "100%|###############################################################################################################| 100/100 [00:20<00:00,  4.85samples/s]\n",
      " 46%|###################################################5                                                            | 46/100 [00:04<00:04, 11.33samples/s]"
     ]
    },
    {
     "name": "stdout",
     "output_type": "stream",
     "text": [
      "[1]\n"
     ]
    },
    {
     "name": "stderr",
     "output_type": "stream",
     "text": [
      " 61%|####################################################################3                                           | 61/100 [00:06<00:03, 10.36samples/s]"
     ]
    },
    {
     "name": "stdout",
     "output_type": "stream",
     "text": [
      "[1]\n"
     ]
    },
    {
     "name": "stderr",
     "output_type": "stream",
     "text": [
      " 76%|#####################################################################################1                          | 76/100 [00:07<00:04,  5.74samples/s]"
     ]
    },
    {
     "name": "stdout",
     "output_type": "stream",
     "text": [
      "[3]\n"
     ]
    },
    {
     "name": "stderr",
     "output_type": "stream",
     "text": [
      " 85%|###############################################################################################2                | 85/100 [00:10<00:03,  4.29samples/s]"
     ]
    },
    {
     "name": "stdout",
     "output_type": "stream",
     "text": [
      "[3]\n"
     ]
    },
    {
     "name": "stderr",
     "output_type": "stream",
     "text": [
      "100%|###############################################################################################################| 100/100 [00:11<00:00,  8.40samples/s]\n",
      " 60%|###################################################################2                                            | 60/100 [00:12<00:09,  4.31samples/s]"
     ]
    },
    {
     "name": "stdout",
     "output_type": "stream",
     "text": [
      "[2]\n"
     ]
    },
    {
     "name": "stderr",
     "output_type": "stream",
     "text": [
      " 72%|################################################################################6                               | 72/100 [00:17<00:08,  3.37samples/s]"
     ]
    },
    {
     "name": "stdout",
     "output_type": "stream",
     "text": [
      "[6]\n"
     ]
    },
    {
     "name": "stderr",
     "output_type": "stream",
     "text": [
      "100%|###############################################################################################################| 100/100 [00:22<00:00,  4.47samples/s]\n",
      " 35%|#######################################1                                                                        | 35/100 [00:04<00:08,  8.12samples/s]"
     ]
    },
    {
     "name": "stdout",
     "output_type": "stream",
     "text": [
      "[2]\n"
     ]
    },
    {
     "name": "stderr",
     "output_type": "stream",
     "text": [
      " 66%|#########################################################################9                                      | 66/100 [00:08<00:03, 10.78samples/s]"
     ]
    },
    {
     "name": "stdout",
     "output_type": "stream",
     "text": [
      "[7]\n"
     ]
    },
    {
     "name": "stderr",
     "output_type": "stream",
     "text": [
      "\r",
      " 68%|############################################################################1                                   | 68/100 [00:09<00:06,  5.22samples/s]"
     ]
    },
    {
     "name": "stdout",
     "output_type": "stream",
     "text": [
      "[10]\n"
     ]
    },
    {
     "name": "stderr",
     "output_type": "stream",
     "text": [
      "100%|###############################################################################################################| 100/100 [00:16<00:00,  6.20samples/s]\n",
      "  8%|#########                                                                                                        | 8/100 [00:00<00:09,  9.64samples/s]"
     ]
    },
    {
     "name": "stdout",
     "output_type": "stream",
     "text": [
      "[4]\n"
     ]
    },
    {
     "name": "stderr",
     "output_type": "stream",
     "text": [
      " 20%|######################4                                                                                         | 20/100 [00:01<00:07, 10.11samples/s]"
     ]
    },
    {
     "name": "stdout",
     "output_type": "stream",
     "text": [
      "[1]\n"
     ]
    },
    {
     "name": "stderr",
     "output_type": "stream",
     "text": [
      " 26%|#############################1                                                                                  | 26/100 [00:02<00:08,  9.08samples/s]"
     ]
    },
    {
     "name": "stdout",
     "output_type": "stream",
     "text": [
      "[3]\n"
     ]
    },
    {
     "name": "stderr",
     "output_type": "stream",
     "text": [
      "100%|###############################################################################################################| 100/100 [00:13<00:00,  7.62samples/s]\n",
      " 48%|#####################################################7                                                          | 48/100 [00:05<00:10,  5.12samples/s]"
     ]
    },
    {
     "name": "stdout",
     "output_type": "stream",
     "text": [
      "[7]\n"
     ]
    },
    {
     "name": "stderr",
     "output_type": "stream",
     "text": [
      " 63%|######################################################################5                                         | 63/100 [00:08<00:07,  4.69samples/s]"
     ]
    },
    {
     "name": "stdout",
     "output_type": "stream",
     "text": [
      "[5]\n"
     ]
    },
    {
     "name": "stderr",
     "output_type": "stream",
     "text": [
      " 66%|#########################################################################9                                      | 66/100 [00:09<00:07,  4.63samples/s]"
     ]
    },
    {
     "name": "stdout",
     "output_type": "stream",
     "text": [
      "[10]\n"
     ]
    },
    {
     "name": "stderr",
     "output_type": "stream",
     "text": [
      " 76%|#####################################################################################1                          | 76/100 [00:12<00:05,  4.23samples/s]"
     ]
    },
    {
     "name": "stdout",
     "output_type": "stream",
     "text": [
      "[2]\n"
     ]
    },
    {
     "name": "stderr",
     "output_type": "stream",
     "text": [
      " 79%|########################################################################################4                       | 79/100 [00:12<00:04,  4.49samples/s]"
     ]
    },
    {
     "name": "stdout",
     "output_type": "stream",
     "text": [
      "[10]\n",
      "[1]\n"
     ]
    },
    {
     "name": "stderr",
     "output_type": "stream",
     "text": [
      " 82%|###########################################################################################8                    | 82/100 [00:13<00:03,  5.44samples/s]"
     ]
    },
    {
     "name": "stdout",
     "output_type": "stream",
     "text": [
      "[10]\n"
     ]
    },
    {
     "name": "stderr",
     "output_type": "stream",
     "text": [
      "100%|###############################################################################################################| 100/100 [00:15<00:00,  6.37samples/s]\n",
      " 15%|################8                                                                                               | 15/100 [00:02<00:09,  8.76samples/s]"
     ]
    },
    {
     "name": "stdout",
     "output_type": "stream",
     "text": [
      "[3]\n"
     ]
    },
    {
     "name": "stderr",
     "output_type": "stream",
     "text": [
      " 33%|####################################9                                                                           | 33/100 [00:06<00:09,  7.38samples/s]"
     ]
    },
    {
     "name": "stdout",
     "output_type": "stream",
     "text": [
      "[8]\n"
     ]
    },
    {
     "name": "stderr",
     "output_type": "stream",
     "text": [
      "100%|###############################################################################################################| 100/100 [00:16<00:00,  6.14samples/s]\n",
      " 40%|############################################8                                                                   | 40/100 [00:06<00:18,  3.29samples/s]"
     ]
    },
    {
     "name": "stdout",
     "output_type": "stream",
     "text": [
      "[8]\n"
     ]
    },
    {
     "name": "stderr",
     "output_type": "stream",
     "text": [
      " 82%|###########################################################################################8                    | 82/100 [00:14<00:04,  3.60samples/s]"
     ]
    },
    {
     "name": "stdout",
     "output_type": "stream",
     "text": [
      "[6]\n"
     ]
    },
    {
     "name": "stderr",
     "output_type": "stream",
     "text": [
      "\r",
      " 83%|############################################################################################9                   | 83/100 [00:15<00:04,  3.79samples/s]"
     ]
    },
    {
     "name": "stdout",
     "output_type": "stream",
     "text": [
      "[4]\n"
     ]
    },
    {
     "name": "stderr",
     "output_type": "stream",
     "text": [
      "100%|###############################################################################################################| 100/100 [00:17<00:00,  5.70samples/s]\n",
      "  4%|####5                                                                                                            | 4/100 [00:00<00:08, 10.67samples/s]"
     ]
    },
    {
     "name": "stdout",
     "output_type": "stream",
     "text": [
      "[3]\n"
     ]
    },
    {
     "name": "stderr",
     "output_type": "stream",
     "text": [
      " 30%|#################################6                                                                              | 30/100 [00:02<00:04, 14.04samples/s]"
     ]
    },
    {
     "name": "stdout",
     "output_type": "stream",
     "text": [
      "[1]\n"
     ]
    },
    {
     "name": "stderr",
     "output_type": "stream",
     "text": [
      " 99%|##############################################################################################################8 | 99/100 [00:16<00:00,  4.39samples/s]"
     ]
    },
    {
     "name": "stdout",
     "output_type": "stream",
     "text": [
      "[9]\n"
     ]
    },
    {
     "name": "stderr",
     "output_type": "stream",
     "text": [
      "100%|###############################################################################################################| 100/100 [00:17<00:00,  5.86samples/s]\n",
      "  1%|#1                                                                                                               | 1/100 [00:00<00:17,  5.63samples/s]"
     ]
    },
    {
     "name": "stdout",
     "output_type": "stream",
     "text": [
      "[10]\n"
     ]
    },
    {
     "name": "stderr",
     "output_type": "stream",
     "text": [
      " 13%|##############5                                                                                                 | 13/100 [00:01<00:07, 12.15samples/s]"
     ]
    },
    {
     "name": "stdout",
     "output_type": "stream",
     "text": [
      "[1]\n"
     ]
    },
    {
     "name": "stderr",
     "output_type": "stream",
     "text": [
      " 40%|############################################8                                                                   | 40/100 [00:05<00:08,  7.26samples/s]"
     ]
    },
    {
     "name": "stdout",
     "output_type": "stream",
     "text": [
      "[5]\n"
     ]
    },
    {
     "name": "stderr",
     "output_type": "stream",
     "text": [
      " 54%|############################################################4                                                   | 54/100 [00:07<00:05,  8.15samples/s]"
     ]
    },
    {
     "name": "stdout",
     "output_type": "stream",
     "text": [
      "[7]\n"
     ]
    },
    {
     "name": "stderr",
     "output_type": "stream",
     "text": [
      "\r",
      " 56%|##############################################################7                                                 | 56/100 [00:08<00:09,  4.74samples/s]"
     ]
    },
    {
     "name": "stdout",
     "output_type": "stream",
     "text": [
      "[10]\n"
     ]
    },
    {
     "name": "stderr",
     "output_type": "stream",
     "text": [
      " 74%|##################################################################################8                             | 74/100 [00:11<00:04,  5.92samples/s]"
     ]
    },
    {
     "name": "stdout",
     "output_type": "stream",
     "text": [
      "[8]\n"
     ]
    },
    {
     "name": "stderr",
     "output_type": "stream",
     "text": [
      "100%|###############################################################################################################| 100/100 [00:17<00:00,  5.68samples/s]\n",
      " 12%|#############4                                                                                                  | 12/100 [00:01<00:09,  9.45samples/s]"
     ]
    },
    {
     "name": "stdout",
     "output_type": "stream",
     "text": [
      "[2]\n"
     ]
    },
    {
     "name": "stderr",
     "output_type": "stream",
     "text": [
      " 81%|##########################################################################################7                     | 81/100 [00:13<00:03,  5.69samples/s]"
     ]
    },
    {
     "name": "stdout",
     "output_type": "stream",
     "text": [
      "[2]\n"
     ]
    },
    {
     "name": "stderr",
     "output_type": "stream",
     "text": [
      "\r",
      " 83%|############################################################################################9                   | 83/100 [00:13<00:03,  5.05samples/s]"
     ]
    },
    {
     "name": "stdout",
     "output_type": "stream",
     "text": [
      "[10]\n"
     ]
    },
    {
     "name": "stderr",
     "output_type": "stream",
     "text": [
      "100%|###############################################################################################################| 100/100 [00:17<00:00,  5.67samples/s]\n",
      " 60%|###################################################################2                                            | 60/100 [00:09<00:08,  4.47samples/s]"
     ]
    },
    {
     "name": "stdout",
     "output_type": "stream",
     "text": [
      "[8]\n"
     ]
    },
    {
     "name": "stderr",
     "output_type": "stream",
     "text": [
      " 89%|###################################################################################################6            | 89/100 [00:14<00:01,  9.59samples/s]"
     ]
    },
    {
     "name": "stdout",
     "output_type": "stream",
     "text": [
      "[8]\n"
     ]
    },
    {
     "name": "stderr",
     "output_type": "stream",
     "text": [
      "\r",
      " 91%|#####################################################################################################9          | 91/100 [00:14<00:01,  5.09samples/s]"
     ]
    },
    {
     "name": "stdout",
     "output_type": "stream",
     "text": [
      "[10]\n"
     ]
    },
    {
     "name": "stderr",
     "output_type": "stream",
     "text": [
      "100%|###############################################################################################################| 100/100 [00:15<00:00,  6.41samples/s]\n",
      " 12%|#############4                                                                                                  | 12/100 [00:01<00:07, 11.75samples/s]"
     ]
    },
    {
     "name": "stdout",
     "output_type": "stream",
     "text": [
      "[1]\n"
     ]
    },
    {
     "name": "stderr",
     "output_type": "stream",
     "text": [
      " 25%|############################                                                                                    | 25/100 [00:03<00:13,  5.74samples/s]"
     ]
    },
    {
     "name": "stdout",
     "output_type": "stream",
     "text": [
      "[5]\n"
     ]
    },
    {
     "name": "stderr",
     "output_type": "stream",
     "text": [
      " 30%|#################################6                                                                              | 30/100 [00:04<00:11,  6.15samples/s]"
     ]
    },
    {
     "name": "stdout",
     "output_type": "stream",
     "text": [
      "[6]\n"
     ]
    },
    {
     "name": "stderr",
     "output_type": "stream",
     "text": [
      "\r",
      " 31%|##################################7                                                                             | 31/100 [00:05<00:18,  3.75samples/s]"
     ]
    },
    {
     "name": "stdout",
     "output_type": "stream",
     "text": [
      "[10]\n"
     ]
    },
    {
     "name": "stderr",
     "output_type": "stream",
     "text": [
      " 36%|########################################3                                                                       | 36/100 [00:06<00:17,  3.74samples/s]"
     ]
    },
    {
     "name": "stdout",
     "output_type": "stream",
     "text": [
      "[3]\n",
      "[3]\n"
     ]
    },
    {
     "name": "stderr",
     "output_type": "stream",
     "text": [
      "100%|###############################################################################################################| 100/100 [00:21<00:00,  4.61samples/s]\n",
      "  3%|###3                                                                                                             | 3/100 [00:00<00:10,  9.58samples/s]"
     ]
    },
    {
     "name": "stdout",
     "output_type": "stream",
     "text": [
      "[2]\n"
     ]
    },
    {
     "name": "stderr",
     "output_type": "stream",
     "text": [
      " 12%|#############4                                                                                                  | 12/100 [00:00<00:05, 16.38samples/s]"
     ]
    },
    {
     "name": "stdout",
     "output_type": "stream",
     "text": [
      "[3]\n"
     ]
    },
    {
     "name": "stderr",
     "output_type": "stream",
     "text": [
      "100%|###############################################################################################################| 100/100 [00:10<00:00,  9.33samples/s]\n",
      " 20%|######################4                                                                                         | 20/100 [00:04<00:14,  5.40samples/s]"
     ]
    },
    {
     "name": "stdout",
     "output_type": "stream",
     "text": [
      "[6]\n"
     ]
    },
    {
     "name": "stderr",
     "output_type": "stream",
     "text": [
      " 23%|#########################7                                                                                      | 23/100 [00:05<00:15,  4.82samples/s]"
     ]
    },
    {
     "name": "stdout",
     "output_type": "stream",
     "text": [
      "[10]\n"
     ]
    },
    {
     "name": "stderr",
     "output_type": "stream",
     "text": [
      " 29%|################################4                                                                               | 29/100 [00:06<00:11,  6.05samples/s]"
     ]
    },
    {
     "name": "stdout",
     "output_type": "stream",
     "text": [
      "[4]\n"
     ]
    },
    {
     "name": "stderr",
     "output_type": "stream",
     "text": [
      " 88%|##################################################################################################5             | 88/100 [00:17<00:02,  4.04samples/s]"
     ]
    },
    {
     "name": "stdout",
     "output_type": "stream",
     "text": [
      "[1]\n"
     ]
    },
    {
     "name": "stderr",
     "output_type": "stream",
     "text": [
      " 92%|#######################################################################################################         | 92/100 [00:18<00:01,  5.33samples/s]"
     ]
    },
    {
     "name": "stdout",
     "output_type": "stream",
     "text": [
      "[10]\n"
     ]
    },
    {
     "name": "stderr",
     "output_type": "stream",
     "text": [
      "100%|###############################################################################################################| 100/100 [00:20<00:00,  4.99samples/s]\n",
      " 22%|########################1                                                                                       | 54/250 [00:07<00:35,  5.52samples/s]"
     ]
    },
    {
     "name": "stdout",
     "output_type": "stream",
     "text": [
      "[7]\n"
     ]
    },
    {
     "name": "stderr",
     "output_type": "stream",
     "text": [
      " 22%|#########################                                                                                       | 56/250 [00:08<00:47,  4.06samples/s]"
     ]
    },
    {
     "name": "stdout",
     "output_type": "stream",
     "text": [
      "[10]\n"
     ]
    },
    {
     "name": "stderr",
     "output_type": "stream",
     "text": [
      " 62%|####################################################################3                                          | 154/250 [00:28<00:12,  7.53samples/s]"
     ]
    },
    {
     "name": "stdout",
     "output_type": "stream",
     "text": [
      "[4]\n"
     ]
    },
    {
     "name": "stderr",
     "output_type": "stream",
     "text": [
      " 72%|###############################################################################9                               | 180/250 [00:33<00:10,  6.56samples/s]"
     ]
    },
    {
     "name": "stdout",
     "output_type": "stream",
     "text": [
      "[4]\n"
     ]
    },
    {
     "name": "stderr",
     "output_type": "stream",
     "text": [
      " 73%|#################################################################################2                             | 183/250 [00:33<00:11,  6.03samples/s]"
     ]
    },
    {
     "name": "stdout",
     "output_type": "stream",
     "text": [
      "[1]\n"
     ]
    },
    {
     "name": "stderr",
     "output_type": "stream",
     "text": [
      " 98%|#############################################################################################################2 | 246/250 [00:45<00:00,  5.61samples/s]"
     ]
    },
    {
     "name": "stdout",
     "output_type": "stream",
     "text": [
      "[9]\n"
     ]
    },
    {
     "name": "stderr",
     "output_type": "stream",
     "text": [
      "100%|###############################################################################################################| 250/250 [00:46<00:00,  5.39samples/s]\n",
      "  5%|#####3                                                                                                          | 12/250 [00:01<00:26,  8.97samples/s]"
     ]
    },
    {
     "name": "stdout",
     "output_type": "stream",
     "text": [
      "[8]\n"
     ]
    },
    {
     "name": "stderr",
     "output_type": "stream",
     "text": [
      "\r",
      "  6%|######2                                                                                                         | 14/250 [00:02<00:47,  4.92samples/s]"
     ]
    },
    {
     "name": "stdout",
     "output_type": "stream",
     "text": [
      "[10]\n"
     ]
    },
    {
     "name": "stderr",
     "output_type": "stream",
     "text": [
      " 18%|####################1                                                                                           | 45/250 [00:05<00:18, 10.87samples/s]"
     ]
    },
    {
     "name": "stdout",
     "output_type": "stream",
     "text": [
      "[4]\n"
     ]
    },
    {
     "name": "stderr",
     "output_type": "stream",
     "text": [
      "\r",
      " 19%|#####################                                                                                           | 47/250 [00:06<00:32,  6.17samples/s]"
     ]
    },
    {
     "name": "stdout",
     "output_type": "stream",
     "text": [
      "[10]\n"
     ]
    },
    {
     "name": "stderr",
     "output_type": "stream",
     "text": [
      " 22%|#########################                                                                                       | 56/250 [00:07<00:30,  6.36samples/s]"
     ]
    },
    {
     "name": "stdout",
     "output_type": "stream",
     "text": [
      "[7]\n"
     ]
    },
    {
     "name": "stderr",
     "output_type": "stream",
     "text": [
      "\r",
      " 23%|#########################5                                                                                      | 57/250 [00:07<00:52,  3.70samples/s]"
     ]
    },
    {
     "name": "stdout",
     "output_type": "stream",
     "text": [
      "[10]\n",
      "[4]\n"
     ]
    },
    {
     "name": "stderr",
     "output_type": "stream",
     "text": [
      " 24%|##########################4                                                                                     | 59/250 [00:08<00:54,  3.50samples/s]"
     ]
    },
    {
     "name": "stdout",
     "output_type": "stream",
     "text": [
      "[10]\n"
     ]
    },
    {
     "name": "stderr",
     "output_type": "stream",
     "text": [
      " 28%|###############################3                                                                                | 70/250 [00:10<00:37,  4.77samples/s]"
     ]
    },
    {
     "name": "stdout",
     "output_type": "stream",
     "text": [
      "[8]\n"
     ]
    },
    {
     "name": "stderr",
     "output_type": "stream",
     "text": [
      " 31%|##################################4                                                                             | 77/250 [00:11<00:21,  8.23samples/s]"
     ]
    },
    {
     "name": "stdout",
     "output_type": "stream",
     "text": [
      "[3]\n"
     ]
    },
    {
     "name": "stderr",
     "output_type": "stream",
     "text": [
      " 32%|####################################2                                                                           | 81/250 [00:11<00:25,  6.53samples/s]"
     ]
    },
    {
     "name": "stdout",
     "output_type": "stream",
     "text": [
      "[10]\n",
      "[1]\n"
     ]
    },
    {
     "name": "stderr",
     "output_type": "stream",
     "text": [
      " 34%|#####################################6                                                                          | 84/250 [00:12<00:28,  5.87samples/s]"
     ]
    },
    {
     "name": "stdout",
     "output_type": "stream",
     "text": [
      "[10]\n"
     ]
    },
    {
     "name": "stderr",
     "output_type": "stream",
     "text": [
      " 37%|#########################################2                                                                      | 92/250 [00:14<00:34,  4.51samples/s]"
     ]
    },
    {
     "name": "stdout",
     "output_type": "stream",
     "text": [
      "[4]\n"
     ]
    },
    {
     "name": "stderr",
     "output_type": "stream",
     "text": [
      " 38%|##########################################5                                                                     | 95/250 [00:15<00:40,  3.80samples/s]"
     ]
    },
    {
     "name": "stdout",
     "output_type": "stream",
     "text": [
      "[1]\n"
     ]
    },
    {
     "name": "stderr",
     "output_type": "stream",
     "text": [
      " 40%|############################################3                                                                   | 99/250 [00:16<00:30,  4.92samples/s]"
     ]
    },
    {
     "name": "stdout",
     "output_type": "stream",
     "text": [
      "[10]\n"
     ]
    },
    {
     "name": "stderr",
     "output_type": "stream",
     "text": [
      " 50%|#######################################################                                                        | 124/250 [00:19<00:15,  8.03samples/s]"
     ]
    },
    {
     "name": "stdout",
     "output_type": "stream",
     "text": [
      "[3]\n"
     ]
    },
    {
     "name": "stderr",
     "output_type": "stream",
     "text": [
      " 70%|##############################################################################1                                | 176/250 [00:29<00:15,  4.67samples/s]"
     ]
    },
    {
     "name": "stdout",
     "output_type": "stream",
     "text": [
      "[6]\n"
     ]
    },
    {
     "name": "stderr",
     "output_type": "stream",
     "text": [
      "\r",
      " 71%|###############################################################################                                | 178/250 [00:30<00:19,  3.66samples/s]"
     ]
    },
    {
     "name": "stdout",
     "output_type": "stream",
     "text": [
      "[10]\n"
     ]
    },
    {
     "name": "stderr",
     "output_type": "stream",
     "text": [
      "100%|###############################################################################################################| 250/250 [00:41<00:00,  5.97samples/s]\n",
      " 36%|########################################3                                                                       | 90/250 [00:11<00:23,  6.93samples/s]"
     ]
    },
    {
     "name": "stdout",
     "output_type": "stream",
     "text": [
      "[7]\n"
     ]
    },
    {
     "name": "stderr",
     "output_type": "stream",
     "text": [
      " 42%|###############################################                                                                | 106/250 [00:14<00:19,  7.32samples/s]\n"
     ]
    },
    {
     "ename": "KeyboardInterrupt",
     "evalue": "",
     "output_type": "error",
     "traceback": [
      "\u001b[0;31m---------------------------------------------------------------------------\u001b[0m",
      "\u001b[0;31mKeyboardInterrupt\u001b[0m                         Traceback (most recent call last)",
      "\u001b[0;32m/tmp/ipykernel_38623/2342032179.py\u001b[0m in \u001b[0;36m<module>\u001b[0;34m\u001b[0m\n\u001b[1;32m     18\u001b[0m     \u001b[0;32mfor\u001b[0m \u001b[0m_\u001b[0m \u001b[0;32min\u001b[0m \u001b[0mrange\u001b[0m\u001b[0;34m(\u001b[0m\u001b[0;36m10\u001b[0m\u001b[0;34m)\u001b[0m\u001b[0;34m:\u001b[0m\u001b[0;34m\u001b[0m\u001b[0;34m\u001b[0m\u001b[0m\n\u001b[1;32m     19\u001b[0m         \u001b[0mstart_time\u001b[0m \u001b[0;34m=\u001b[0m \u001b[0mtime\u001b[0m\u001b[0;34m.\u001b[0m\u001b[0mtime\u001b[0m\u001b[0;34m(\u001b[0m\u001b[0;34m)\u001b[0m\u001b[0;34m\u001b[0m\u001b[0;34m\u001b[0m\u001b[0m\n\u001b[0;32m---> 20\u001b[0;31m         \u001b[0mpath\u001b[0m\u001b[0;34m,\u001b[0m \u001b[0mlength\u001b[0m \u001b[0;34m=\u001b[0m \u001b[0mcomputepath_old\u001b[0m\u001b[0;34m(\u001b[0m\u001b[0mrobot\u001b[0m\u001b[0;34m,\u001b[0m \u001b[0mcube\u001b[0m\u001b[0;34m,\u001b[0m \u001b[0mq0\u001b[0m\u001b[0;34m,\u001b[0m\u001b[0mqe\u001b[0m\u001b[0;34m,\u001b[0m\u001b[0mCUBE_PLACEMENT\u001b[0m\u001b[0;34m,\u001b[0m \u001b[0mCUBE_PLACEMENT_TARGET\u001b[0m\u001b[0;34m,\u001b[0m \u001b[0;34m**\u001b[0m\u001b[0mextra_args\u001b[0m\u001b[0;34m)\u001b[0m\u001b[0;34m\u001b[0m\u001b[0;34m\u001b[0m\u001b[0m\n\u001b[0m\u001b[1;32m     21\u001b[0m         \u001b[0mexecution_time\u001b[0m \u001b[0;34m=\u001b[0m \u001b[0mtime\u001b[0m\u001b[0;34m.\u001b[0m\u001b[0mtime\u001b[0m\u001b[0;34m(\u001b[0m\u001b[0;34m)\u001b[0m \u001b[0;34m-\u001b[0m \u001b[0mstart_time\u001b[0m\u001b[0;34m\u001b[0m\u001b[0;34m\u001b[0m\u001b[0m\n\u001b[1;32m     22\u001b[0m \u001b[0;34m\u001b[0m\u001b[0m\n",
      "\u001b[0;32m~/Desktop/adv-rob-software-labs-2/adv-rob-software-labs/path_old.py\u001b[0m in \u001b[0;36mcomputepath\u001b[0;34m(robot, cube, qinit, qgoal, cubeplacementq0, cubeplacementqgoal, control, **kwargs)\u001b[0m\n\u001b[1;32m    285\u001b[0m \u001b[0;31m#the path is expressed as a list of configurations\u001b[0m\u001b[0;34m\u001b[0m\u001b[0;34m\u001b[0m\u001b[0m\n\u001b[1;32m    286\u001b[0m \u001b[0;32mdef\u001b[0m \u001b[0mcomputepath\u001b[0m\u001b[0;34m(\u001b[0m\u001b[0mrobot\u001b[0m\u001b[0;34m,\u001b[0m \u001b[0mcube\u001b[0m\u001b[0;34m,\u001b[0m \u001b[0mqinit\u001b[0m\u001b[0;34m,\u001b[0m\u001b[0mqgoal\u001b[0m\u001b[0;34m,\u001b[0m\u001b[0mcubeplacementq0\u001b[0m\u001b[0;34m,\u001b[0m \u001b[0mcubeplacementqgoal\u001b[0m\u001b[0;34m,\u001b[0m \u001b[0mcontrol\u001b[0m\u001b[0;34m=\u001b[0m\u001b[0;32mFalse\u001b[0m\u001b[0;34m,\u001b[0m \u001b[0;34m**\u001b[0m\u001b[0mkwargs\u001b[0m\u001b[0;34m)\u001b[0m\u001b[0;34m:\u001b[0m\u001b[0;34m\u001b[0m\u001b[0;34m\u001b[0m\u001b[0m\n\u001b[0;32m--> 287\u001b[0;31m     graph, success = create_path(\n\u001b[0m\u001b[1;32m    288\u001b[0m         \u001b[0mrobot\u001b[0m\u001b[0;34m,\u001b[0m\u001b[0;34m\u001b[0m\u001b[0;34m\u001b[0m\u001b[0m\n\u001b[1;32m    289\u001b[0m         \u001b[0mcube\u001b[0m\u001b[0;34m,\u001b[0m\u001b[0;34m\u001b[0m\u001b[0;34m\u001b[0m\u001b[0m\n",
      "\u001b[0;32m~/Desktop/adv-rob-software-labs-2/adv-rob-software-labs/path_old.py\u001b[0m in \u001b[0;36mcreate_path\u001b[0;34m(robot, cube, q0, c0, qe, ce, n_samples, n_steps_interpol, n_nodes_to_add, control)\u001b[0m\n\u001b[1;32m    194\u001b[0m             \u001b[0mclosest_node_id\u001b[0m \u001b[0;34m=\u001b[0m \u001b[0mg\u001b[0m\u001b[0;34m.\u001b[0m\u001b[0mfind_closest_node\u001b[0m\u001b[0;34m(\u001b[0m\u001b[0msampled_cube_pose\u001b[0m\u001b[0;34m)\u001b[0m\u001b[0;34m\u001b[0m\u001b[0;34m\u001b[0m\u001b[0m\n\u001b[1;32m    195\u001b[0m             \u001b[0mclosest_node\u001b[0m \u001b[0;34m=\u001b[0m \u001b[0mg\u001b[0m\u001b[0;34m.\u001b[0m\u001b[0mnodes\u001b[0m\u001b[0;34m[\u001b[0m\u001b[0mclosest_node_id\u001b[0m\u001b[0;34m]\u001b[0m\u001b[0;34m\u001b[0m\u001b[0;34m\u001b[0m\u001b[0m\n\u001b[0;32m--> 196\u001b[0;31m             q_cube_interpolated, success_interpolation = compute_interpolation(\n\u001b[0m\u001b[1;32m    197\u001b[0m                 \u001b[0mrobot\u001b[0m\u001b[0;34m,\u001b[0m\u001b[0;34m\u001b[0m\u001b[0;34m\u001b[0m\u001b[0m\n\u001b[1;32m    198\u001b[0m                 \u001b[0mcube\u001b[0m\u001b[0;34m,\u001b[0m\u001b[0;34m\u001b[0m\u001b[0;34m\u001b[0m\u001b[0m\n",
      "\u001b[0;32m~/Desktop/adv-rob-software-labs-2/adv-rob-software-labs/path_old.py\u001b[0m in \u001b[0;36mcompute_interpolation\u001b[0;34m(robot, cube, q_start, cube_start_pose, cube_end_pose, n_steps, control)\u001b[0m\n\u001b[1;32m    128\u001b[0m         \u001b[0mcube_inter_pose\u001b[0m\u001b[0;34m.\u001b[0m\u001b[0mtranslation\u001b[0m \u001b[0;34m+=\u001b[0m \u001b[0mdelta_translation\u001b[0m\u001b[0;34m\u001b[0m\u001b[0;34m\u001b[0m\u001b[0m\n\u001b[1;32m    129\u001b[0m \u001b[0;34m\u001b[0m\u001b[0m\n\u001b[0;32m--> 130\u001b[0;31m         \u001b[0mqt\u001b[0m\u001b[0;34m,\u001b[0m \u001b[0msuccess\u001b[0m \u001b[0;34m=\u001b[0m \u001b[0mcomputeqgrasppose\u001b[0m\u001b[0;34m(\u001b[0m\u001b[0mrobot\u001b[0m\u001b[0;34m,\u001b[0m \u001b[0mq_cube_interpolated\u001b[0m\u001b[0;34m[\u001b[0m\u001b[0;34m-\u001b[0m\u001b[0;36m1\u001b[0m\u001b[0;34m]\u001b[0m\u001b[0;34m[\u001b[0m\u001b[0;36m1\u001b[0m\u001b[0;34m]\u001b[0m\u001b[0;34m,\u001b[0m \u001b[0mcube\u001b[0m\u001b[0;34m,\u001b[0m \u001b[0mcube_inter_pose\u001b[0m\u001b[0;34m,\u001b[0m \u001b[0mviz\u001b[0m\u001b[0;34m=\u001b[0m\u001b[0;32mNone\u001b[0m\u001b[0;34m,\u001b[0m \u001b[0mcontrol\u001b[0m\u001b[0;34m=\u001b[0m\u001b[0mcontrol\u001b[0m\u001b[0;34m)\u001b[0m\u001b[0;34m\u001b[0m\u001b[0;34m\u001b[0m\u001b[0m\n\u001b[0m\u001b[1;32m    131\u001b[0m         \u001b[0;32mif\u001b[0m \u001b[0msuccess\u001b[0m\u001b[0;34m:\u001b[0m\u001b[0;34m\u001b[0m\u001b[0;34m\u001b[0m\u001b[0m\n\u001b[1;32m    132\u001b[0m             \u001b[0mq_cube_interpolated\u001b[0m\u001b[0;34m.\u001b[0m\u001b[0mappend\u001b[0m\u001b[0;34m(\u001b[0m\u001b[0;34m(\u001b[0m\u001b[0mcube_inter_pose\u001b[0m\u001b[0;34m.\u001b[0m\u001b[0mcopy\u001b[0m\u001b[0;34m(\u001b[0m\u001b[0;34m)\u001b[0m\u001b[0;34m,\u001b[0m \u001b[0mqt\u001b[0m\u001b[0;34m.\u001b[0m\u001b[0mcopy\u001b[0m\u001b[0;34m(\u001b[0m\u001b[0;34m)\u001b[0m\u001b[0;34m)\u001b[0m\u001b[0;34m)\u001b[0m\u001b[0;34m\u001b[0m\u001b[0;34m\u001b[0m\u001b[0m\n",
      "\u001b[0;32m~/Desktop/adv-rob-software-labs-2/adv-rob-software-labs/inverse_geometry.py\u001b[0m in \u001b[0;36mcomputeqgrasppose\u001b[0;34m(robot, qcurrent, cube, cubetarget, viz, tol, control)\u001b[0m\n\u001b[1;32m     52\u001b[0m \u001b[0;34m\u001b[0m\u001b[0m\n\u001b[1;32m     53\u001b[0m \u001b[0;34m\u001b[0m\u001b[0m\n\u001b[0;32m---> 54\u001b[0;31m     qopt_bfgs = fmin_bfgs(\n\u001b[0m\u001b[1;32m     55\u001b[0m         \u001b[0mcost_v1\u001b[0m\u001b[0;34m,\u001b[0m\u001b[0;34m\u001b[0m\u001b[0;34m\u001b[0m\u001b[0m\n\u001b[1;32m     56\u001b[0m         \u001b[0mqcurrent\u001b[0m\u001b[0;34m,\u001b[0m\u001b[0;34m\u001b[0m\u001b[0;34m\u001b[0m\u001b[0m\n",
      "\u001b[0;32m/usr/lib/python3/dist-packages/scipy/optimize/_optimize.py\u001b[0m in \u001b[0;36mfmin_bfgs\u001b[0;34m(f, x0, fprime, args, gtol, norm, epsilon, maxiter, full_output, disp, retall, callback)\u001b[0m\n\u001b[1;32m   1236\u001b[0m             'return_all': retall}\n\u001b[1;32m   1237\u001b[0m \u001b[0;34m\u001b[0m\u001b[0m\n\u001b[0;32m-> 1238\u001b[0;31m     \u001b[0mres\u001b[0m \u001b[0;34m=\u001b[0m \u001b[0m_minimize_bfgs\u001b[0m\u001b[0;34m(\u001b[0m\u001b[0mf\u001b[0m\u001b[0;34m,\u001b[0m \u001b[0mx0\u001b[0m\u001b[0;34m,\u001b[0m \u001b[0margs\u001b[0m\u001b[0;34m,\u001b[0m \u001b[0mfprime\u001b[0m\u001b[0;34m,\u001b[0m \u001b[0mcallback\u001b[0m\u001b[0;34m=\u001b[0m\u001b[0mcallback\u001b[0m\u001b[0;34m,\u001b[0m \u001b[0;34m**\u001b[0m\u001b[0mopts\u001b[0m\u001b[0;34m)\u001b[0m\u001b[0;34m\u001b[0m\u001b[0;34m\u001b[0m\u001b[0m\n\u001b[0m\u001b[1;32m   1239\u001b[0m \u001b[0;34m\u001b[0m\u001b[0m\n\u001b[1;32m   1240\u001b[0m     \u001b[0;32mif\u001b[0m \u001b[0mfull_output\u001b[0m\u001b[0;34m:\u001b[0m\u001b[0;34m\u001b[0m\u001b[0;34m\u001b[0m\u001b[0m\n",
      "\u001b[0;32m/usr/lib/python3/dist-packages/scipy/optimize/_optimize.py\u001b[0m in \u001b[0;36m_minimize_bfgs\u001b[0;34m(fun, x0, args, jac, callback, gtol, norm, eps, maxiter, disp, return_all, finite_diff_rel_step, **unknown_options)\u001b[0m\n\u001b[1;32m   1320\u001b[0m         \u001b[0;32mtry\u001b[0m\u001b[0;34m:\u001b[0m\u001b[0;34m\u001b[0m\u001b[0;34m\u001b[0m\u001b[0m\n\u001b[1;32m   1321\u001b[0m             \u001b[0malpha_k\u001b[0m\u001b[0;34m,\u001b[0m \u001b[0mfc\u001b[0m\u001b[0;34m,\u001b[0m \u001b[0mgc\u001b[0m\u001b[0;34m,\u001b[0m \u001b[0mold_fval\u001b[0m\u001b[0;34m,\u001b[0m \u001b[0mold_old_fval\u001b[0m\u001b[0;34m,\u001b[0m \u001b[0mgfkp1\u001b[0m \u001b[0;34m=\u001b[0m\u001b[0;31m \u001b[0m\u001b[0;31m\\\u001b[0m\u001b[0;34m\u001b[0m\u001b[0;34m\u001b[0m\u001b[0m\n\u001b[0;32m-> 1322\u001b[0;31m                      _line_search_wolfe12(f, myfprime, xk, pk, gfk,\n\u001b[0m\u001b[1;32m   1323\u001b[0m                                           old_fval, old_old_fval, amin=1e-100, amax=1e100)\n\u001b[1;32m   1324\u001b[0m         \u001b[0;32mexcept\u001b[0m \u001b[0m_LineSearchError\u001b[0m\u001b[0;34m:\u001b[0m\u001b[0;34m\u001b[0m\u001b[0;34m\u001b[0m\u001b[0m\n",
      "\u001b[0;32m/usr/lib/python3/dist-packages/scipy/optimize/_optimize.py\u001b[0m in \u001b[0;36m_line_search_wolfe12\u001b[0;34m(f, fprime, xk, pk, gfk, old_fval, old_old_fval, **kwargs)\u001b[0m\n\u001b[1;32m   1098\u001b[0m     \u001b[0mextra_condition\u001b[0m \u001b[0;34m=\u001b[0m \u001b[0mkwargs\u001b[0m\u001b[0;34m.\u001b[0m\u001b[0mpop\u001b[0m\u001b[0;34m(\u001b[0m\u001b[0;34m'extra_condition'\u001b[0m\u001b[0;34m,\u001b[0m \u001b[0;32mNone\u001b[0m\u001b[0;34m)\u001b[0m\u001b[0;34m\u001b[0m\u001b[0;34m\u001b[0m\u001b[0m\n\u001b[1;32m   1099\u001b[0m \u001b[0;34m\u001b[0m\u001b[0m\n\u001b[0;32m-> 1100\u001b[0;31m     ret = line_search_wolfe1(f, fprime, xk, pk, gfk,\n\u001b[0m\u001b[1;32m   1101\u001b[0m                              \u001b[0mold_fval\u001b[0m\u001b[0;34m,\u001b[0m \u001b[0mold_old_fval\u001b[0m\u001b[0;34m,\u001b[0m\u001b[0;34m\u001b[0m\u001b[0;34m\u001b[0m\u001b[0m\n\u001b[1;32m   1102\u001b[0m                              **kwargs)\n",
      "\u001b[0;32m/usr/lib/python3/dist-packages/scipy/optimize/_linesearch.py\u001b[0m in \u001b[0;36mline_search_wolfe1\u001b[0;34m(f, fprime, xk, pk, gfk, old_fval, old_old_fval, args, c1, c2, amax, amin, xtol)\u001b[0m\n\u001b[1;32m     82\u001b[0m     \u001b[0mderphi0\u001b[0m \u001b[0;34m=\u001b[0m \u001b[0mnp\u001b[0m\u001b[0;34m.\u001b[0m\u001b[0mdot\u001b[0m\u001b[0;34m(\u001b[0m\u001b[0mgfk\u001b[0m\u001b[0;34m,\u001b[0m \u001b[0mpk\u001b[0m\u001b[0;34m)\u001b[0m\u001b[0;34m\u001b[0m\u001b[0;34m\u001b[0m\u001b[0m\n\u001b[1;32m     83\u001b[0m \u001b[0;34m\u001b[0m\u001b[0m\n\u001b[0;32m---> 84\u001b[0;31m     stp, fval, old_fval = scalar_search_wolfe1(\n\u001b[0m\u001b[1;32m     85\u001b[0m             \u001b[0mphi\u001b[0m\u001b[0;34m,\u001b[0m \u001b[0mderphi\u001b[0m\u001b[0;34m,\u001b[0m \u001b[0mold_fval\u001b[0m\u001b[0;34m,\u001b[0m \u001b[0mold_old_fval\u001b[0m\u001b[0;34m,\u001b[0m \u001b[0mderphi0\u001b[0m\u001b[0;34m,\u001b[0m\u001b[0;34m\u001b[0m\u001b[0;34m\u001b[0m\u001b[0m\n\u001b[1;32m     86\u001b[0m             c1=c1, c2=c2, amax=amax, amin=amin, xtol=xtol)\n",
      "\u001b[0;32m/usr/lib/python3/dist-packages/scipy/optimize/_linesearch.py\u001b[0m in \u001b[0;36mscalar_search_wolfe1\u001b[0;34m(phi, derphi, phi0, old_phi0, derphi0, c1, c2, amax, amin, xtol)\u001b[0m\n\u001b[1;32m    159\u001b[0m             \u001b[0malpha1\u001b[0m \u001b[0;34m=\u001b[0m \u001b[0mstp\u001b[0m\u001b[0;34m\u001b[0m\u001b[0;34m\u001b[0m\u001b[0m\n\u001b[1;32m    160\u001b[0m             \u001b[0mphi1\u001b[0m \u001b[0;34m=\u001b[0m \u001b[0mphi\u001b[0m\u001b[0;34m(\u001b[0m\u001b[0mstp\u001b[0m\u001b[0;34m)\u001b[0m\u001b[0;34m\u001b[0m\u001b[0;34m\u001b[0m\u001b[0m\n\u001b[0;32m--> 161\u001b[0;31m             \u001b[0mderphi1\u001b[0m \u001b[0;34m=\u001b[0m \u001b[0mderphi\u001b[0m\u001b[0;34m(\u001b[0m\u001b[0mstp\u001b[0m\u001b[0;34m)\u001b[0m\u001b[0;34m\u001b[0m\u001b[0;34m\u001b[0m\u001b[0m\n\u001b[0m\u001b[1;32m    162\u001b[0m         \u001b[0;32melse\u001b[0m\u001b[0;34m:\u001b[0m\u001b[0;34m\u001b[0m\u001b[0;34m\u001b[0m\u001b[0m\n\u001b[1;32m    163\u001b[0m             \u001b[0;32mbreak\u001b[0m\u001b[0;34m\u001b[0m\u001b[0;34m\u001b[0m\u001b[0m\n",
      "\u001b[0;32m/usr/lib/python3/dist-packages/scipy/optimize/_linesearch.py\u001b[0m in \u001b[0;36mderphi\u001b[0;34m(s)\u001b[0m\n\u001b[1;32m     76\u001b[0m \u001b[0;34m\u001b[0m\u001b[0m\n\u001b[1;32m     77\u001b[0m     \u001b[0;32mdef\u001b[0m \u001b[0mderphi\u001b[0m\u001b[0;34m(\u001b[0m\u001b[0ms\u001b[0m\u001b[0;34m)\u001b[0m\u001b[0;34m:\u001b[0m\u001b[0;34m\u001b[0m\u001b[0;34m\u001b[0m\u001b[0m\n\u001b[0;32m---> 78\u001b[0;31m         \u001b[0mgval\u001b[0m\u001b[0;34m[\u001b[0m\u001b[0;36m0\u001b[0m\u001b[0;34m]\u001b[0m \u001b[0;34m=\u001b[0m \u001b[0mfprime\u001b[0m\u001b[0;34m(\u001b[0m\u001b[0mxk\u001b[0m \u001b[0;34m+\u001b[0m \u001b[0ms\u001b[0m\u001b[0;34m*\u001b[0m\u001b[0mpk\u001b[0m\u001b[0;34m,\u001b[0m \u001b[0;34m*\u001b[0m\u001b[0margs\u001b[0m\u001b[0;34m)\u001b[0m\u001b[0;34m\u001b[0m\u001b[0;34m\u001b[0m\u001b[0m\n\u001b[0m\u001b[1;32m     79\u001b[0m         \u001b[0mgc\u001b[0m\u001b[0;34m[\u001b[0m\u001b[0;36m0\u001b[0m\u001b[0;34m]\u001b[0m \u001b[0;34m+=\u001b[0m \u001b[0;36m1\u001b[0m\u001b[0;34m\u001b[0m\u001b[0;34m\u001b[0m\u001b[0m\n\u001b[1;32m     80\u001b[0m         \u001b[0;32mreturn\u001b[0m \u001b[0mnp\u001b[0m\u001b[0;34m.\u001b[0m\u001b[0mdot\u001b[0m\u001b[0;34m(\u001b[0m\u001b[0mgval\u001b[0m\u001b[0;34m[\u001b[0m\u001b[0;36m0\u001b[0m\u001b[0;34m]\u001b[0m\u001b[0;34m,\u001b[0m \u001b[0mpk\u001b[0m\u001b[0;34m)\u001b[0m\u001b[0;34m\u001b[0m\u001b[0;34m\u001b[0m\u001b[0m\n",
      "\u001b[0;32m/usr/lib/python3/dist-packages/scipy/optimize/_differentiable_functions.py\u001b[0m in \u001b[0;36mgrad\u001b[0;34m(self, x)\u001b[0m\n\u001b[1;32m    271\u001b[0m         \u001b[0;32mif\u001b[0m \u001b[0;32mnot\u001b[0m \u001b[0mnp\u001b[0m\u001b[0;34m.\u001b[0m\u001b[0marray_equal\u001b[0m\u001b[0;34m(\u001b[0m\u001b[0mx\u001b[0m\u001b[0;34m,\u001b[0m \u001b[0mself\u001b[0m\u001b[0;34m.\u001b[0m\u001b[0mx\u001b[0m\u001b[0;34m)\u001b[0m\u001b[0;34m:\u001b[0m\u001b[0;34m\u001b[0m\u001b[0;34m\u001b[0m\u001b[0m\n\u001b[1;32m    272\u001b[0m             \u001b[0mself\u001b[0m\u001b[0;34m.\u001b[0m\u001b[0m_update_x_impl\u001b[0m\u001b[0;34m(\u001b[0m\u001b[0mx\u001b[0m\u001b[0;34m)\u001b[0m\u001b[0;34m\u001b[0m\u001b[0;34m\u001b[0m\u001b[0m\n\u001b[0;32m--> 273\u001b[0;31m         \u001b[0mself\u001b[0m\u001b[0;34m.\u001b[0m\u001b[0m_update_grad\u001b[0m\u001b[0;34m(\u001b[0m\u001b[0;34m)\u001b[0m\u001b[0;34m\u001b[0m\u001b[0;34m\u001b[0m\u001b[0m\n\u001b[0m\u001b[1;32m    274\u001b[0m         \u001b[0;32mreturn\u001b[0m \u001b[0mself\u001b[0m\u001b[0;34m.\u001b[0m\u001b[0mg\u001b[0m\u001b[0;34m\u001b[0m\u001b[0;34m\u001b[0m\u001b[0m\n\u001b[1;32m    275\u001b[0m \u001b[0;34m\u001b[0m\u001b[0m\n",
      "\u001b[0;32m/usr/lib/python3/dist-packages/scipy/optimize/_differentiable_functions.py\u001b[0m in \u001b[0;36m_update_grad\u001b[0;34m(self)\u001b[0m\n\u001b[1;32m    254\u001b[0m     \u001b[0;32mdef\u001b[0m \u001b[0m_update_grad\u001b[0m\u001b[0;34m(\u001b[0m\u001b[0mself\u001b[0m\u001b[0;34m)\u001b[0m\u001b[0;34m:\u001b[0m\u001b[0;34m\u001b[0m\u001b[0;34m\u001b[0m\u001b[0m\n\u001b[1;32m    255\u001b[0m         \u001b[0;32mif\u001b[0m \u001b[0;32mnot\u001b[0m \u001b[0mself\u001b[0m\u001b[0;34m.\u001b[0m\u001b[0mg_updated\u001b[0m\u001b[0;34m:\u001b[0m\u001b[0;34m\u001b[0m\u001b[0;34m\u001b[0m\u001b[0m\n\u001b[0;32m--> 256\u001b[0;31m             \u001b[0mself\u001b[0m\u001b[0;34m.\u001b[0m\u001b[0m_update_grad_impl\u001b[0m\u001b[0;34m(\u001b[0m\u001b[0;34m)\u001b[0m\u001b[0;34m\u001b[0m\u001b[0;34m\u001b[0m\u001b[0m\n\u001b[0m\u001b[1;32m    257\u001b[0m             \u001b[0mself\u001b[0m\u001b[0;34m.\u001b[0m\u001b[0mg_updated\u001b[0m \u001b[0;34m=\u001b[0m \u001b[0;32mTrue\u001b[0m\u001b[0;34m\u001b[0m\u001b[0;34m\u001b[0m\u001b[0m\n\u001b[1;32m    258\u001b[0m \u001b[0;34m\u001b[0m\u001b[0m\n",
      "\u001b[0;32m/usr/lib/python3/dist-packages/scipy/optimize/_differentiable_functions.py\u001b[0m in \u001b[0;36mupdate_grad\u001b[0;34m()\u001b[0m\n\u001b[1;32m    171\u001b[0m                 \u001b[0mself\u001b[0m\u001b[0;34m.\u001b[0m\u001b[0m_update_fun\u001b[0m\u001b[0;34m(\u001b[0m\u001b[0;34m)\u001b[0m\u001b[0;34m\u001b[0m\u001b[0;34m\u001b[0m\u001b[0m\n\u001b[1;32m    172\u001b[0m                 \u001b[0mself\u001b[0m\u001b[0;34m.\u001b[0m\u001b[0mngev\u001b[0m \u001b[0;34m+=\u001b[0m \u001b[0;36m1\u001b[0m\u001b[0;34m\u001b[0m\u001b[0;34m\u001b[0m\u001b[0m\n\u001b[0;32m--> 173\u001b[0;31m                 self.g = approx_derivative(fun_wrapped, self.x, f0=self.f,\n\u001b[0m\u001b[1;32m    174\u001b[0m                                            **finite_diff_options)\n\u001b[1;32m    175\u001b[0m \u001b[0;34m\u001b[0m\u001b[0m\n",
      "\u001b[0;32m/usr/lib/python3/dist-packages/scipy/optimize/_numdiff.py\u001b[0m in \u001b[0;36mapprox_derivative\u001b[0;34m(fun, x0, method, rel_step, abs_step, f0, bounds, sparsity, as_linear_operator, args, kwargs)\u001b[0m\n\u001b[1;32m    503\u001b[0m \u001b[0;34m\u001b[0m\u001b[0m\n\u001b[1;32m    504\u001b[0m         \u001b[0;32mif\u001b[0m \u001b[0msparsity\u001b[0m \u001b[0;32mis\u001b[0m \u001b[0;32mNone\u001b[0m\u001b[0;34m:\u001b[0m\u001b[0;34m\u001b[0m\u001b[0;34m\u001b[0m\u001b[0m\n\u001b[0;32m--> 505\u001b[0;31m             return _dense_difference(fun_wrapped, x0, f0, h,\n\u001b[0m\u001b[1;32m    506\u001b[0m                                      use_one_sided, method)\n\u001b[1;32m    507\u001b[0m         \u001b[0;32melse\u001b[0m\u001b[0;34m:\u001b[0m\u001b[0;34m\u001b[0m\u001b[0;34m\u001b[0m\u001b[0m\n",
      "\u001b[0;32m/usr/lib/python3/dist-packages/scipy/optimize/_numdiff.py\u001b[0m in \u001b[0;36m_dense_difference\u001b[0;34m(fun, x0, f0, h, use_one_sided, method)\u001b[0m\n\u001b[1;32m    574\u001b[0m             \u001b[0mx\u001b[0m \u001b[0;34m=\u001b[0m \u001b[0mx0\u001b[0m \u001b[0;34m+\u001b[0m \u001b[0mh_vecs\u001b[0m\u001b[0;34m[\u001b[0m\u001b[0mi\u001b[0m\u001b[0;34m]\u001b[0m\u001b[0;34m\u001b[0m\u001b[0;34m\u001b[0m\u001b[0m\n\u001b[1;32m    575\u001b[0m             \u001b[0mdx\u001b[0m \u001b[0;34m=\u001b[0m \u001b[0mx\u001b[0m\u001b[0;34m[\u001b[0m\u001b[0mi\u001b[0m\u001b[0;34m]\u001b[0m \u001b[0;34m-\u001b[0m \u001b[0mx0\u001b[0m\u001b[0;34m[\u001b[0m\u001b[0mi\u001b[0m\u001b[0;34m]\u001b[0m  \u001b[0;31m# Recompute dx as exactly representable number.\u001b[0m\u001b[0;34m\u001b[0m\u001b[0;34m\u001b[0m\u001b[0m\n\u001b[0;32m--> 576\u001b[0;31m             \u001b[0mdf\u001b[0m \u001b[0;34m=\u001b[0m \u001b[0mfun\u001b[0m\u001b[0;34m(\u001b[0m\u001b[0mx\u001b[0m\u001b[0;34m)\u001b[0m \u001b[0;34m-\u001b[0m \u001b[0mf0\u001b[0m\u001b[0;34m\u001b[0m\u001b[0;34m\u001b[0m\u001b[0m\n\u001b[0m\u001b[1;32m    577\u001b[0m         \u001b[0;32melif\u001b[0m \u001b[0mmethod\u001b[0m \u001b[0;34m==\u001b[0m \u001b[0;34m'3-point'\u001b[0m \u001b[0;32mand\u001b[0m \u001b[0muse_one_sided\u001b[0m\u001b[0;34m[\u001b[0m\u001b[0mi\u001b[0m\u001b[0;34m]\u001b[0m\u001b[0;34m:\u001b[0m\u001b[0;34m\u001b[0m\u001b[0;34m\u001b[0m\u001b[0m\n\u001b[1;32m    578\u001b[0m             \u001b[0mx1\u001b[0m \u001b[0;34m=\u001b[0m \u001b[0mx0\u001b[0m \u001b[0;34m+\u001b[0m \u001b[0mh_vecs\u001b[0m\u001b[0;34m[\u001b[0m\u001b[0mi\u001b[0m\u001b[0;34m]\u001b[0m\u001b[0;34m\u001b[0m\u001b[0;34m\u001b[0m\u001b[0m\n",
      "\u001b[0;32m/usr/lib/python3/dist-packages/scipy/optimize/_numdiff.py\u001b[0m in \u001b[0;36mfun_wrapped\u001b[0;34m(x)\u001b[0m\n\u001b[1;32m    454\u001b[0m \u001b[0;34m\u001b[0m\u001b[0m\n\u001b[1;32m    455\u001b[0m     \u001b[0;32mdef\u001b[0m \u001b[0mfun_wrapped\u001b[0m\u001b[0;34m(\u001b[0m\u001b[0mx\u001b[0m\u001b[0;34m)\u001b[0m\u001b[0;34m:\u001b[0m\u001b[0;34m\u001b[0m\u001b[0;34m\u001b[0m\u001b[0m\n\u001b[0;32m--> 456\u001b[0;31m         \u001b[0mf\u001b[0m \u001b[0;34m=\u001b[0m \u001b[0mnp\u001b[0m\u001b[0;34m.\u001b[0m\u001b[0matleast_1d\u001b[0m\u001b[0;34m(\u001b[0m\u001b[0mfun\u001b[0m\u001b[0;34m(\u001b[0m\u001b[0mx\u001b[0m\u001b[0;34m,\u001b[0m \u001b[0;34m*\u001b[0m\u001b[0margs\u001b[0m\u001b[0;34m,\u001b[0m \u001b[0;34m**\u001b[0m\u001b[0mkwargs\u001b[0m\u001b[0;34m)\u001b[0m\u001b[0;34m)\u001b[0m\u001b[0;34m\u001b[0m\u001b[0;34m\u001b[0m\u001b[0m\n\u001b[0m\u001b[1;32m    457\u001b[0m         \u001b[0;32mif\u001b[0m \u001b[0mf\u001b[0m\u001b[0;34m.\u001b[0m\u001b[0mndim\u001b[0m \u001b[0;34m>\u001b[0m \u001b[0;36m1\u001b[0m\u001b[0;34m:\u001b[0m\u001b[0;34m\u001b[0m\u001b[0;34m\u001b[0m\u001b[0m\n\u001b[1;32m    458\u001b[0m             raise RuntimeError(\"`fun` return value has \"\n",
      "\u001b[0;32m/usr/lib/python3/dist-packages/scipy/optimize/_differentiable_functions.py\u001b[0m in \u001b[0;36mfun_wrapped\u001b[0;34m(x)\u001b[0m\n\u001b[1;32m    135\u001b[0m             \u001b[0;31m# Overwriting results in undefined behaviour because\u001b[0m\u001b[0;34m\u001b[0m\u001b[0;34m\u001b[0m\u001b[0m\n\u001b[1;32m    136\u001b[0m             \u001b[0;31m# fun(self.x) will change self.x, with the two no longer linked.\u001b[0m\u001b[0;34m\u001b[0m\u001b[0;34m\u001b[0m\u001b[0m\n\u001b[0;32m--> 137\u001b[0;31m             \u001b[0mfx\u001b[0m \u001b[0;34m=\u001b[0m \u001b[0mfun\u001b[0m\u001b[0;34m(\u001b[0m\u001b[0mnp\u001b[0m\u001b[0;34m.\u001b[0m\u001b[0mcopy\u001b[0m\u001b[0;34m(\u001b[0m\u001b[0mx\u001b[0m\u001b[0;34m)\u001b[0m\u001b[0;34m,\u001b[0m \u001b[0;34m*\u001b[0m\u001b[0margs\u001b[0m\u001b[0;34m)\u001b[0m\u001b[0;34m\u001b[0m\u001b[0;34m\u001b[0m\u001b[0m\n\u001b[0m\u001b[1;32m    138\u001b[0m             \u001b[0;31m# Make sure the function returns a true scalar\u001b[0m\u001b[0;34m\u001b[0m\u001b[0;34m\u001b[0m\u001b[0m\n\u001b[1;32m    139\u001b[0m             \u001b[0;32mif\u001b[0m \u001b[0;32mnot\u001b[0m \u001b[0mnp\u001b[0m\u001b[0;34m.\u001b[0m\u001b[0misscalar\u001b[0m\u001b[0;34m(\u001b[0m\u001b[0mfx\u001b[0m\u001b[0;34m)\u001b[0m\u001b[0;34m:\u001b[0m\u001b[0;34m\u001b[0m\u001b[0;34m\u001b[0m\u001b[0m\n",
      "\u001b[0;32m~/Desktop/adv-rob-software-labs-2/adv-rob-software-labs/inverse_geometry.py\u001b[0m in \u001b[0;36mcost_v1\u001b[0;34m(q, robot, target_left, target_right, lh_frameid, rh_frameid)\u001b[0m\n\u001b[1;32m     32\u001b[0m \u001b[0;34m\u001b[0m\u001b[0m\n\u001b[1;32m     33\u001b[0m     \u001b[0mq_epsilon\u001b[0m \u001b[0;34m=\u001b[0m \u001b[0;34m(\u001b[0m\u001b[0mrobot\u001b[0m\u001b[0;34m.\u001b[0m\u001b[0mmodel\u001b[0m\u001b[0;34m.\u001b[0m\u001b[0mupperPositionLimit\u001b[0m \u001b[0;34m-\u001b[0m \u001b[0mrobot\u001b[0m\u001b[0;34m.\u001b[0m\u001b[0mmodel\u001b[0m\u001b[0;34m.\u001b[0m\u001b[0mlowerPositionLimit\u001b[0m\u001b[0;34m)\u001b[0m \u001b[0;34m/\u001b[0m \u001b[0;36m100\u001b[0m\u001b[0;34m\u001b[0m\u001b[0;34m\u001b[0m\u001b[0m\n\u001b[0;32m---> 34\u001b[0;31m     \u001b[0mcost_joint_limits\u001b[0m \u001b[0;34m=\u001b[0m \u001b[0mjointlimitscost\u001b[0m\u001b[0;34m(\u001b[0m\u001b[0mrobot\u001b[0m\u001b[0;34m,\u001b[0m \u001b[0mq\u001b[0m \u001b[0;34m-\u001b[0m \u001b[0mq_epsilon\u001b[0m\u001b[0;34m)\u001b[0m \u001b[0;34m+\u001b[0m \u001b[0mjointlimitscost\u001b[0m\u001b[0;34m(\u001b[0m\u001b[0mrobot\u001b[0m\u001b[0;34m,\u001b[0m \u001b[0mq\u001b[0m \u001b[0;34m+\u001b[0m \u001b[0mq_epsilon\u001b[0m\u001b[0;34m)\u001b[0m\u001b[0;34m\u001b[0m\u001b[0;34m\u001b[0m\u001b[0m\n\u001b[0m\u001b[1;32m     35\u001b[0m \u001b[0;34m\u001b[0m\u001b[0m\n\u001b[1;32m     36\u001b[0m     \u001b[0;32mreturn\u001b[0m \u001b[0mcost_d\u001b[0m \u001b[0;34m+\u001b[0m \u001b[0mcost_joint_limits\u001b[0m\u001b[0;34m\u001b[0m\u001b[0;34m\u001b[0m\u001b[0m\n",
      "\u001b[0;32m~/Desktop/adv-rob-software-labs-2/adv-rob-software-labs/tools.py\u001b[0m in \u001b[0;36mjointlimitscost\u001b[0;34m(robot, q)\u001b[0m\n\u001b[1;32m     11\u001b[0m \u001b[0;34m\u001b[0m\u001b[0m\n\u001b[1;32m     12\u001b[0m \u001b[0;32mdef\u001b[0m \u001b[0mjointlimitscost\u001b[0m\u001b[0;34m(\u001b[0m\u001b[0mrobot\u001b[0m\u001b[0;34m,\u001b[0m\u001b[0mq\u001b[0m\u001b[0;34m)\u001b[0m\u001b[0;34m:\u001b[0m\u001b[0;34m\u001b[0m\u001b[0;34m\u001b[0m\u001b[0m\n\u001b[0;32m---> 13\u001b[0;31m     \u001b[0mup\u001b[0m \u001b[0;34m=\u001b[0m \u001b[0mmax\u001b[0m\u001b[0;34m(\u001b[0m\u001b[0mq\u001b[0m \u001b[0;34m-\u001b[0m \u001b[0mrobot\u001b[0m\u001b[0;34m.\u001b[0m\u001b[0mmodel\u001b[0m\u001b[0;34m.\u001b[0m\u001b[0mupperPositionLimit\u001b[0m\u001b[0;34m)\u001b[0m\u001b[0;34m\u001b[0m\u001b[0;34m\u001b[0m\u001b[0m\n\u001b[0m\u001b[1;32m     14\u001b[0m     \u001b[0mdown\u001b[0m \u001b[0;34m=\u001b[0m \u001b[0mmax\u001b[0m\u001b[0;34m(\u001b[0m\u001b[0mrobot\u001b[0m\u001b[0;34m.\u001b[0m\u001b[0mmodel\u001b[0m\u001b[0;34m.\u001b[0m\u001b[0mlowerPositionLimit\u001b[0m \u001b[0;34m-\u001b[0m \u001b[0mq\u001b[0m\u001b[0;34m)\u001b[0m\u001b[0;34m\u001b[0m\u001b[0;34m\u001b[0m\u001b[0m\n\u001b[1;32m     15\u001b[0m     \u001b[0;32mreturn\u001b[0m \u001b[0mmax\u001b[0m\u001b[0;34m(\u001b[0m\u001b[0;36m0\u001b[0m\u001b[0;34m,\u001b[0m\u001b[0mmax\u001b[0m\u001b[0;34m(\u001b[0m\u001b[0mup\u001b[0m\u001b[0;34m,\u001b[0m\u001b[0mdown\u001b[0m\u001b[0;34m)\u001b[0m\u001b[0;34m)\u001b[0m\u001b[0;34m\u001b[0m\u001b[0;34m\u001b[0m\u001b[0m\n",
      "\u001b[0;31mKeyboardInterrupt\u001b[0m: "
     ]
    }
   ],
   "source": [
    "from path_old import computepath as computepath_old\n",
    "import itertools\n",
    "\n",
    "n_samples = [100, 250, 500]\n",
    "graph_interpolations = [1, 2, 3, 5]\n",
    "try_extra_args = [\n",
    "    {'n_samples': n, 'n_nodes_to_add': graph_interpolations}\n",
    "    for n, graph_interpolations in itertools.product(n_samples, graph_interpolations)\n",
    "    ]\n",
    "\n",
    "\n",
    "n_samples = []\n",
    "graph_interpolations = []\n",
    "execution_times = []\n",
    "path_length = []\n",
    "euclidean_distances = []\n",
    "for extra_args in try_extra_args:\n",
    "    for _ in range(10):\n",
    "        start_time = time.time()\n",
    "        path, length = computepath_old(robot, cube, q0,qe,CUBE_PLACEMENT, CUBE_PLACEMENT_TARGET, **extra_args)\n",
    "        execution_time = time.time() - start_time\n",
    "\n",
    "\n",
    "        n_samples.append(extra_args['n_samples'])\n",
    "        graph_interpolations.append(extra_args['n_nodes_to_add'])\n",
    "        execution_times.append(execution_time)\n",
    "        path_length.append(len(path))\n",
    "        euclidean_distances.append(length)\n"
   ]
  },
  {
   "cell_type": "code",
   "execution_count": 31,
   "id": "0600ac4c",
   "metadata": {},
   "outputs": [
    {
     "data": {
      "text/plain": [
       "([100,\n",
       "  100,\n",
       "  100,\n",
       "  100,\n",
       "  100,\n",
       "  100,\n",
       "  100,\n",
       "  100,\n",
       "  100,\n",
       "  100,\n",
       "  100,\n",
       "  100,\n",
       "  100,\n",
       "  100,\n",
       "  100,\n",
       "  100,\n",
       "  100,\n",
       "  100,\n",
       "  100,\n",
       "  100,\n",
       "  100,\n",
       "  100,\n",
       "  100,\n",
       "  100,\n",
       "  100,\n",
       "  100,\n",
       "  100,\n",
       "  100,\n",
       "  100,\n",
       "  100,\n",
       "  100,\n",
       "  100,\n",
       "  100,\n",
       "  100,\n",
       "  100,\n",
       "  100,\n",
       "  100,\n",
       "  100,\n",
       "  100,\n",
       "  100,\n",
       "  250,\n",
       "  250],\n",
       " [1,\n",
       "  1,\n",
       "  1,\n",
       "  1,\n",
       "  1,\n",
       "  1,\n",
       "  1,\n",
       "  1,\n",
       "  1,\n",
       "  1,\n",
       "  2,\n",
       "  2,\n",
       "  2,\n",
       "  2,\n",
       "  2,\n",
       "  2,\n",
       "  2,\n",
       "  2,\n",
       "  2,\n",
       "  2,\n",
       "  3,\n",
       "  3,\n",
       "  3,\n",
       "  3,\n",
       "  3,\n",
       "  3,\n",
       "  3,\n",
       "  3,\n",
       "  3,\n",
       "  3,\n",
       "  5,\n",
       "  5,\n",
       "  5,\n",
       "  5,\n",
       "  5,\n",
       "  5,\n",
       "  5,\n",
       "  5,\n",
       "  5,\n",
       "  5,\n",
       "  1,\n",
       "  1],\n",
       " [20.26662278175354,\n",
       "  20.500681400299072,\n",
       "  14.244345426559448,\n",
       "  20.02013659477234,\n",
       "  15.673569202423096,\n",
       "  15.960814714431763,\n",
       "  16.17482042312622,\n",
       "  20.96598196029663,\n",
       "  10.911291122436523,\n",
       "  15.971422672271729,\n",
       "  16.632766485214233,\n",
       "  17.16799521446228,\n",
       "  18.933586597442627,\n",
       "  16.584518909454346,\n",
       "  15.869585990905762,\n",
       "  13.562195301055908,\n",
       "  20.15231704711914,\n",
       "  13.476939916610718,\n",
       "  16.015649557113647,\n",
       "  17.11884593963623,\n",
       "  16.28443717956543,\n",
       "  12.854374647140503,\n",
       "  19.02091407775879,\n",
       "  19.414616584777832,\n",
       "  10.524334907531738,\n",
       "  20.61424946784973,\n",
       "  11.898694276809692,\n",
       "  22.359997272491455,\n",
       "  16.13550591468811,\n",
       "  13.122347116470337,\n",
       "  15.696637392044067,\n",
       "  16.280246257781982,\n",
       "  17.537030935287476,\n",
       "  17.079366207122803,\n",
       "  17.601600885391235,\n",
       "  17.633837699890137,\n",
       "  15.603525161743164,\n",
       "  21.704893112182617,\n",
       "  10.716872453689575,\n",
       "  20.041725873947144,\n",
       "  46.39900088310242,\n",
       "  41.90690636634827],\n",
       " [5,\n",
       "  5,\n",
       "  6,\n",
       "  5,\n",
       "  0,\n",
       "  5,\n",
       "  7,\n",
       "  4,\n",
       "  0,\n",
       "  10,\n",
       "  11,\n",
       "  7,\n",
       "  9,\n",
       "  11,\n",
       "  7,\n",
       "  0,\n",
       "  10,\n",
       "  10,\n",
       "  12,\n",
       "  6,\n",
       "  17,\n",
       "  13,\n",
       "  12,\n",
       "  10,\n",
       "  0,\n",
       "  13,\n",
       "  0,\n",
       "  19,\n",
       "  15,\n",
       "  18,\n",
       "  20,\n",
       "  32,\n",
       "  0,\n",
       "  16,\n",
       "  13,\n",
       "  26,\n",
       "  23,\n",
       "  17,\n",
       "  0,\n",
       "  20,\n",
       "  7,\n",
       "  4],\n",
       " [1.132558963777846,\n",
       "  0.8227230405351649,\n",
       "  1.004515407480187,\n",
       "  1.0940222839958182,\n",
       "  0,\n",
       "  1.0207593342524894,\n",
       "  1.4901649201025036,\n",
       "  0.6489636859328213,\n",
       "  0,\n",
       "  1.827383512306369,\n",
       "  1.18584285613925,\n",
       "  0.7088522047685308,\n",
       "  0.8706736067016934,\n",
       "  1.2395010823016528,\n",
       "  1.010252850056053,\n",
       "  0,\n",
       "  0.9900675879125376,\n",
       "  0.9740786435185421,\n",
       "  1.0300718900427657,\n",
       "  0.7283302584791147,\n",
       "  1.283995360740433,\n",
       "  1.2281800854014693,\n",
       "  1.1166988964929236,\n",
       "  1.2094079835091665,\n",
       "  0,\n",
       "  1.0309635880071069,\n",
       "  0,\n",
       "  1.228696518353315,\n",
       "  1.0012299855816225,\n",
       "  1.3266278558224833,\n",
       "  0.9652623670442058,\n",
       "  1.3504006241197895,\n",
       "  0,\n",
       "  1.1912837273801709,\n",
       "  0.787766835309736,\n",
       "  1.1803141295589117,\n",
       "  1.2534987177522066,\n",
       "  0.9904973209878951,\n",
       "  0,\n",
       "  0.792043873953082,\n",
       "  1.1648956961156114,\n",
       "  0.6980333062673163])"
      ]
     },
     "execution_count": 31,
     "metadata": {},
     "output_type": "execute_result"
    }
   ],
   "source": [
    "n_samples, graph_interpolations,execution_times,path_length, euclidean_distances"
   ]
  },
  {
   "cell_type": "code",
   "execution_count": 32,
   "id": "8a6a4514",
   "metadata": {},
   "outputs": [],
   "source": [
    "import pandas as pd\n",
    "(\n",
    "    pd.DataFrame([n_samples, graph_interpolations,execution_times,path_length, euclidean_distances], \n",
    "                 index=[\"n_samples\", \"graph_interpolations\",\"execution_times\",\"path_length\", \"euclidean_distances\"])\n",
    "    .T\n",
    "    .to_csv(\"experiments/old_method.csv\", index=False)\n",
    ")"
   ]
  },
  {
   "cell_type": "code",
   "execution_count": 18,
   "id": "9f4b9f9f",
   "metadata": {},
   "outputs": [
    {
     "data": {
      "text/plain": [
       "0.8442148198419903"
      ]
     },
     "execution_count": 18,
     "metadata": {},
     "output_type": "execute_result"
    }
   ],
   "source": [
    "d"
   ]
  },
  {
   "cell_type": "code",
   "execution_count": 19,
   "id": "42c506ce",
   "metadata": {},
   "outputs": [
    {
     "data": {
      "text/plain": [
       "13"
      ]
     },
     "execution_count": 19,
     "metadata": {},
     "output_type": "execute_result"
    }
   ],
   "source": []
  },
  {
   "cell_type": "code",
   "execution_count": 17,
   "id": "50f8a755",
   "metadata": {},
   "outputs": [
    {
     "data": {
      "text/plain": [
       "1.2693685375571808"
      ]
     },
     "execution_count": 17,
     "metadata": {},
     "output_type": "execute_result"
    }
   ],
   "source": [
    "# 76, 1.27, 36.58\n",
    "# 63, 0.93, 35.8\n",
    "# 58 1.05, 35.01\n",
    "\n"
   ]
  },
  {
   "cell_type": "code",
   "execution_count": 1,
   "id": "5ae18ab6-2f45-4c91-bf02-bb4bbdad878d",
   "metadata": {},
   "outputs": [
    {
     "name": "stderr",
     "output_type": "stream",
     "text": [
      "pybullet build time: Nov  6 2024 10:55:30\n"
     ]
    }
   ],
   "source": [
    "from path import *"
   ]
  },
  {
   "cell_type": "code",
   "execution_count": 24,
   "id": "0205ddbe-f581-4399-a844-b1b1e4e7f5a3",
   "metadata": {},
   "outputs": [
    {
     "name": "stderr",
     "output_type": "stream",
     "text": [
      "100%|###################################################################################################| 100/100 [00:12<00:00,  8.29samples/s]\n"
     ]
    }
   ],
   "source": [
    "graph, length = create_path(\n",
    "            robot,\n",
    "            cube, \n",
    "            n_samples=sample,\n",
    "            q0=q0,\n",
    "            c0=CUBE_PLACEMENT,\n",
    "            qe=qe,\n",
    "            ce=CUBE_PLACEMENT_TARGET,\n",
    "            control=False,\n",
    "            n_steps_interpol=20\n",
    "        )"
   ]
  },
  {
   "cell_type": "code",
   "execution_count": 25,
   "id": "d3b1434a-5bee-43e7-b558-43dd5f4510b1",
   "metadata": {},
   "outputs": [],
   "source": [
    "sp, _ = shortest_path(graph)"
   ]
  },
  {
   "cell_type": "code",
   "execution_count": 26,
   "id": "492da2fe-4688-499c-be09-8d7b8f0711e7",
   "metadata": {},
   "outputs": [
    {
     "data": {
      "text/plain": [
       "[0, 2, 3, 4, 6, 7, 8, 11, 12, 13, 14, 15, 16, 17, 18, 19, 20, 21, 1]"
      ]
     },
     "execution_count": 26,
     "metadata": {},
     "output_type": "execute_result"
    }
   ],
   "source": [
    "sp"
   ]
  },
  {
   "cell_type": "code",
   "execution_count": 30,
   "id": "4f723ba9",
   "metadata": {},
   "outputs": [
    {
     "name": "stderr",
     "output_type": "stream",
     "text": [
      "/tmp/ipykernel_11693/3402341658.py:54: UserWarning: No artists with labels found to put in legend.  Note that artists whose label start with an underscore are ignored when legend() is called with no argument.\n",
      "  plt.legend()\n"
     ]
    },
    {
     "data": {
      "image/png": "[encoded data removed]",
      "text/plain": [
       "<Figure size 1600x1200 with 1 Axes>"
      ]
     },
     "metadata": {},
     "output_type": "display_data"
    }
   ],
   "source": [
    "import matplotlib.pyplot as plt\n",
    "import numpy as np\n",
    "\n",
    "# Define the nodes with their coordinates and neighbors\n",
    "# Initialize a figure\n",
    "plt.figure(figsize=(16, 12))\n",
    "\n",
    "# start cube position\n",
    "xyz_start = CUBE_PLACEMENT.translation\n",
    "plt.plot(xyz_start[1], xyz_start[2], 'x', markersize=20)\n",
    "# end cube position\n",
    "xyz_end = CUBE_PLACEMENT_TARGET.translation\n",
    "plt.plot(xyz_end[1], xyz_end[2], 'x', markersize=20)\n",
    "# obstacle position\n",
    "xyz_end = [0.43,-0.1,0.94]\n",
    "plt.plot(xyz_end[1], xyz_end[2], 'x', markersize=50)\n",
    "\n",
    "\n",
    "# Plot the nodes\n",
    "for node_id, node in enumerate(graph.nodes):\n",
    "    x, y, z = node.cube_pose.translation\n",
    "    \n",
    "    plt.plot(y, z, 'o', markersize=10)  # label=f'Node {node_id}'\n",
    "    #plt.text(x + 0.1, y + 0.1, f'{node_id}', fontsize=12)  # Label the node\n",
    "\n",
    "# Plot the directed edges\n",
    "for node_id, node in enumerate(graph.nodes):\n",
    "    x_start, y_start, z_start = node.cube_pose.translation\n",
    "    \n",
    "    for neighbour_id in node.children.keys():\n",
    "        if node_id in sp and neighbour_id in sp:\n",
    "            viz_edges = {'ec': 'red', 'linewidth': 1.0}\n",
    "        else:\n",
    "            viz_edges = {'ec': 'black', 'linewidth': 0.5}\n",
    "            \n",
    "        x_end, y_end, z_end = graph.nodes[neighbour_id].cube_pose.translation\n",
    "        \n",
    "        # Draw an arrow for directed edge\n",
    "        plt.arrow(\n",
    "            y_start, \n",
    "            z_start, \n",
    "            y_end - y_start, \n",
    "            z_end - z_start, \n",
    "            length_includes_head=True,\n",
    "            fc='gray', \n",
    "            linestyle='-', \n",
    "            **viz_edges\n",
    "        ) # head_width=0.2,  \n",
    "\n",
    "# Display the plot\n",
    "plt.xlabel(\"Y Coordinate\")\n",
    "plt.ylabel(\"Z Coordinate\")\n",
    "plt.title(\"Graph Visualization with Directed Edges\")\n",
    "plt.legend()\n",
    "plt.grid(True)\n",
    "plt.savefig(\"rtt_graph.png\")\n",
    "plt.show()\n"
   ]
  },
  {
   "cell_type": "code",
   "execution_count": 41,
   "id": "2afdaec9",
   "metadata": {},
   "outputs": [
    {
     "name": "stderr",
     "output_type": "stream",
     "text": [
      "No artists with labels found to put in legend.  Note that artists whose label start with an underscore are ignored when legend() is called with no argument.\n"
     ]
    },
    {
     "data": {
      "image/png": "[encoded data removed]",
      "text/plain": [
       "<Figure size 1152x864 with 1 Axes>"
      ]
     },
     "metadata": {
      "needs_background": "light"
     },
     "output_type": "display_data"
    }
   ],
   "source": [
    "import matplotlib.pyplot as plt\n",
    "from mpl_toolkits.mplot3d import Axes3D\n",
    "\n",
    "# Define the nodes with their coordinates and neighbors\n",
    "# Initialize a figure\n",
    "# Initialize a 3D figure\n",
    "fig = plt.figure(figsize=(16, 12))\n",
    "ax = fig.add_subplot(111, projection='3d')\n",
    "\n",
    "\n",
    "# start cube position\n",
    "xyz_start = CUBE_PLACEMENT.translation\n",
    "plt.plot(xyz_start[1], xyz_start[2], 'x', markersize=20)\n",
    "# end cube position\n",
    "xyz_end = CUBE_PLACEMENT_TARGET.translation\n",
    "plt.plot(xyz_end[1], xyz_end[2], 'x', markersize=20)\n",
    "# obstacle position\n",
    "xyz_end = [0.43,-0.1,0.94]\n",
    "plt.plot(xyz_end[1], xyz_end[2], 'x', markersize=50)\n",
    "\n",
    "\n",
    "# Plot the nodes\n",
    "for node_id, node in enumerate(graph.nodes):\n",
    "    x, y, z = node.cube_pose.translation\n",
    "    ax.scatter(x, y, z, s=50)\n",
    "    #plt.plot(y, z, 'o', markersize=10)  # label=f'Node {node_id}'\n",
    "    #plt.text(x + 0.1, y + 0.1, f'{node_id}', fontsize=12)  # Label the node\n",
    "\n",
    "# Plot the directed edges\n",
    "for node_id, node in enumerate(graph.nodes):\n",
    "    x_start, y_start, z_start = node.cube_pose.translation\n",
    "    \n",
    "    for neighbour_id in node.children.keys():\n",
    "        x_end, y_end, z_end = graph.nodes[neighbour_id].cube_pose.translation\n",
    "        \n",
    "        ax.quiver(x_start, y_start, z_start, \n",
    "                  x_end - x_start, y_end - y_start, z_end - z_start, \n",
    "                  arrow_length_ratio=0.1, color='gray', linewidth=0.5)\n",
    "\n",
    "# Set labels and show plot\n",
    "ax.set_xlabel(\"X Coordinate\")\n",
    "ax.set_ylabel(\"Y Coordinate\")\n",
    "ax.set_zlabel(\"Z Coordinate\")\n",
    "ax.set_title(\"3D Graph Visualization with Directed Edges\")\n",
    "plt.legend()\n",
    "plt.show()"
   ]
  },
  {
   "cell_type": "code",
   "execution_count": 36,
   "id": "fb977174",
   "metadata": {},
   "outputs": [
    {
     "data": {
      "text/plain": [
       "120"
      ]
     },
     "execution_count": 36,
     "metadata": {},
     "output_type": "execute_result"
    }
   ],
   "source": [
    "len(graph.nodes)"
   ]
  },
  {
   "cell_type": "code",
   "execution_count": 37,
   "id": "2162049c",
   "metadata": {},
   "outputs": [],
   "source": [
    "path, length = shortest_path(graph)\n",
    "\n",
    "q_path = [graph.nodes[id].q for id in path]"
   ]
  },
  {
   "cell_type": "code",
   "execution_count": 38,
   "id": "0377f5fe",
   "metadata": {},
   "outputs": [],
   "source": [
    "displaypath(robot,q_path,dt=0.5,viz=viz)"
   ]
  },
  {
   "cell_type": "code",
   "execution_count": 39,
   "id": "ccb40e96",
   "metadata": {},
   "outputs": [],
   "source": [
    "import pickle as pkl\n",
    "pkl.dump(q_path, open(\"path_control_2.pkl\", \"wb\"))"
   ]
  },
  {
   "cell_type": "code",
   "execution_count": 183,
   "id": "3f68ab04",
   "metadata": {},
   "outputs": [
    {
     "data": {
      "text/plain": [
       "0.6955278310644804"
      ]
     },
     "execution_count": 183,
     "metadata": {},
     "output_type": "execute_result"
    }
   ],
   "source": [
    "path, length = shortest_path(graph)\n",
    "length"
   ]
  },
  {
   "cell_type": "code",
   "execution_count": 184,
   "id": "0b97dd71",
   "metadata": {},
   "outputs": [
    {
     "data": {
      "text/plain": [
       "152"
      ]
     },
     "execution_count": 184,
     "metadata": {},
     "output_type": "execute_result"
    }
   ],
   "source": [
    "len(graph.nodes)"
   ]
  },
  {
   "cell_type": "code",
   "execution_count": 185,
   "id": "ef5bee7d",
   "metadata": {},
   "outputs": [
    {
     "data": {
      "text/plain": [
       "[0, 2, 27, 28, 29, 30, 1]"
      ]
     },
     "execution_count": 185,
     "metadata": {},
     "output_type": "execute_result"
    }
   ],
   "source": [
    "path"
   ]
  },
  {
   "cell_type": "code",
   "execution_count": 33,
   "id": "0ae1af05",
   "metadata": {},
   "outputs": [],
   "source": [
    "N=500\n",
    "q0=q0\n",
    "c0=CUBE_PLACEMENT\n",
    "qe=qe\n",
    "ce=CUBE_PLACEMENT_TARGET\n",
    "n_steps_interpol=15\n"
   ]
  },
  {
   "cell_type": "code",
   "execution_count": 37,
   "id": "c71e8aaa",
   "metadata": {},
   "outputs": [
    {
     "data": {
      "text/plain": [
       "[<__main__.Node at 0x7f939c7db100>, <__main__.Node at 0x7f939c7d8370>]"
      ]
     },
     "execution_count": 37,
     "metadata": {},
     "output_type": "execute_result"
    }
   ],
   "source": [
    "g.nodes"
   ]
  },
  {
   "cell_type": "code",
   "execution_count": 35,
   "id": "c77c0560",
   "metadata": {},
   "outputs": [
    {
     "name": "stdout",
     "output_type": "stream",
     "text": [
      "Creating sample path: \n"
     ]
    }
   ],
   "source": [
    "start_node = Node(c0, q0)\n",
    "g = Node_Graph(start_node)\n",
    "end_node = Node(ce, qe)\n",
    "end_node_id = g.add_node(end_node)\n",
    "\n",
    "prev_q = q0.copy()\n",
    "available_path = False\n",
    "print(\"Creating sample path: \")\n"
   ]
  },
  {
   "cell_type": "code",
   "execution_count": 38,
   "id": "c8525570",
   "metadata": {},
   "outputs": [],
   "source": [
    "# maybe make a better randomizer how this is done \n",
    "sampled_cube = generate_random_cube()"
   ]
  },
  {
   "cell_type": "code",
   "execution_count": 39,
   "id": "e800358a",
   "metadata": {},
   "outputs": [],
   "source": [
    "\n",
    "\n",
    "qt, success_grasp = computeqgrasppose(robot, q0, cube, sampled_cube, viz=None)\n",
    "if success_grasp:\n",
    "    closest_node_id = g.find_closest_neigbour(sampled_cube)\n",
    "    closest_node = g.nodes[closest_node_id]\n",
    "\n",
    "    qs_interpolated = compute_interpolation(robot, cube, closest_node.q, closest_node.cube, sampled_cube, n_steps=n_steps_interpol)\n",
    "\n",
    "    if len(qs_interpolated) > 1:\n",
    "        last_node_id = add_interpolations(g, qs_interpolated, closest_node_id, n_interpolations=2)\n",
    "\n",
    "        qs_interpolated_end = compute_interpolation(robot, cube, qs_interpolated[-1][1], qs_interpolated[-1][0], ce, n_steps=n_steps_interpol)\n",
    "        if len(qs_interpolated_end) > 1:\n",
    "\n",
    "            add_interpolations(g, qs_interpolated_end, last_node_id, n_interpolations=2)\n",
    "\n",
    "            if len(qs_interpolated_end) == n_steps_interpol+1:\n",
    "                available_path = True"
   ]
  },
  {
   "cell_type": "code",
   "execution_count": 41,
   "id": "1ce6f2e7",
   "metadata": {},
   "outputs": [
    {
     "ename": "NameError",
     "evalue": "name 'last_node_id' is not defined",
     "output_type": "error",
     "traceback": [
      "\u001b[0;31m---------------------------------------------------------------------------\u001b[0m",
      "\u001b[0;31mNameError\u001b[0m                                 Traceback (most recent call last)",
      "\u001b[0;32m/tmp/ipykernel_921737/341119466.py\u001b[0m in \u001b[0;36m<module>\u001b[0;34m\u001b[0m\n\u001b[0;32m----> 1\u001b[0;31m \u001b[0mlast_node_id\u001b[0m\u001b[0;34m\u001b[0m\u001b[0;34m\u001b[0m\u001b[0m\n\u001b[0m",
      "\u001b[0;31mNameError\u001b[0m: name 'last_node_id' is not defined"
     ]
    }
   ],
   "source": [
    "last_node_id"
   ]
  },
  {
   "cell_type": "code",
   "execution_count": 18,
   "id": "581c4a8b",
   "metadata": {},
   "outputs": [
    {
     "ename": "TypeError",
     "evalue": "computepath() missing 2 required positional arguments: 'cubeplacementq0' and 'cubeplacementqgoal'",
     "output_type": "error",
     "traceback": [
      "\u001b[0;31m---------------------------------------------------------------------------\u001b[0m",
      "\u001b[0;31mTypeError\u001b[0m                                 Traceback (most recent call last)",
      "\u001b[0;32m/tmp/ipykernel_921737/1486945909.py\u001b[0m in \u001b[0;36m<module>\u001b[0;34m\u001b[0m\n\u001b[0;32m----> 1\u001b[0;31m \u001b[0mpath\u001b[0m \u001b[0;34m=\u001b[0m \u001b[0mcomputepath\u001b[0m\u001b[0;34m(\u001b[0m\u001b[0mq0\u001b[0m\u001b[0;34m,\u001b[0m\u001b[0mqe\u001b[0m\u001b[0;34m,\u001b[0m\u001b[0mCUBE_PLACEMENT\u001b[0m\u001b[0;34m,\u001b[0m \u001b[0mCUBE_PLACEMENT_TARGET\u001b[0m\u001b[0;34m)\u001b[0m\u001b[0;34m\u001b[0m\u001b[0;34m\u001b[0m\u001b[0m\n\u001b[0m",
      "\u001b[0;31mTypeError\u001b[0m: computepath() missing 2 required positional arguments: 'cubeplacementq0' and 'cubeplacementqgoal'"
     ]
    }
   ],
   "source": [
    "path = computepath(q0,qe,CUBE_PLACEMENT, CUBE_PLACEMENT_TARGET)\n"
   ]
  },
  {
   "cell_type": "code",
   "execution_count": null,
   "id": "088bf936",
   "metadata": {},
   "outputs": [],
   "source": [
    "path = computepath(q0,qe,CUBE_PLACEMENT, CUBE_PLACEMENT_TARGET)\n",
    "\n",
    "displaypath(robot,path,dt=0.5,viz=viz) #you ll probably want to lower dt\n"
   ]
  },
  {
   "cell_type": "code",
   "execution_count": 104,
   "id": "2515b5dd",
   "metadata": {},
   "outputs": [
    {
     "ename": "NameError",
     "evalue": "name 'graph' is not defined",
     "output_type": "error",
     "traceback": [
      "\u001b[0;31m---------------------------------------------------------------------------\u001b[0m",
      "\u001b[0;31mNameError\u001b[0m                                 Traceback (most recent call last)",
      "\u001b[0;32m/tmp/ipykernel_908117/4073145943.py\u001b[0m in \u001b[0;36m<module>\u001b[0;34m\u001b[0m\n\u001b[0;32m----> 1\u001b[0;31m \u001b[0mpath\u001b[0m\u001b[0;34m,\u001b[0m \u001b[0mlength\u001b[0m \u001b[0;34m=\u001b[0m \u001b[0mshortest_path\u001b[0m\u001b[0;34m(\u001b[0m\u001b[0mgraph\u001b[0m\u001b[0;34m)\u001b[0m\u001b[0;34m\u001b[0m\u001b[0;34m\u001b[0m\u001b[0m\n\u001b[0m\u001b[1;32m      2\u001b[0m \u001b[0mpath\u001b[0m\u001b[0;34m\u001b[0m\u001b[0;34m\u001b[0m\u001b[0m\n",
      "\u001b[0;31mNameError\u001b[0m: name 'graph' is not defined"
     ]
    }
   ],
   "source": [
    "path, length = shortest_path(graph)\n",
    "path"
   ]
  },
  {
   "cell_type": "markdown",
   "id": "3cb8603e",
   "metadata": {},
   "source": [
    "# Part 2: Dynamics <a class=\"anchor\" id=\"part2\"></a>\n",
    "Now that you have computed a reference path for your robot, it is time to try controlling it in a dynamics simulator. We will use pybullet for this. In theory pybullet is already installed but if not you should install it with pip:\n",
    "\n",
    "\n",
    "\n"
   ]
  },
  {
   "cell_type": "code",
   "execution_count": 1,
   "id": "076739a4",
   "metadata": {},
   "outputs": [
    {
     "name": "stdout",
     "output_type": "stream",
     "text": [
      "Defaulting to user installation because normal site-packages is not writeable\n",
      "Requirement already satisfied: pybullet in /usr/lib/python3/dist-packages (3.2.5)\n",
      "\u001b[33mWARNING: Error parsing dependencies of cosignego: Invalid version: '1.1d'\u001b[0m\u001b[33m\n",
      "\u001b[0m\u001b[33mWARNING: Error parsing dependencies of devscripts: Invalid version: '2.22.1ubuntu1'\u001b[0m\u001b[33m\n",
      "\u001b[0m\u001b[33mWARNING: Error parsing dependencies of reportbug: Invalid version: '11.4.1ubuntu1'\u001b[0m\u001b[33m\n",
      "\u001b[0m\n",
      "\u001b[1m[\u001b[0m\u001b[34;49mnotice\u001b[0m\u001b[1;39;49m]\u001b[0m\u001b[39;49m A new release of pip is available: \u001b[0m\u001b[31;49m24.2\u001b[0m\u001b[39;49m -> \u001b[0m\u001b[32;49m24.3.1\u001b[0m\n",
      "\u001b[1m[\u001b[0m\u001b[34;49mnotice\u001b[0m\u001b[1;39;49m]\u001b[0m\u001b[39;49m To update, run: \u001b[0m\u001b[32;49mpip install --upgrade pip\u001b[0m\n"
     ]
    }
   ],
   "source": [
    "!pip install pybullet"
   ]
  },
  {
   "cell_type": "markdown",
   "id": "953d90cc",
   "metadata": {},
   "source": [
    "\n",
    "This second part consists in two tasks. First, converting your path into a time-parametrised trajectory, then tracking this trajectory using the control law of your choice.\n",
    "\n",
    "Again, you are free to use any method that you want to both tasks. "
   ]
  },
  {
   "cell_type": "markdown",
   "id": "32cf7f31",
   "metadata": {},
   "source": [
    "## I. From a path to a trajectory <a class=\"anchor\" id=\"TO\"></a>\n",
    "The first step is to parametrise your path into a time-varying trajectory that you may want to track.\n",
    "Depending on your choice of a control law, this trajectory could be in the configuration space, the task space, or even something else.\n",
    "\n",
    "I do not provide a template for this step, you are free to use any method that you see fit, so if you don't want to be bothered you can simply manually parametrise your trajectory (which is the level 0 described thereafter). However, you can score bonus marks if you go with more advanced methods. This will be described in the coming marking criteria. \n",
    "\n",
    "\n",
    "### 1. level 0: Manually set a velocity profile\n",
    "Come up with a time parametrisation for your path that intuitively makes sense and move on to the control part! To do this write an interpolation function that given a certain $t$ will return a configuration in your path as well as the corresponding velocity and accelerations desired at that time. I advise to work out something that is such that the starting and final velocities are 0. \n",
    "\n",
    "### 2. level 1: QP programming without collision constraints (covered in next week's lecture)\n",
    "What I would recommend is to use quadratic programming to solve a least square problem that fits at best the path that you computed while satisfying constraints.\n",
    "\n",
    "The class Bezier defined in [bezier.py](https://github.com/ediadvancedrobotics/lab/blob/main/bezier.py) might prove useful.\n",
    "Take a look at the [primer on Bezier curves](https://pomax.github.io/bezierinfo/) if you want more info on these methods. An example of use is provided in [control.py](https://github.com/ediadvancedrobotics/lab/blob/1d00a1c79acbcb7248df1b17cf3aaac7f8c39a8b/control.py#L47).\n",
    "\n",
    "The motivations for using Bezier curves are multiple:\n",
    "\n",
    "+ First, they are strictly equivalent to polynomials, which means that the trajectory you will compute will be continuous and infinitely differentiable.\n",
    "\n",
    "+ Secondly, the initial and terminal conditions are easy to specify: the velocity at the start / end only depends on the first/last two control points, and the accelerations only on the the first/last three control points. If you choose your first three control points to be strictly equal for instance, the initial velocity and acceleration of your trajectory will be 0.\n",
    "\n",
    "+ Thirdly, a Bezier curve lies completely in the convex hull of its control points. What this means for optimisation is that if you define linear inequality constraints on the control points of the curve, you have the guarantee that that every point on the curve satisfies these constraints. This will allow you to easily specify constraints on the derivatives\n",
    "\n",
    "If you choose to go that way, you can decide that your optimisation variables are the control points of your Bezier curve; you can then linearly define the value of the trajectory at each time step as a linear combination of these control points and write your cost function as a function of these points.\n",
    "\n",
    "\n",
    "In this approach, the idea is not to explicitely address the collision constraints. You will assume that if you track your path well enough you will avoid collisions. This is commonly done in robotics.\n",
    "\n",
    "**Optional: the ndcurves library**\n",
    "\n",
    "If you are interested in trajectory optimisation, you could check out [this tutorial I wrote for the ndcurves library](https://github.com/loco-3d/ndcurves/blob/master/python/test/sandbox/test.ipynb). While the API is different the concepts described are the same. **Note that I m not necessarily suggesting to use ndcurves, simply to look at the tutorials to understand the ideas and replicate this.** Still, if you want to you can decide to directly use ndcurves. It has an api a bit more complex that the simple Bezier class I provided as it is more powerful, so it is for you to decide, there is no good or bad solution here.\n",
    "\n",
    "\n",
    "\n",
    "#### Time parametrisation:\n",
    "If you follow the guidelines from the tutorial, the optimisation will give you a smooth trajectory, but by default it will have a duration of 1. You can easily add velocity constraints and include time as a variable in your problem . You could also add acceleration constraints and ignore velocities by using $t^2$ as a variable instead of $t$. We can discuss this on Piazza. You can't consider both velocity and acceleration constraints otherwise your problem will become non-linear (do you see why ?)\n",
    "\n",
    "#### Handling grasping constraints:\n",
    "If you are planning a trajectory just for the effectors then it is really easy to handle these constraints: you can just plan for the cube and then deduce the effector placements at each step.\n",
    "It might be harder to do it for a configuration space trajectory, but it is not necessarily required:\n",
    "I believe that if the tracked trajectory is good enough you should not need to handle the grasping constraints as accurately as this will be fixed by the control law. \n",
    "If you want to handle these constraints, there are a variety of post processes that you can choose to implement this, but though the problem becomes non-linear again... I suggest to avoid this unless it really proves useful (again I think not, or at least it was not necessary for me).\n",
    "\n",
    "\n",
    "\n",
    "### 3. level 2: Handling collision constraints\n",
    "First of all, don't go there in the first instance. Wait until you are done with the complete lab to decide whether you are interested in doing this. You can try to handle collisions in a variety of ways that we can discuss on Piazza. The straightforward approach is to write a non linear program that will handle this as we have done before. Because you have a reference motion that is collision free, you may get away with a NLP to refine the trajectory obtained when solving level 1 so as to avoid collisions."
   ]
  },
  {
   "cell_type": "markdown",
   "id": "d98597d2",
   "metadata": {},
   "source": [
    "## II. Implementing a torque control law <a class=\"anchor\" id=\"control\"></a>\n",
    "Ok now, you have everything that you need to grasp that box and move it to its target.\n",
    "\n",
    "Again, we are going to use pybullet to control our robot. Pybullet is a dynamics simulator which is used by roboticists to test the behaviours of their controllers before deploying them on their robots. It was originally developed for video games, and depending on your application it is not always considered as very accurate. However for manipulators it works well.\n",
    "\n",
    "### Interaction with Pybullet \n",
    "\n",
    "The philosophy I propose to interact with Pybullet is implemented in the [control.py main function](https://github.com/ediadvancedrobotics/lab/blob/1d00a1c79acbcb7248df1b17cf3aaac7f8c39a8b/control.py#L61):\n",
    "\n",
    "+ Set the initial configuration of your robot in pybullet (method setqsim)\n",
    "\n",
    "+ At each frame:\n",
    "\n",
    "    - get the current state of the robot in the simulator (method getpybulletstate)\n",
    "    \n",
    "    - work out all the computations in pinocchio\n",
    "    \n",
    "    - send a torque command to the simulator to update the state of the robot (method step)\n",
    "\n",
    "Pybullet is configured here to work as a step-by-step simulation, as opposed to real time. Everytime you call the step method, the simulation integrates DT seconds of time, with DT defined in config.py.\n",
    "\n",
    "In tools.py, I have added a method [rununtil](https://github.com/ediadvancedrobotics/lab/blob/1d00a1c79acbcb7248df1b17cf3aaac7f8c39a8b/tools.py#L102) that you can use to update the simulation at a frequency that corresponds to a realtime mode.\n",
    "\n",
    "If you run control.py, assuming the initial state is the robot.q0 configuration, the first thing you will see is a very chaotic behaviour from the robot: indeed, as it starts in collision, the simulator will apply really high forces to compense the penetration violation.\n",
    "\n",
    "If you initialise correctly the inital state, in the absence of torque command the robot arms will fall under the effect of gravity.\n",
    "\n",
    "The main methods needed to work with pybullet are defined in the Simulation class defined in [setup_pybullet.py](https://github.com/ediadvancedrobotics/lab/blob/1d00a1c79acbcb7248df1b17cf3aaac7f8c39a8b/setup_pybullet.py). A few others are defined in the base class Simulation_base but I don't expect you will need them.\n",
    "\n",
    "The helper method to load the robot in both pinocchio and pybullet environments is setupwithpybullet. If you still want to work with meshcast in parallel (for some strange reason that I can't explain I found it convenient) you can instead call setupwithpybulletandmeshcat.\n",
    "\n",
    "\n",
    "### Optional task 0: Control without the cube\n",
    "To test your controller, it might be a good idea to first control the motion of the effectors without grasping the cube. Generate a simple trajectory that brings the effectors above the starting position and implement the control law to achieve the motion. Regarding the gains, you definitely have the options to tune them individually for each joint (and you would have do this on the actual robot). When I programmed the lab I just used $K_p = 300$ and $K_d = 2 \\sqrt(K_p)$ for all joints and it worked fine. Once you ll have verified that you obtain a satisfying behaviour, you'll be ready to move to the actual task.\n",
    "\n",
    "### The actual task\n",
    "Proceed as you wish to have the robot grasp the cube and then bring it to the target location. It does not matter to me how this is achieved in terms of the motion I see, as long as some grasping (ie the robot is holding the cube above the table for some relevant period of time) happens. You can push the cube to align it in the end if you need. \n",
    "\n",
    "To achieve the behaviour, you will need to apply a control law. Everything here is set for you to control the robot in torque, which I do believe is the easy way to go. If you want to try controling this using position or velocity control, this is also an option (actually the real Nextage robot is only position controlled).\n",
    "\n",
    "The recommended way, in my opinion, is to apply inverse dynamics control to track the trajectory while applying a linear force to the cube with both hands.\n",
    "\n",
    "This force control law should naturally cope with the alignment errors and have the effect of attracting the effectors to the cube \n",
    "\n"
   ]
  },
  {
   "cell_type": "code",
   "execution_count": 1,
   "id": "9d32afff",
   "metadata": {},
   "outputs": [],
   "source": [
    "from bezier import Bezier"
   ]
  },
  {
   "cell_type": "code",
   "execution_count": 2,
   "id": "852dbe7b",
   "metadata": {},
   "outputs": [],
   "source": [
    "import numpy as np\n",
    "import matplotlib.pyplot as plt"
   ]
  },
  {
   "cell_type": "code",
   "execution_count": 24,
   "id": "18bd8a27",
   "metadata": {},
   "outputs": [],
   "source": [
    "array = np.array([[0,0], [0,1], [0,2], [3,3], [0,4]])\n"
   ]
  },
  {
   "cell_type": "code",
   "execution_count": 25,
   "id": "e624c271",
   "metadata": {},
   "outputs": [],
   "source": [
    "bezier = Bezier(array)"
   ]
  },
  {
   "cell_type": "code",
   "execution_count": 26,
   "id": "d4561078",
   "metadata": {},
   "outputs": [],
   "source": [
    "y = []\n",
    "for i in range(1, 100):\n",
    "    step = i/100\n",
    "    y.append(bezier(step))"
   ]
  },
  {
   "cell_type": "code",
   "execution_count": 27,
   "id": "a3ba080f",
   "metadata": {},
   "outputs": [
    {
     "data": {
      "text/plain": [
       "[array([0.      , 0.030001]),\n",
       " array([0.      , 0.060008]),\n",
       " array([0.      , 0.090027]),\n",
       " array([0.      , 0.120064]),\n",
       " array([0.      , 0.150125]),\n",
       " array([0.      , 0.180216]),\n",
       " array([0.      , 0.210343]),\n",
       " array([0.      , 0.240512]),\n",
       " array([0.      , 0.270729]),\n",
       " array([0.   , 0.301]),\n",
       " array([0.      , 0.331331]),\n",
       " array([0.      , 0.361728]),\n",
       " array([0.      , 0.392197]),\n",
       " array([0.      , 0.422744]),\n",
       " array([0.      , 0.453375]),\n",
       " array([0.      , 0.484096]),\n",
       " array([0.      , 0.514913]),\n",
       " array([0.      , 0.545832]),\n",
       " array([0.      , 0.576859]),\n",
       " array([0.   , 0.608]),\n",
       " array([0.      , 0.639261]),\n",
       " array([0.      , 0.670648]),\n",
       " array([0.      , 0.702167]),\n",
       " array([0.      , 0.733824]),\n",
       " array([0.      , 0.765625]),\n",
       " array([0.      , 0.797576]),\n",
       " array([0.      , 0.829683]),\n",
       " array([0.      , 0.861952]),\n",
       " array([0.      , 0.894389]),\n",
       " array([0.   , 0.927]),\n",
       " array([0.      , 0.959791]),\n",
       " array([0.      , 0.992768]),\n",
       " array([0.      , 1.025937]),\n",
       " array([0.      , 1.059304]),\n",
       " array([0.      , 1.092875]),\n",
       " array([0.      , 1.126656]),\n",
       " array([0.      , 1.160653]),\n",
       " array([0.      , 1.194872]),\n",
       " array([0.      , 1.229319]),\n",
       " array([0.   , 1.264]),\n",
       " array([0.      , 1.298921]),\n",
       " array([0.      , 1.334088]),\n",
       " array([0.      , 1.369507]),\n",
       " array([0.      , 1.405184]),\n",
       " array([0.      , 1.441125]),\n",
       " array([0.      , 1.477336]),\n",
       " array([0.      , 1.513823]),\n",
       " array([0.      , 1.550592]),\n",
       " array([0.      , 1.587649]),\n",
       " array([0.   , 1.625]),\n",
       " array([0.      , 1.662651]),\n",
       " array([0.      , 1.700608]),\n",
       " array([0.      , 1.738877]),\n",
       " array([0.      , 1.777464]),\n",
       " array([0.      , 1.816375]),\n",
       " array([0.      , 1.855616]),\n",
       " array([0.      , 1.895193]),\n",
       " array([0.      , 1.935112]),\n",
       " array([0.      , 1.975379]),\n",
       " array([0.   , 2.016]),\n",
       " array([0.      , 2.056981]),\n",
       " array([0.      , 2.098328]),\n",
       " array([0.      , 2.140047]),\n",
       " array([0.      , 2.182144]),\n",
       " array([0.      , 2.224625]),\n",
       " array([0.      , 2.267496]),\n",
       " array([0.      , 2.310763]),\n",
       " array([0.      , 2.354432]),\n",
       " array([0.      , 2.398509]),\n",
       " array([0.   , 2.443]),\n",
       " array([0.      , 2.487911]),\n",
       " array([0.      , 2.533248]),\n",
       " array([0.      , 2.579017]),\n",
       " array([0.      , 2.625224]),\n",
       " array([0.      , 2.671875]),\n",
       " array([0.      , 2.718976]),\n",
       " array([0.      , 2.766533]),\n",
       " array([0.      , 2.814552]),\n",
       " array([0.      , 2.863039]),\n",
       " array([0.   , 2.912]),\n",
       " array([0.      , 2.961441]),\n",
       " array([0.      , 3.011368]),\n",
       " array([0.      , 3.061787]),\n",
       " array([0.      , 3.112704]),\n",
       " array([0.      , 3.164125]),\n",
       " array([0.      , 3.216056]),\n",
       " array([0.      , 3.268503]),\n",
       " array([0.      , 3.321472]),\n",
       " array([0.      , 3.374969]),\n",
       " array([0.   , 3.429]),\n",
       " array([0.      , 3.483571]),\n",
       " array([0.      , 3.538688]),\n",
       " array([0.      , 3.594357]),\n",
       " array([0.      , 3.650584]),\n",
       " array([0.      , 3.707375]),\n",
       " array([0.      , 3.764736]),\n",
       " array([0.      , 3.822673]),\n",
       " array([0.      , 3.881192]),\n",
       " array([0.      , 3.940299])]"
      ]
     },
     "execution_count": 27,
     "metadata": {},
     "output_type": "execute_result"
    }
   ],
   "source": [
    "y"
   ]
  },
  {
   "cell_type": "code",
   "execution_count": null,
   "id": "def59f4f",
   "metadata": {},
   "outputs": [],
   "source": []
  }
 ],
 "metadata": {
  "kernelspec": {
   "display_name": "Python 3 (ipykernel)",
   "language": "python",
   "name": "python3"
  },
  "language_info": {
   "codemirror_mode": {
    "name": "ipython",
    "version": 3
   },
   "file_extension": ".py",
   "mimetype": "text/x-python",
   "name": "python",
   "nbconvert_exporter": "python",
   "pygments_lexer": "ipython3",
   "version": "3.12.2"
  }
 },
 "nbformat": 4,
 "nbformat_minor": 5
}
